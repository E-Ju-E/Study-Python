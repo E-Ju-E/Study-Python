{
  "nbformat": 4,
  "nbformat_minor": 0,
  "metadata": {
    "colab": {
      "provenance": [],
      "include_colab_link": true
    },
    "kernelspec": {
      "name": "python3",
      "display_name": "Python 3"
    },
    "language_info": {
      "name": "python"
    }
  },
  "cells": [
    {
      "cell_type": "markdown",
      "metadata": {
        "id": "view-in-github",
        "colab_type": "text"
      },
      "source": [
        "<a href=\"https://colab.research.google.com/github/E-Ju-E/Study-Python/blob/main/11%EA%B0%95_%EC%8B%A4%EC%8A%B5.ipynb\" target=\"_parent\"><img src=\"https://colab.research.google.com/assets/colab-badge.svg\" alt=\"Open In Colab\"/></a>"
      ]
    },
    {
      "cell_type": "markdown",
      "source": [
        "# 11강 실습"
      ],
      "metadata": {
        "id": "EtjZiTaxLjdH"
      }
    },
    {
      "cell_type": "markdown",
      "source": [
        "**11강 1절 모듈의 이해**"
      ],
      "metadata": {
        "id": "dM5Jl78KLnIG"
      }
    },
    {
      "cell_type": "markdown",
      "source": [
        "dir, help 함수 테스트"
      ],
      "metadata": {
        "id": "jLudepg7Lv6Y"
      }
    },
    {
      "cell_type": "code",
      "execution_count": null,
      "metadata": {
        "id": "QjtNEdkcynR7"
      },
      "outputs": [],
      "source": [
        "import math\n",
        "dir(math)"
      ]
    },
    {
      "cell_type": "code",
      "source": [
        "import math\n",
        "help()"
      ],
      "metadata": {
        "id": "J8dT5KZz9U3p"
      },
      "execution_count": null,
      "outputs": []
    },
    {
      "cell_type": "markdown",
      "source": [
        "math 모듈을 사용한 원뿔 계산 프로그램"
      ],
      "metadata": {
        "id": "BZcxx1KcM2eF"
      }
    },
    {
      "cell_type": "code",
      "source": [
        "# 원뿔 클래스 정의\n",
        "\n",
        "import math\n",
        "\n",
        "class Cone :\n",
        "    def __init__(self, radius = 20, height = 30):\n",
        "        self.r = radius\n",
        "        self.h = height\n",
        "\n",
        "    def get_vol(self):\n",
        "        return 1/3 * math.pi * self.r ** 2 * self.h\n",
        "\n",
        "    def get_surf(self):\n",
        "        return 3.14 * self.r ** 2 + math.pi * self.r * self.h\n"
      ],
      "metadata": {
        "id": "ZJwXQoQIM7uw"
      },
      "execution_count": 15,
      "outputs": []
    },
    {
      "cell_type": "markdown",
      "source": [
        "**11강 2절 유용한 모듈**"
      ],
      "metadata": {
        "id": "MwGVxn3sLy8T"
      }
    },
    {
      "cell_type": "markdown",
      "source": [
        "두 변의 길이 a, b와 끼인각 α인 삼각형의 넓이를 구하는 프로그램을 작성하시오.\n"
      ],
      "metadata": {
        "id": "A2gzGR3nM8nI"
      }
    },
    {
      "cell_type": "code",
      "source": [
        "# 혼자 미리 풀어보기\n",
        "\n",
        "import math\n",
        "\n",
        "a = int(input(\"삼각형 a변의 길이 입력: \"))\n",
        "b = int(input(\"삼각형 b변의 길이 입력: \"))\n",
        "α = int(input(\"끼인각 α의 길이 입력: \"))\n",
        "\n",
        "tr =  1/2 * a * b * math.sin(math.radians(α))\n",
        "print(\"삼각형의 넓이는\", tr, \"입니다.\")"
      ],
      "metadata": {
        "id": "CK6KXvIv3IZV",
        "colab": {
          "base_uri": "https://localhost:8080/"
        },
        "outputId": "753d7d69-e616-4a72-8a8f-2c8271fdd802"
      },
      "execution_count": 8,
      "outputs": [
        {
          "output_type": "stream",
          "name": "stdout",
          "text": [
            "삼각형 a변의 길이 입력: 10\n",
            "삼각형 b변의 길이 입력: 20\n",
            "끼인각 α의 길이 입력: 60\n",
            "삼각형의 넓이는 86.60254037844386 입니다.\n"
          ]
        }
      ]
    },
    {
      "cell_type": "code",
      "source": [
        "# 해설 1\n",
        "\n",
        "import math\n",
        "\n",
        "a, b = 10, 20\n",
        "area = 1 / 2 * a * b * math.sin(math.radians(60))\n",
        "print(area)"
      ],
      "metadata": {
        "colab": {
          "base_uri": "https://localhost:8080/"
        },
        "id": "qH9iBfTbYphT",
        "outputId": "1b997ab4-0f80-4440-f722-fadcd9b6fe7a"
      },
      "execution_count": 7,
      "outputs": [
        {
          "output_type": "stream",
          "name": "stdout",
          "text": [
            "86.60254037844386\n"
          ]
        }
      ]
    },
    {
      "cell_type": "code",
      "source": [
        "# 해설 2\n",
        "\n",
        "import math\n",
        "from math import sin\n",
        "\n",
        "a, b = 10, 20\n",
        "area = 1 / 2 * a * b * sin(math.radians(60))\n",
        "print(area)"
      ],
      "metadata": {
        "colab": {
          "base_uri": "https://localhost:8080/"
        },
        "id": "igfRUspvIXxr",
        "outputId": "2d71308e-2ed6-47b5-ac7e-bfe2fffdc8cc"
      },
      "execution_count": 9,
      "outputs": [
        {
          "output_type": "stream",
          "name": "stdout",
          "text": [
            "86.60254037844386\n"
          ]
        }
      ]
    },
    {
      "cell_type": "markdown",
      "source": [
        "1 ~ 45 숫자 6개를 입력 받아 당첨 숫자와\n",
        "비교하는 프로그램을 작성하시오.\n"
      ],
      "metadata": {
        "id": "UP6aKi22RoxB"
      }
    },
    {
      "cell_type": "code",
      "source": [
        "import random\n",
        "\n",
        "guess_str = input(\" 1~45 사이의 숫자 6개를 쉼표+띄어쓰기로 분리하여 입력하시오.: \").split(\", \")\n",
        "guess_list = list()\n",
        "\n",
        "for i in guess_str:\n",
        "    guess_list.append(int(i))\n",
        "\n",
        "lotto_list = random.sample(range(1, 46, 1), 6)\n",
        "print(\"예상 번호는\", guess_list, \"입니다.\")\n",
        "print(\"추첨 번호는\", lotto_list, \"입니다.\")\n",
        "\n",
        "hit_count = 0\n",
        "\n",
        "for guess in guess_list:\n",
        "    if guess in lotto_list:\n",
        "        hit_count = hit_count + 1\n",
        "\n",
        "print(\"축하합니다.\" + str(hit_count) + \"개 맞혔습니다.\")"
      ],
      "metadata": {
        "colab": {
          "base_uri": "https://localhost:8080/"
        },
        "id": "EWemBzDgL1GQ",
        "outputId": "45e862e4-5c3d-4ddd-d5bf-1bcbb46f2d58"
      },
      "execution_count": 25,
      "outputs": [
        {
          "output_type": "stream",
          "name": "stdout",
          "text": [
            " 1~45 사이의 숫자 6개를 쉼표+띄어쓰기로 분리하여 입력하시오.: 1, 3, 10, 16, 22, 43\n",
            "예상 번호는 [1, 3, 10, 16, 22, 43] 입니다.\n",
            "추첨 번호는 [9, 6, 22, 14, 42, 16] 입니다.\n",
            "축하합니다.2개 맞혔습니다.\n"
          ]
        }
      ]
    },
    {
      "cell_type": "markdown",
      "source": [
        "20번의 기회 안에 1 ~ 1000 사이의 숫자를\n",
        "맞히는 스무고개 프로그램을 작성하시오.\n"
      ],
      "metadata": {
        "id": "dZ3mQM7hR7z5"
      }
    },
    {
      "cell_type": "code",
      "source": [
        "# 혼자 미리 풀어보기\n",
        "import random\n",
        "\n",
        "user = int(input(\"1~1000 사이의 숫자를 맞혀보세요(기회는 20번입니다.): \"))\n",
        "com = random.randint(1, 1001)\n",
        "i = 1\n",
        "\n",
        "while user != com and i < 20:\n",
        "    if user > com:\n",
        "        user = int(input(\"더 작은 수를 입력하세요.: \"))\n",
        "        i = i + 1\n",
        "    else:\n",
        "        user = int(input(\"더 큰 수를 입력하세요.: \"))\n",
        "        i = i + 1\n",
        "\n",
        "if user == com and i == 1:\n",
        "    print(\"대단해요! 한번에 맞혔습니다!\")\n",
        "elif user == com:\n",
        "    print(\"축하합니다! 맞혔습니다!\")\n",
        "else:\n",
        "    print(\"아쉽지만 틀렸습니다...20번의 기회를 다 썼습니다.\")"
      ],
      "metadata": {
        "colab": {
          "base_uri": "https://localhost:8080/"
        },
        "id": "11yg51r2YsH5",
        "outputId": "0c22bab4-f24f-42f7-ae3f-bfab32d570ea"
      },
      "execution_count": 57,
      "outputs": [
        {
          "output_type": "stream",
          "name": "stdout",
          "text": [
            "1~1000 사이의 숫자를 맞혀보세요(기회는 20번입니다.): 500\n",
            "더 큰 수를 입력하세요.: 700\n",
            "더 큰 수를 입력하세요.: 800\n",
            "더 작은 수를 입력하세요.: 750\n",
            "더 큰 수를 입력하세요.: 770\n",
            "더 큰 수를 입력하세요.: 780\n",
            "더 큰 수를 입력하세요.: 790\n",
            "더 큰 수를 입력하세요.: 795\n",
            "더 작은 수를 입력하세요.: 793\n",
            "더 작은 수를 입력하세요.: 792\n",
            "축하합니다! 맞혔습니다!\n"
          ]
        }
      ]
    },
    {
      "cell_type": "code",
      "source": [
        "# 해설\n",
        "import random\n",
        "\n",
        "hit_number = random.randint(1, 1001)\n",
        "\n",
        "guess_count_list = range(1, 21, 1)\n",
        "\n",
        "passfail = False\n",
        "\n",
        "for guess_count in guess_count_list:\n",
        "\n",
        "    guess = int(input(\"숫자를 맞혀보세요(\" + str(guess_count)+\"번째 시도)\" ))\n",
        "\n",
        "    if hit_number == guess:\n",
        "        passfail = True\n",
        "        # 반복을 더 이상할 필요가 없을 때 쓰는 break;\n",
        "        break;\n",
        "    elif hit_number > guess:\n",
        "        print(str(guess) + \"보다 큽니다.\", end=\"\")\n",
        "    else:\n",
        "        print(str(guess) + \"보다 작습니다.\", end=\"\")\n",
        "\n",
        "if passfail == True:\n",
        "    print(\"맞혔습니다. 축하합니다.\")\n",
        "else:\n",
        "    print(\"모든 기회를 다 사용하셨습니다. 다음에 다시 도전하세요.\")"
      ],
      "metadata": {
        "colab": {
          "base_uri": "https://localhost:8080/"
        },
        "id": "vneBkaIv86LE",
        "outputId": "e9eb2ee2-95ca-4380-822e-003f8a5af46d"
      },
      "execution_count": 56,
      "outputs": [
        {
          "output_type": "stream",
          "name": "stdout",
          "text": [
            "숫자를 맞혀보세요(1번째 시도)500\n",
            "500보다 작습니다.숫자를 맞혀보세요(2번째 시도)300\n",
            "300보다 큽니다.숫자를 맞혀보세요(3번째 시도)400\n",
            "400보다 작습니다.숫자를 맞혀보세요(4번째 시도)350\n",
            "350보다 큽니다.숫자를 맞혀보세요(5번째 시도)370\n",
            "370보다 큽니다.숫자를 맞혀보세요(6번째 시도)380\n",
            "380보다 작습니다.숫자를 맞혀보세요(7번째 시도)375\n",
            "375보다 큽니다.숫자를 맞혀보세요(8번째 시도)377\n",
            "맞혔습니다. 축하합니다.\n"
          ]
        }
      ]
    },
    {
      "cell_type": "markdown",
      "source": [
        "5000보다 작은 소수 찾기 프로그램\n",
        ": 1~5000 사이에 소수(prime number)를 찾고 실행 시간을 출력하는 프로그램을 작성하시오."
      ],
      "metadata": {
        "id": "EdHUe1hr3bho"
      }
    },
    {
      "cell_type": "code",
      "source": [
        "import time\n",
        "\n",
        "start_time = time.time()\n",
        "\n",
        "def is_prime(x):\n",
        "    for i in range(2, x):\n",
        "        if x % i == 0:\n",
        "            return False\n",
        "    return True\n",
        "\n",
        "prime_count = 0\n",
        "\n",
        "for i in range(2, 5001):\n",
        "    if is_prime(i):\n",
        "        prime_count = prime_count + 1\n",
        "        print(i, end = \",\")\n",
        "\n",
        "\n",
        "end_time = time.time()\n",
        "print(\"\\n\", end_time - start_time, \"초 실행했습니다.\")\n"
      ],
      "metadata": {
        "id": "b0odUfVq3bNF",
        "colab": {
          "base_uri": "https://localhost:8080/"
        },
        "outputId": "89a0cc38-031b-4b1b-c2c6-1bce1e648a03"
      },
      "execution_count": 65,
      "outputs": [
        {
          "output_type": "stream",
          "name": "stdout",
          "text": [
            "2,3,5,7,11,13,17,19,23,29,31,37,41,43,47,53,59,61,67,71,73,79,83,89,97,101,103,107,109,113,127,131,137,139,149,151,157,163,167,173,179,181,191,193,197,199,211,223,227,229,233,239,241,251,257,263,269,271,277,281,283,293,307,311,313,317,331,337,347,349,353,359,367,373,379,383,389,397,401,409,419,421,431,433,439,443,449,457,461,463,467,479,487,491,499,503,509,521,523,541,547,557,563,569,571,577,587,593,599,601,607,613,617,619,631,641,643,647,653,659,661,673,677,683,691,701,709,719,727,733,739,743,751,757,761,769,773,787,797,809,811,821,823,827,829,839,853,857,859,863,877,881,883,887,907,911,919,929,937,941,947,953,967,971,977,983,991,997,1009,1013,1019,1021,1031,1033,1039,1049,1051,1061,1063,1069,1087,1091,1093,1097,1103,1109,1117,1123,1129,1151,1153,1163,1171,1181,1187,1193,1201,1213,1217,1223,1229,1231,1237,1249,1259,1277,1279,1283,1289,1291,1297,1301,1303,1307,1319,1321,1327,1361,1367,1373,1381,1399,1409,1423,1427,1429,1433,1439,1447,1451,1453,1459,1471,1481,1483,1487,1489,1493,1499,1511,1523,1531,1543,1549,1553,1559,1567,1571,1579,1583,1597,1601,1607,1609,1613,1619,1621,1627,1637,1657,1663,1667,1669,1693,1697,1699,1709,1721,1723,1733,1741,1747,1753,1759,1777,1783,1787,1789,1801,1811,1823,1831,1847,1861,1867,1871,1873,1877,1879,1889,1901,1907,1913,1931,1933,1949,1951,1973,1979,1987,1993,1997,1999,2003,2011,2017,2027,2029,2039,2053,2063,2069,2081,2083,2087,2089,2099,2111,2113,2129,2131,2137,2141,2143,2153,2161,2179,2203,2207,2213,2221,2237,2239,2243,2251,2267,2269,2273,2281,2287,2293,2297,2309,2311,2333,2339,2341,2347,2351,2357,2371,2377,2381,2383,2389,2393,2399,2411,2417,2423,2437,2441,2447,2459,2467,2473,2477,2503,2521,2531,2539,2543,2549,2551,2557,2579,2591,2593,2609,2617,2621,2633,2647,2657,2659,2663,2671,2677,2683,2687,2689,2693,2699,2707,2711,2713,2719,2729,2731,2741,2749,2753,2767,2777,2789,2791,2797,2801,2803,2819,2833,2837,2843,2851,2857,2861,2879,2887,2897,2903,2909,2917,2927,2939,2953,2957,2963,2969,2971,2999,3001,3011,3019,3023,3037,3041,3049,3061,3067,3079,3083,3089,3109,3119,3121,3137,3163,3167,3169,3181,3187,3191,3203,3209,3217,3221,3229,3251,3253,3257,3259,3271,3299,3301,3307,3313,3319,3323,3329,3331,3343,3347,3359,3361,3371,3373,3389,3391,3407,3413,3433,3449,3457,3461,3463,3467,3469,3491,3499,3511,3517,3527,3529,3533,3539,3541,3547,3557,3559,3571,3581,3583,3593,3607,3613,3617,3623,3631,3637,3643,3659,3671,3673,3677,3691,3697,3701,3709,3719,3727,3733,3739,3761,3767,3769,3779,3793,3797,3803,3821,3823,3833,3847,3851,3853,3863,3877,3881,3889,3907,3911,3917,3919,3923,3929,3931,3943,3947,3967,3989,4001,4003,4007,4013,4019,4021,4027,4049,4051,4057,4073,4079,4091,4093,4099,4111,4127,4129,4133,4139,4153,4157,4159,4177,4201,4211,4217,4219,4229,4231,4241,4243,4253,4259,4261,4271,4273,4283,4289,4297,4327,4337,4339,4349,4357,4363,4373,4391,4397,4409,4421,4423,4441,4447,4451,4457,4463,4481,4483,4493,4507,4513,4517,4519,4523,4547,4549,4561,4567,4583,4591,4597,4603,4621,4637,4639,4643,4649,4651,4657,4663,4673,4679,4691,4703,4721,4723,4729,4733,4751,4759,4783,4787,4789,4793,4799,4801,4813,4817,4831,4861,4871,4877,4889,4903,4909,4919,4931,4933,4937,4943,4951,4957,4967,4969,4973,4987,4993,4999,\n",
            " 0.3738861083984375 초 실행했습니다.\n"
          ]
        }
      ]
    }
  ]
}