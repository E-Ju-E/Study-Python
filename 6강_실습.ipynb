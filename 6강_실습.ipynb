{
  "nbformat": 4,
  "nbformat_minor": 0,
  "metadata": {
    "colab": {
      "provenance": [],
      "include_colab_link": true
    },
    "kernelspec": {
      "name": "python3",
      "display_name": "Python 3"
    },
    "language_info": {
      "name": "python"
    }
  },
  "cells": [
    {
      "cell_type": "markdown",
      "metadata": {
        "id": "view-in-github",
        "colab_type": "text"
      },
      "source": [
        "<a href=\"https://colab.research.google.com/github/E-Ju-E/Study-Python/blob/main/6%EA%B0%95_%EC%8B%A4%EC%8A%B5.ipynb\" target=\"_parent\"><img src=\"https://colab.research.google.com/assets/colab-badge.svg\" alt=\"Open In Colab\"/></a>"
      ]
    },
    {
      "cell_type": "markdown",
      "source": [
        "# 6장 1절"
      ],
      "metadata": {
        "id": "hckgpz65oDBv"
      }
    },
    {
      "cell_type": "code",
      "source": [
        "light_on = 3 > 6\n",
        "print(light_on)"
      ],
      "metadata": {
        "id": "HkYohbVUgHkx",
        "outputId": "5012c076-3543-4665-8323-da257de1a36a",
        "colab": {
          "base_uri": "https://localhost:8080/"
        }
      },
      "execution_count": null,
      "outputs": [
        {
          "output_type": "stream",
          "name": "stdout",
          "text": [
            "False\n"
          ]
        }
      ]
    },
    {
      "cell_type": "code",
      "source": [
        "suf = 10\n",
        "vol = 20\n",
        "isStop = suf == vol\n",
        "print(isStop)"
      ],
      "metadata": {
        "id": "Y8hPsPP6gxxd",
        "outputId": "83818931-9a53-48af-e32f-a0e6d7ef9cf2",
        "colab": {
          "base_uri": "https://localhost:8080/"
        }
      },
      "execution_count": null,
      "outputs": [
        {
          "output_type": "stream",
          "name": "stdout",
          "text": [
            "False\n"
          ]
        }
      ]
    },
    {
      "cell_type": "code",
      "source": [
        "temp = 20\n",
        "fruit = \"apple\"\n",
        "\n",
        "print(not temp <= 27)"
      ],
      "metadata": {
        "id": "2cL-fviqjtHK",
        "outputId": "29c1441a-2297-4540-eb9e-0f23330cba6c",
        "colab": {
          "base_uri": "https://localhost:8080/"
        }
      },
      "execution_count": null,
      "outputs": [
        {
          "output_type": "stream",
          "name": "stdout",
          "text": [
            "False\n"
          ]
        }
      ]
    },
    {
      "cell_type": "code",
      "execution_count": null,
      "metadata": {
        "id": "ZW1w8qQHoAm3",
        "outputId": "98bb39b7-3280-49af-fa8e-4e9eaa11e812",
        "colab": {
          "base_uri": "https://localhost:8080/"
        }
      },
      "outputs": [
        {
          "name": "stdout",
          "output_type": "stream",
          "text": [
            "반지름을 입력하세요:20\n",
            "높이를 입력하세요:-30\n"
          ]
        }
      ],
      "source": [
        "#반지름 사용자 입력\n",
        "rad = int(input(\"반지름을 입력하세요:\"))\n",
        "#높이 사용자 입력\n",
        "hei = int(input(\"높이를 입력하세요:\"))\n",
        "#if 구문 연습\n",
        "if rad > 0 and hei > 0 :\n",
        "  #부피&겉넓이 계산\n",
        "  vol = 1/3 * 3.14 * rad ** 2 * hei\n",
        "  suf = 3.14 * rad ** 2 + 3.14 * rad * hei\n",
        "  print(\"원뿔의 부피는\" ,vol, \"입니다.\")\n",
        "  print(\"원뿔의 겉넓이는\" ,suf, \"입니다\")"
      ]
    },
    {
      "cell_type": "markdown",
      "source": [],
      "metadata": {
        "id": "gIxdfGagpB53"
      }
    },
    {
      "cell_type": "markdown",
      "source": [
        "# 6강 3절"
      ],
      "metadata": {
        "id": "cquz2vj9oGml"
      }
    },
    {
      "cell_type": "code",
      "source": [
        "#반지름 사용자 입력\n",
        "rad = int(input(\"반지름을 입력하세요:\"))\n",
        "#높이 사용자 입력\n",
        "hei = int(input(\"높이를 입력하세요:\"))\n",
        "#if 구문 연습\n",
        "if rad > 0 and hei > 0 :\n",
        "  #부피&겉넓이 계산\n",
        "  vol = 1/3 * 3.14 * rad ** 2 * hei\n",
        "  suf = 3.14 * rad ** 2 + 3.14 * rad * hei\n",
        "  print(\"원뿔의 부피는\" ,vol, \"입니다.\")\n",
        "  print(\"원뿔의 겉넓이는\" ,suf, \"입니다\")\n",
        "else :\n",
        "  print(\"반지름과 높이의 값을 모두 양수로 입력해주세요\")"
      ],
      "metadata": {
        "id": "NG5aOmYqjruu",
        "outputId": "d90fb9eb-ea61-4189-ecd4-c1906c22cc1c",
        "colab": {
          "base_uri": "https://localhost:8080/"
        }
      },
      "execution_count": null,
      "outputs": [
        {
          "output_type": "stream",
          "name": "stdout",
          "text": [
            "반지름을 입력하세요:-20\n",
            "높이를 입력하세요:30\n",
            "반지름과 높이의 값을 모두 양수로 입력해주세요\n"
          ]
        }
      ]
    },
    {
      "cell_type": "markdown",
      "source": [
        "가장 큰 수 찾는 프로그램"
      ],
      "metadata": {
        "id": "_2ZlVieZpKuT"
      }
    },
    {
      "cell_type": "code",
      "source": [
        "# A, B, C 사용자 입력\n",
        "A = int(input(\"A 입력: \"))\n",
        "B = int(input(\"B 입력: \"))\n",
        "C = int(input(\"C 입력: \"))\n",
        "\n",
        "# A, B, C 중 가장 큰 수 출력\n",
        "\n",
        "# case1: 내장함수 사용\n",
        "max(A, B, C)"
      ],
      "metadata": {
        "id": "Em_AwhGBuKdG",
        "outputId": "48d3be4b-3a90-4e42-aedb-121368a4975c",
        "colab": {
          "base_uri": "https://localhost:8080/"
        }
      },
      "execution_count": null,
      "outputs": [
        {
          "output_type": "stream",
          "name": "stdout",
          "text": [
            "A 입력: 4\n",
            "B 입력: 3\n",
            "C 입력: 1\n",
            "4\n"
          ]
        }
      ]
    },
    {
      "cell_type": "code",
      "source": [
        "# A, B, C 사용자 입력\n",
        "A = int(input(\"A 입력: \"))\n",
        "B = int(input(\"B 입력: \"))\n",
        "C = int(input(\"C 입력: \"))\n",
        "\n",
        "# A, B, C 중 가장 큰 수 출력\n",
        "\n",
        "# case2: if 사용\n",
        "if A > B :\n",
        "  if A > C :\n",
        "    print(A)\n",
        "  else :\n",
        "    print(C)\n",
        "else :\n",
        "  if B > C :\n",
        "    print(B)\n",
        "  else :\n",
        "    print(C)"
      ],
      "metadata": {
        "id": "b0BYRcDfwEcI",
        "outputId": "901d67ea-81f6-4348-d7ae-da57f7474e83",
        "colab": {
          "base_uri": "https://localhost:8080/"
        }
      },
      "execution_count": null,
      "outputs": [
        {
          "output_type": "stream",
          "name": "stdout",
          "text": [
            "A 입력: 10\n",
            "B 입력: 50\n",
            "C 입력: 12\n",
            "50\n"
          ]
        }
      ]
    }
  ]
}