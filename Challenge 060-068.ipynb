{
 "cells": [
  {
   "cell_type": "markdown",
   "metadata": {},
   "source": [
    "### **Python: 150 Challenges**"
   ]
  },
  {
   "cell_type": "markdown",
   "metadata": {},
   "source": [
    "## 예제 코드"
   ]
  },
  {
   "cell_type": "code",
   "execution_count": null,
   "metadata": {},
   "outputs": [],
   "source": [
    "# turtle 라이브러리 불러오기\n",
    "import turtle\n",
    "\n",
    "# 윈도우를 scr 이름으로 정의한다는 뜻\n",
    "# 윈도우를 참조해야 할 때마다 전체 이름이 아닌 'scr'이라는 이름으로 사용할 수 있다는 의미\n",
    "scr = turtle.Screen()\n",
    "\n",
    "# 화면의 배경색을 노란색으로 설정\n",
    "## 배경색을 변경하지 않으면 기본색은 흰색\n",
    "scr.bgcolor(\"yellow\")\n",
    "\n",
    "# 터틀이 움직여도 흔적을 남기지 않도록 페이지에서 펜을 제거\n",
    "turtle.penup()\n",
    "\n",
    "# 터틀이 움직일 때 흔적을 남기도록 페이지에 펜을 놓음\n",
    "## 별도 지정이 없으면 기본적으로 펜은 페이지에 넣인 상태\n",
    "turtle.pendown()\n",
    "\n",
    "# 터틀의 펜 사이즈를 3으로 변경\n",
    "## 별도 지정이 없으면 기본 사이즈는 1\n",
    "turtle.pensize(3)\n",
    "\n",
    "# 터틀을 왼쪽(시계 반대 방향)으로 120도 회전시킴\n",
    "turtle.left(120)\n",
    "\n",
    "# 터틀을 오른쪽으로 90도 회전시킴\n",
    "turtle.right(90)\n",
    "\n",
    "# 터틀을 50칸 앞으로 움직임\n",
    "turtle.forward(50)\n",
    "\n",
    "# 터틀의 모양을 거북이 모양으로 변경\n",
    "## 기본 모양은 작은 화살표 모양\n",
    "turtle.shape(\"turtle\")\n",
    "\n",
    "# 터틀을 50칸 앞으로 움직임\n",
    "turtle.forward(50)\n",
    "\n",
    "# 화면에 터틀을 표시함\n",
    "## 별도 지정 없으면 기본적으로 터틀 표시됨\n",
    "turtle.showturtle()\n",
    "\n",
    "# 화면에 터틀이 표시되지 않도록 감추기\n",
    "turtle.hideturtle()\n",
    "\n",
    "# 도형을 그리는 코드 앞에 입력하면 그리는 모양 안을 채우기 시작함\n",
    "turtle.begin_fill()\n",
    "\n",
    "# 도형을 그리는 코드 뒤에 입력하여 안을 채우는 작업이 중지되도록 파이썬에게 알려줌\n",
    "turtle.end_fill()\n",
    "\n",
    "# 도형을 채우는 색상을 정의 (외곽선-검정, 채우기-빨강)\n",
    "## 이 코드는 모양을 그리기 전에 입력되어야 함\n",
    "turtle.color(\"black\", \"red\")\n",
    "\n",
    "# 사용자가 터틀 윈도우를 클릭하면 윈도우가 자동으로 닫힘\n",
    "turtle.exitonclick()"
   ]
  },
  {
   "cell_type": "markdown",
   "metadata": {},
   "source": [
    "## Challenge: 060\n",
    "정사각형을 그려라"
   ]
  },
  {
   "cell_type": "code",
   "execution_count": 25,
   "metadata": {},
   "outputs": [],
   "source": [
    "# 혼자 풀어보기\n",
    "\n",
    "import turtle\n",
    "\n",
    "for i in range(0, 4):\n",
    "    turtle.forward(50)\n",
    "    turtle.left(90)\n",
    "\n",
    "turtle.exitonclick()"
   ]
  },
  {
   "cell_type": "code",
   "execution_count": 9,
   "metadata": {},
   "outputs": [],
   "source": [
    "# 풀이\n",
    "\n",
    "import turtle\n",
    "\n",
    "for i in range(0, 4):\n",
    "    turtle.forward(100)\n",
    "    turtle.right(90)\n",
    "turtle.exitonclick()"
   ]
  },
  {
   "cell_type": "markdown",
   "metadata": {},
   "source": [
    "## Challenge: 061\n",
    "삼각형을 그려라"
   ]
  },
  {
   "cell_type": "code",
   "execution_count": 23,
   "metadata": {},
   "outputs": [],
   "source": [
    "# 혼자 풀어보기\n",
    "\n",
    "import turtle\n",
    "\n",
    "for i in range(0, 3):\n",
    "    turtle.forward(100)\n",
    "    turtle.left(120)\n",
    "turtle.exitonclick()"
   ]
  },
  {
   "cell_type": "code",
   "execution_count": 13,
   "metadata": {},
   "outputs": [],
   "source": [
    "# 풀이\n",
    "\n",
    "import turtle\n",
    "\n",
    "for i in range(0, 3):\n",
    "    turtle.forward(100)\n",
    "    turtle.right(120)\n",
    "    \n",
    "turtle.exitonclick()"
   ]
  },
  {
   "cell_type": "markdown",
   "metadata": {},
   "source": [
    "## Challenge: 062\n",
    "원을 그려라"
   ]
  },
  {
   "cell_type": "code",
   "execution_count": 27,
   "metadata": {},
   "outputs": [],
   "source": [
    "# 혼자 풀어보기\n",
    "\n",
    "import turtle\n",
    "\n",
    "for i in range(0, 360):\n",
    "    turtle.forward(1)\n",
    "    turtle.left(1)\n",
    "\n",
    "turtle.exitonclick()"
   ]
  },
  {
   "cell_type": "code",
   "execution_count": 1,
   "metadata": {},
   "outputs": [],
   "source": [
    "# 풀이\n",
    "\n",
    "import turtle\n",
    "\n",
    "for i in range(0, 360):\n",
    "    turtle.forward(1)\n",
    "    turtle.right(1)\n",
    "\n",
    "turtle.exitonclick()"
   ]
  },
  {
   "cell_type": "markdown",
   "metadata": {},
   "source": [
    "## Challenge: 063\n",
    "서로 붙어 있지 않은 세 개의 정사각형을 그려라.\\\n",
    "세 개의 정사각형을 서로 다른 색상으로 채워라."
   ]
  },
  {
   "cell_type": "code",
   "execution_count": 71,
   "metadata": {},
   "outputs": [
    {
     "data": {
      "text/plain": [
       "<function turtle.exitonclick()>"
      ]
     },
     "execution_count": 71,
     "metadata": {},
     "output_type": "execute_result"
    }
   ],
   "source": [
    "# 혼자 풀어보기\n",
    "\n",
    "import turtle\n",
    "\n",
    "for k in range(0, 4):\n",
    "    turtle.pendown\n",
    "    turtle.color(\"red\", \"yellow\")\n",
    "    turtle.begin_fill()\n",
    "    for i in range(0, 4):\n",
    "        turtle.forward(100)\n",
    "        turtle.left(90)\n",
    "    turtle.end_fill()\n",
    "    turtle.penup()\n",
    "    turtle.left(90)\n",
    "    turtle.forward(100)\n",
    "\n",
    "turtle.exitonclick"
   ]
  },
  {
   "cell_type": "code",
   "execution_count": 66,
   "metadata": {},
   "outputs": [],
   "source": [
    "import turtle\n",
    "\n",
    "turtle.pendown\n",
    "turtle.color(\"black\", \"red\")\n",
    "turtle.begin_fill()\n",
    "for i in range(0, 3):\n",
    "    turtle.forward(100)\n",
    "    turtle.left(120)\n",
    "turtle.end_fill()\n",
    "\n",
    "turtle.penup()\n",
    "turtle.left(90)\n",
    "turtle.forward(100)"
   ]
  },
  {
   "cell_type": "code",
   "execution_count": null,
   "metadata": {},
   "outputs": [],
   "source": [
    "# 풀이\n",
    "\n",
    "\n",
    "import random\n",
    "\n",
    "\n",
    "rand_color = random.choice(option)\n",
    "option = [\"red\", \"yellow\", \"green\"]\n",
    "turtle.pendown()\n",
    "turtle.color(\"black\", rand_color)\n",
    "for i in range(0, 3):\n",
    "    turtle.forward(100)\n",
    "    turtle.left(120)\n",
    "\n",
    "turtle.penup()\n",
    "turtle.left(90)\n",
    "turtle.forward(100)\n",
    "\n",
    "turtle.pendown()\n",
    "for i in range(0, 3):\n",
    "    turtle.forward(100)\n",
    "    turtle.left(120)"
   ]
  }
 ],
 "metadata": {
  "kernelspec": {
   "display_name": "Python 3",
   "language": "python",
   "name": "python3"
  },
  "language_info": {
   "codemirror_mode": {
    "name": "ipython",
    "version": 3
   },
   "file_extension": ".py",
   "mimetype": "text/x-python",
   "name": "python",
   "nbconvert_exporter": "python",
   "pygments_lexer": "ipython3",
   "version": "3.12.2"
  }
 },
 "nbformat": 4,
 "nbformat_minor": 2
}
