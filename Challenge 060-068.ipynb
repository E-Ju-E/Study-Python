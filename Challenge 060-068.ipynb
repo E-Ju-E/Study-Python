{
 "cells": [
  {
   "cell_type": "markdown",
   "metadata": {},
   "source": [
    "### **Python: 150 Challenges**"
   ]
  },
  {
   "cell_type": "markdown",
   "metadata": {},
   "source": [
    "## 예제 코드"
   ]
  },
  {
   "cell_type": "code",
   "execution_count": null,
   "metadata": {},
   "outputs": [],
   "source": [
    "# turtle 라이브러리 불러오기\n",
    "import turtle\n",
    "\n",
    "# 윈도우를 scr 이름으로 정의한다는 뜻\n",
    "# 윈도우를 참조해야 할 때마다 전체 이름이 아닌 'scr'이라는 이름으로 사용할 수 있다는 의미\n",
    "scr = turtle.Screen()\n",
    "\n",
    "# 화면의 배경색을 노란색으로 설정\n",
    "## 배경색을 변경하지 않으면 기본색은 흰색\n",
    "scr.bgcolor(\"yellow\")\n",
    "\n",
    "# 터틀이 움직여도 흔적을 남기지 않도록 페이지에서 펜을 제거\n",
    "turtle.penup()\n",
    "\n",
    "# 터틀이 움직일 때 흔적을 남기도록 페이지에 펜을 놓음\n",
    "## 별도 지정이 없으면 기본적으로 펜은 페이지에 넣인 상태\n",
    "turtle.pendown()\n",
    "\n",
    "# 터틀의 펜 사이즈를 3으로 변경\n",
    "## 별도 지정이 없으면 기본 사이즈는 1\n",
    "turtle.pensize(3)\n",
    "\n",
    "# 터틀을 왼쪽(시계 반대 방향)으로 120도 회전시킴\n",
    "turtle.left(120)\n",
    "\n",
    "# 터틀을 오른쪽으로 90도 회전시킴\n",
    "turtle.right(90)\n",
    "\n",
    "# 터틀을 50칸 앞으로 움직임\n",
    "turtle.forward(50)\n",
    "\n",
    "# 터틀의 모양을 거북이 모양으로 변경\n",
    "## 기본 모양은 작은 화살표 모양\n",
    "turtle.shape(\"turtle\")\n",
    "\n",
    "# 터틀을 50칸 앞으로 움직임\n",
    "turtle.forward(50)\n",
    "\n",
    "# 화면에 터틀을 표시함\n",
    "## 별도 지정 없으면 기본적으로 터틀 표시됨\n",
    "turtle.showturtle()\n",
    "\n",
    "# 화면에 터틀이 표시되지 않도록 감추기\n",
    "turtle.hideturtle()\n",
    "\n",
    "# 도형을 그리는 코드 앞에 입력하면 그리는 모양 안을 채우기 시작함\n",
    "turtle.begin_fill()\n",
    "\n",
    "# 도형을 그리는 코드 뒤에 입력하여 안을 채우는 작업이 중지되도록 파이썬에게 알려줌\n",
    "turtle.end_fill()\n",
    "\n",
    "# 도형을 채우는 색상을 정의 (외곽선-검정, 채우기-빨강)\n",
    "## 이 코드는 모양을 그리기 전에 입력되어야 함\n",
    "turtle.color(\"black\", \"red\")\n",
    "\n",
    "# 사용자가 터틀 윈도우를 클릭하면 윈도우가 자동으로 닫힘\n",
    "turtle.exitonclick()"
   ]
  },
  {
   "cell_type": "markdown",
   "metadata": {},
   "source": [
    "## Challenge: 060\n",
    "정사각형을 그려라"
   ]
  },
  {
   "cell_type": "code",
   "execution_count": 25,
   "metadata": {},
   "outputs": [],
   "source": [
    "# 혼자 풀어보기\n",
    "\n",
    "import turtle\n",
    "\n",
    "for i in range(0, 4):\n",
    "    turtle.forward(50)\n",
    "    turtle.left(90)\n",
    "\n",
    "turtle.exitonclick()"
   ]
  },
  {
   "cell_type": "code",
   "execution_count": 9,
   "metadata": {},
   "outputs": [],
   "source": [
    "# 풀이\n",
    "\n",
    "import turtle\n",
    "\n",
    "for i in range(0, 4):\n",
    "    turtle.forward(100)\n",
    "    turtle.right(90)\n",
    "turtle.exitonclick()"
   ]
  },
  {
   "cell_type": "markdown",
   "metadata": {},
   "source": [
    "## Challenge: 061\n",
    "삼각형을 그려라"
   ]
  },
  {
   "cell_type": "code",
   "execution_count": 23,
   "metadata": {},
   "outputs": [],
   "source": [
    "# 혼자 풀어보기\n",
    "\n",
    "import turtle\n",
    "\n",
    "for i in range(0, 3):\n",
    "    turtle.forward(100)\n",
    "    turtle.left(120)\n",
    "turtle.exitonclick()"
   ]
  },
  {
   "cell_type": "code",
   "execution_count": 13,
   "metadata": {},
   "outputs": [],
   "source": [
    "# 풀이\n",
    "\n",
    "import turtle\n",
    "\n",
    "for i in range(0, 3):\n",
    "    turtle.forward(100)\n",
    "    turtle.right(120)\n",
    "    \n",
    "turtle.exitonclick()"
   ]
  },
  {
   "cell_type": "markdown",
   "metadata": {},
   "source": [
    "## Challenge: 062\n",
    "원을 그려라"
   ]
  },
  {
   "cell_type": "code",
   "execution_count": 27,
   "metadata": {},
   "outputs": [],
   "source": [
    "# 혼자 풀어보기\n",
    "\n",
    "import turtle\n",
    "\n",
    "for i in range(0, 360):\n",
    "    turtle.forward(1)\n",
    "    turtle.left(1)\n",
    "\n",
    "turtle.exitonclick()"
   ]
  },
  {
   "cell_type": "code",
   "execution_count": 72,
   "metadata": {},
   "outputs": [
    {
     "ename": "Terminator",
     "evalue": "",
     "output_type": "error",
     "traceback": [
      "\u001b[0;31m---------------------------------------------------------------------------\u001b[0m",
      "\u001b[0;31mTerminator\u001b[0m                                Traceback (most recent call last)",
      "Cell \u001b[0;32mIn[72], line 7\u001b[0m\n\u001b[1;32m      5\u001b[0m \u001b[38;5;28;01mfor\u001b[39;00m i \u001b[38;5;129;01min\u001b[39;00m \u001b[38;5;28mrange\u001b[39m(\u001b[38;5;241m0\u001b[39m, \u001b[38;5;241m360\u001b[39m):\n\u001b[1;32m      6\u001b[0m     turtle\u001b[38;5;241m.\u001b[39mforward(\u001b[38;5;241m1\u001b[39m)\n\u001b[0;32m----> 7\u001b[0m     \u001b[43mturtle\u001b[49m\u001b[38;5;241;43m.\u001b[39;49m\u001b[43mright\u001b[49m\u001b[43m(\u001b[49m\u001b[38;5;241;43m1\u001b[39;49m\u001b[43m)\u001b[49m\n\u001b[1;32m      9\u001b[0m turtle\u001b[38;5;241m.\u001b[39mexitonclick()\n",
      "File \u001b[0;32m<string>:8\u001b[0m, in \u001b[0;36mright\u001b[0;34m(angle)\u001b[0m\n",
      "File \u001b[0;32m/Library/Frameworks/Python.framework/Versions/3.12/lib/python3.12/turtle.py:1677\u001b[0m, in \u001b[0;36mTNavigator.right\u001b[0;34m(self, angle)\u001b[0m\n\u001b[1;32m   1658\u001b[0m \u001b[38;5;28;01mdef\u001b[39;00m \u001b[38;5;21mright\u001b[39m(\u001b[38;5;28mself\u001b[39m, angle):\n\u001b[1;32m   1659\u001b[0m \u001b[38;5;250m    \u001b[39m\u001b[38;5;124;03m\"\"\"Turn turtle right by angle units.\u001b[39;00m\n\u001b[1;32m   1660\u001b[0m \n\u001b[1;32m   1661\u001b[0m \u001b[38;5;124;03m    Aliases: right | rt\u001b[39;00m\n\u001b[0;32m   (...)\u001b[0m\n\u001b[1;32m   1675\u001b[0m \u001b[38;5;124;03m    337.0\u001b[39;00m\n\u001b[1;32m   1676\u001b[0m \u001b[38;5;124;03m    \"\"\"\u001b[39;00m\n\u001b[0;32m-> 1677\u001b[0m     \u001b[38;5;28;43mself\u001b[39;49m\u001b[38;5;241;43m.\u001b[39;49m\u001b[43m_rotate\u001b[49m\u001b[43m(\u001b[49m\u001b[38;5;241;43m-\u001b[39;49m\u001b[43mangle\u001b[49m\u001b[43m)\u001b[49m\n",
      "File \u001b[0;32m/Library/Frameworks/Python.framework/Versions/3.12/lib/python3.12/turtle.py:3350\u001b[0m, in \u001b[0;36mRawTurtle._rotate\u001b[0;34m(self, angle)\u001b[0m\n\u001b[1;32m   3348\u001b[0m         \u001b[38;5;28mself\u001b[39m\u001b[38;5;241m.\u001b[39m_update()\n\u001b[1;32m   3349\u001b[0m \u001b[38;5;28mself\u001b[39m\u001b[38;5;241m.\u001b[39m_orient \u001b[38;5;241m=\u001b[39m neworient\n\u001b[0;32m-> 3350\u001b[0m \u001b[38;5;28;43mself\u001b[39;49m\u001b[38;5;241;43m.\u001b[39;49m\u001b[43m_update\u001b[49m\u001b[43m(\u001b[49m\u001b[43m)\u001b[49m\n",
      "File \u001b[0;32m/Library/Frameworks/Python.framework/Versions/3.12/lib/python3.12/turtle.py:2668\u001b[0m, in \u001b[0;36mRawTurtle._update\u001b[0;34m(self)\u001b[0m\n\u001b[1;32m   2666\u001b[0m     \u001b[38;5;28;01mreturn\u001b[39;00m\n\u001b[1;32m   2667\u001b[0m \u001b[38;5;28;01melif\u001b[39;00m screen\u001b[38;5;241m.\u001b[39m_tracing \u001b[38;5;241m==\u001b[39m \u001b[38;5;241m1\u001b[39m:\n\u001b[0;32m-> 2668\u001b[0m     \u001b[38;5;28;43mself\u001b[39;49m\u001b[38;5;241;43m.\u001b[39;49m\u001b[43m_update_data\u001b[49m\u001b[43m(\u001b[49m\u001b[43m)\u001b[49m\n\u001b[1;32m   2669\u001b[0m     \u001b[38;5;28mself\u001b[39m\u001b[38;5;241m.\u001b[39m_drawturtle()\n\u001b[1;32m   2670\u001b[0m     screen\u001b[38;5;241m.\u001b[39m_update()                  \u001b[38;5;66;03m# TurtleScreenBase\u001b[39;00m\n",
      "File \u001b[0;32m/Library/Frameworks/Python.framework/Versions/3.12/lib/python3.12/turtle.py:2654\u001b[0m, in \u001b[0;36mRawTurtle._update_data\u001b[0;34m(self)\u001b[0m\n\u001b[1;32m   2653\u001b[0m \u001b[38;5;28;01mdef\u001b[39;00m \u001b[38;5;21m_update_data\u001b[39m(\u001b[38;5;28mself\u001b[39m):\n\u001b[0;32m-> 2654\u001b[0m     \u001b[38;5;28;43mself\u001b[39;49m\u001b[38;5;241;43m.\u001b[39;49m\u001b[43mscreen\u001b[49m\u001b[38;5;241;43m.\u001b[39;49m\u001b[43m_incrementudc\u001b[49m\u001b[43m(\u001b[49m\u001b[43m)\u001b[49m\n\u001b[1;32m   2655\u001b[0m     \u001b[38;5;28;01mif\u001b[39;00m \u001b[38;5;28mself\u001b[39m\u001b[38;5;241m.\u001b[39mscreen\u001b[38;5;241m.\u001b[39m_updatecounter \u001b[38;5;241m!=\u001b[39m \u001b[38;5;241m0\u001b[39m:\n\u001b[1;32m   2656\u001b[0m         \u001b[38;5;28;01mreturn\u001b[39;00m\n",
      "File \u001b[0;32m/Library/Frameworks/Python.framework/Versions/3.12/lib/python3.12/turtle.py:1284\u001b[0m, in \u001b[0;36mTurtleScreen._incrementudc\u001b[0;34m(self)\u001b[0m\n\u001b[1;32m   1282\u001b[0m \u001b[38;5;28;01mif\u001b[39;00m \u001b[38;5;129;01mnot\u001b[39;00m TurtleScreen\u001b[38;5;241m.\u001b[39m_RUNNING:\n\u001b[1;32m   1283\u001b[0m     TurtleScreen\u001b[38;5;241m.\u001b[39m_RUNNING \u001b[38;5;241m=\u001b[39m \u001b[38;5;28;01mTrue\u001b[39;00m\n\u001b[0;32m-> 1284\u001b[0m     \u001b[38;5;28;01mraise\u001b[39;00m Terminator\n\u001b[1;32m   1285\u001b[0m \u001b[38;5;28;01mif\u001b[39;00m \u001b[38;5;28mself\u001b[39m\u001b[38;5;241m.\u001b[39m_tracing \u001b[38;5;241m>\u001b[39m \u001b[38;5;241m0\u001b[39m:\n\u001b[1;32m   1286\u001b[0m     \u001b[38;5;28mself\u001b[39m\u001b[38;5;241m.\u001b[39m_updatecounter \u001b[38;5;241m+\u001b[39m\u001b[38;5;241m=\u001b[39m \u001b[38;5;241m1\u001b[39m\n",
      "\u001b[0;31mTerminator\u001b[0m: "
     ]
    }
   ],
   "source": [
    "# 풀이\n",
    "\n",
    "import turtle\n",
    "\n",
    "for i in range(0, 360):\n",
    "    turtle.forward(1)\n",
    "    turtle.right(1)\n",
    "\n",
    "turtle.exitonclick()"
   ]
  },
  {
   "cell_type": "markdown",
   "metadata": {},
   "source": [
    "## Challenge: 063\n",
    "서로 붙어 있지 않은 세 개의 정사각형을 그려라.\\\n",
    "세 개의 정사각형을 서로 다른 색상으로 채워라."
   ]
  },
  {
   "cell_type": "code",
   "execution_count": 14,
   "metadata": {},
   "outputs": [
    {
     "data": {
      "text/plain": [
       "<function turtle.exitonclick()>"
      ]
     },
     "execution_count": 14,
     "metadata": {},
     "output_type": "execute_result"
    }
   ],
   "source": [
    "# 혼자 풀어보기\n",
    "\n",
    "import turtle\n",
    "\n",
    "turtle.color(\"black\", \"pink\")\n",
    "turtle.begin_fill()\n",
    "for i in range(0, 4):\n",
    "    turtle.forward(100)\n",
    "    turtle.left(90) \n",
    "turtle.penup()\n",
    "turtle.end_fill()\n",
    "turtle.left(90)\n",
    "turtle.forward(150)\n",
    "\n",
    "turtle.pendown()\n",
    "turtle.color(\"black\", \"gray\")\n",
    "turtle.begin_fill()\n",
    "for i in range(0, 4):\n",
    "    turtle.forward(100)\n",
    "    turtle.left(90)\n",
    "turtle.penup()\n",
    "turtle.end_fill()\n",
    "turtle.left(90)\n",
    "turtle.forward(150)\n",
    "\n",
    "turtle.pendown()\n",
    "turtle.color(\"black\", \"ivory\")\n",
    "turtle.begin_fill()\n",
    "for i in range(0, 4):\n",
    "    turtle.forward(100)\n",
    "    turtle.left(90)\n",
    "turtle.penup()\n",
    "turtle.end_fill()\n",
    "turtle.left(90)\n",
    "turtle.forward(150)\n",
    "\n",
    "turtle.exitonclick"
   ]
  },
  {
   "cell_type": "code",
   "execution_count": 17,
   "metadata": {},
   "outputs": [],
   "source": [
    "# 풀이\n",
    "\n",
    "import turtle\n",
    "\n",
    "turtle.color(\"black\", \"red\")\n",
    "turtle.begin_fill()\n",
    "for i in range(0, 4):\n",
    "    turtle.forward(70)\n",
    "    turtle.right(90)\n",
    "turtle.penup()\n",
    "turtle.end_fill()\n",
    "turtle.forward(100)\n",
    "\n",
    "turtle.pendown()\n",
    "turtle.color(\"black\", \"yellow\")\n",
    "turtle.begin_fill()\n",
    "for i in range(0, 4):\n",
    "    turtle.forward(70)\n",
    "    turtle.right(90)\n",
    "turtle.penup()\n",
    "turtle.end_fill()\n",
    "turtle.forward(100)\n",
    "\n",
    "turtle.color(\"black\", \"green\")\n",
    "turtle.begin_fill()\n",
    "for i in range(0, 4):\n",
    "    turtle.forward(70)\n",
    "    turtle.right(90)\n",
    "turtle.end_fill()\n",
    "\n",
    "turtle.exitonclick()\n"
   ]
  }
 ],
 "metadata": {
  "kernelspec": {
   "display_name": "Python 3",
   "language": "python",
   "name": "python3"
  },
  "language_info": {
   "codemirror_mode": {
    "name": "ipython",
    "version": 3
   },
   "file_extension": ".py",
   "mimetype": "text/x-python",
   "name": "python",
   "nbconvert_exporter": "python",
   "pygments_lexer": "ipython3",
   "version": "3.12.2"
  }
 },
 "nbformat": 4,
 "nbformat_minor": 2
}
