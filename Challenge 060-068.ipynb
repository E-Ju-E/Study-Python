{
 "cells": [
  {
   "cell_type": "markdown",
   "metadata": {},
   "source": [
    "### **Python: 150 Challenges**"
   ]
  },
  {
   "cell_type": "markdown",
   "metadata": {},
   "source": [
    "## 예제 코드"
   ]
  },
  {
   "cell_type": "code",
   "execution_count": null,
   "metadata": {},
   "outputs": [],
   "source": [
    "# turtle 라이브러리 불러오기\n",
    "import turtle\n",
    "\n",
    "# 윈도우를 scr 이름으로 정의한다는 뜻\n",
    "# 윈도우를 참조해야 할 때마다 전체 이름이 아닌 'scr'이라는 이름으로 사용할 수 있다는 의미\n",
    "scr = turtle.Screen()\n",
    "\n",
    "# 화면의 배경색을 노란색으로 설정\n",
    "## 배경색을 변경하지 않으면 기본색은 흰색\n",
    "scr.bgcolor(\"yellow\")\n",
    "\n",
    "# 터틀이 움직여도 흔적을 남기지 않도록 페이지에서 펜을 제거\n",
    "turtle.penup()\n",
    "\n",
    "# 터틀이 움직일 때 흔적을 남기도록 페이지에 펜을 놓음\n",
    "## 별도 지정이 없으면 기본적으로 펜은 페이지에 넣인 상태\n",
    "turtle.pendown()\n",
    "\n",
    "# 터틀의 펜 사이즈를 3으로 변경\n",
    "## 별도 지정이 없으면 기본 사이즈는 1\n",
    "turtle.pensize(3)\n",
    "\n",
    "# 터틀을 왼쪽(시계 반대 방향)으로 120도 회전시킴\n",
    "turtle.left(120)\n",
    "\n",
    "# 터틀을 오른쪽으로 90도 회전시킴\n",
    "turtle.right(90)\n",
    "\n",
    "# 터틀을 50칸 앞으로 움직임\n",
    "turtle.forward(50)\n",
    "\n",
    "# 터틀의 모양을 거북이 모양으로 변경\n",
    "## 기본 모양은 작은 화살표 모양\n",
    "turtle.shape(\"turtle\")\n",
    "\n",
    "# 터틀을 50칸 앞으로 움직임\n",
    "turtle.forward(50)\n",
    "\n",
    "# 화면에 터틀을 표시함\n",
    "## 별도 지정 없으면 기본적으로 터틀 표시됨\n",
    "turtle.showturtle()\n",
    "\n",
    "# 화면에 터틀이 표시되지 않도록 감추기\n",
    "turtle.hideturtle()\n",
    "\n",
    "# 도형을 그리는 코드 앞에 입력하면 그리는 모양 안을 채우기 시작함\n",
    "turtle.begin_fill()\n",
    "\n",
    "# 도형을 그리는 코드 뒤에 입력하여 안을 채우는 작업이 중지되도록 파이썬에게 알려줌\n",
    "turtle.end_fill()\n",
    "\n",
    "# 도형을 채우는 색상을 정의 (외곽선-검정, 채우기-빨강)\n",
    "## 이 코드는 모양을 그리기 전에 입력되어야 함\n",
    "turtle.color(\"black\", \"red\")\n",
    "\n",
    "# 사용자가 터틀 윈도우를 클릭하면 윈도우가 자동으로 닫힘\n",
    "turtle.exitonclick()"
   ]
  },
  {
   "cell_type": "markdown",
   "metadata": {},
   "source": [
    "## Challenge: 060\n",
    "정사각형을 그려라"
   ]
  },
  {
   "cell_type": "code",
   "execution_count": 25,
   "metadata": {},
   "outputs": [],
   "source": [
    "# 혼자 풀어보기\n",
    "\n",
    "import turtle\n",
    "\n",
    "for i in range(0, 4):\n",
    "    turtle.forward(50)\n",
    "    turtle.left(90)\n",
    "\n",
    "turtle.exitonclick()"
   ]
  },
  {
   "cell_type": "code",
   "execution_count": 9,
   "metadata": {},
   "outputs": [],
   "source": [
    "# 풀이\n",
    "\n",
    "import turtle\n",
    "\n",
    "for i in range(0, 4):\n",
    "    turtle.forward(100)\n",
    "    turtle.right(90)\n",
    "turtle.exitonclick()"
   ]
  },
  {
   "cell_type": "markdown",
   "metadata": {},
   "source": [
    "## Challenge: 061\n",
    "삼각형을 그려라"
   ]
  },
  {
   "cell_type": "code",
   "execution_count": 23,
   "metadata": {},
   "outputs": [],
   "source": [
    "# 혼자 풀어보기\n",
    "\n",
    "import turtle\n",
    "\n",
    "for i in range(0, 3):\n",
    "    turtle.forward(100)\n",
    "    turtle.left(120)\n",
    "turtle.exitonclick()"
   ]
  },
  {
   "cell_type": "code",
   "execution_count": 13,
   "metadata": {},
   "outputs": [],
   "source": [
    "# 풀이\n",
    "\n",
    "import turtle\n",
    "\n",
    "for i in range(0, 3):\n",
    "    turtle.forward(100)\n",
    "    turtle.right(120)\n",
    "    \n",
    "turtle.exitonclick()"
   ]
  },
  {
   "cell_type": "markdown",
   "metadata": {},
   "source": [
    "## Challenge: 062\n",
    "원을 그려라"
   ]
  },
  {
   "cell_type": "code",
   "execution_count": 27,
   "metadata": {},
   "outputs": [],
   "source": [
    "# 혼자 풀어보기\n",
    "\n",
    "import turtle\n",
    "\n",
    "for i in range(0, 360):\n",
    "    turtle.forward(1)\n",
    "    turtle.left(1)\n",
    "\n",
    "turtle.exitonclick()"
   ]
  },
  {
   "cell_type": "code",
   "execution_count": 78,
   "metadata": {},
   "outputs": [],
   "source": [
    "# 풀이\n",
    "\n",
    "import turtle\n",
    "\n",
    "for i in range(0, 360):\n",
    "    turtle.forward(1)\n",
    "    turtle.right(1)\n",
    "\n",
    "turtle.exitonclick()"
   ]
  },
  {
   "cell_type": "markdown",
   "metadata": {},
   "source": [
    "## Challenge: 063\n",
    "서로 붙어 있지 않은 세 개의 정사각형을 그려라.\\\n",
    "세 개의 정사각형을 서로 다른 색상으로 채워라."
   ]
  },
  {
   "cell_type": "code",
   "execution_count": 14,
   "metadata": {},
   "outputs": [
    {
     "data": {
      "text/plain": [
       "<function turtle.exitonclick()>"
      ]
     },
     "execution_count": 14,
     "metadata": {},
     "output_type": "execute_result"
    }
   ],
   "source": [
    "# 혼자 풀어보기\n",
    "\n",
    "import turtle\n",
    "\n",
    "turtle.color(\"black\", \"pink\")\n",
    "turtle.begin_fill()\n",
    "for i in range(0, 4):\n",
    "    turtle.forward(100)\n",
    "    turtle.left(90) \n",
    "turtle.penup()\n",
    "turtle.end_fill()\n",
    "turtle.left(90)\n",
    "turtle.forward(150)\n",
    "\n",
    "turtle.pendown()\n",
    "turtle.color(\"black\", \"gray\")\n",
    "turtle.begin_fill()\n",
    "for i in range(0, 4):\n",
    "    turtle.forward(100)\n",
    "    turtle.left(90)\n",
    "turtle.penup()\n",
    "turtle.end_fill()\n",
    "turtle.left(90)\n",
    "turtle.forward(150)\n",
    "\n",
    "turtle.pendown()\n",
    "turtle.color(\"black\", \"ivory\")\n",
    "turtle.begin_fill()\n",
    "for i in range(0, 4):\n",
    "    turtle.forward(100)\n",
    "    turtle.left(90)\n",
    "turtle.penup()\n",
    "turtle.end_fill()\n",
    "turtle.left(90)\n",
    "turtle.forward(150)\n",
    "\n",
    "turtle.exitonclick"
   ]
  },
  {
   "cell_type": "code",
   "execution_count": 17,
   "metadata": {},
   "outputs": [],
   "source": [
    "# 풀이\n",
    "\n",
    "import turtle\n",
    "\n",
    "turtle.color(\"black\", \"red\")\n",
    "turtle.begin_fill()\n",
    "for i in range(0, 4):\n",
    "    turtle.forward(70)\n",
    "    turtle.right(90)\n",
    "turtle.penup()\n",
    "turtle.end_fill()\n",
    "turtle.forward(100)\n",
    "\n",
    "turtle.pendown()\n",
    "turtle.color(\"black\", \"yellow\")\n",
    "turtle.begin_fill()\n",
    "for i in range(0, 4):\n",
    "    turtle.forward(70)\n",
    "    turtle.right(90)\n",
    "turtle.penup()\n",
    "turtle.end_fill()\n",
    "turtle.forward(100)\n",
    "\n",
    "turtle.color(\"black\", \"green\")\n",
    "turtle.begin_fill()\n",
    "for i in range(0, 4):\n",
    "    turtle.forward(70)\n",
    "    turtle.right(90)\n",
    "turtle.end_fill()\n",
    "\n",
    "turtle.exitonclick()\n"
   ]
  },
  {
   "cell_type": "markdown",
   "metadata": {},
   "source": [
    "## Challenge: 064\n",
    "다섯 개의 꼭짓점이 있는 별 모양을 그려라."
   ]
  },
  {
   "cell_type": "code",
   "execution_count": 1,
   "metadata": {},
   "outputs": [],
   "source": [
    "# 혼자 풀어보기\n",
    "import turtle\n",
    "\n",
    "for i in range(5):\n",
    "    turtle.forward(100)\n",
    "    turtle.right(144)\n",
    "\n",
    "turtle.exitonclick()"
   ]
  },
  {
   "cell_type": "code",
   "execution_count": 3,
   "metadata": {},
   "outputs": [],
   "source": [
    "# 풀이\n",
    "\n",
    "import turtle\n",
    "\n",
    "for i in range(0, 5):\n",
    "    turtle.forward(100)\n",
    "    turtle.right(144)\n",
    "\n",
    "turtle.exitonclick()"
   ]
  },
  {
   "cell_type": "markdown",
   "metadata": {},
   "source": [
    "## Challenge: 065\n",
    "숫자 1의 밑에서부터 그리기 시작하여 다음의 그림처럼 숫자를 그려라. (책 45p 참조)"
   ]
  },
  {
   "cell_type": "code",
   "execution_count": 27,
   "metadata": {},
   "outputs": [],
   "source": [
    "# 혼자 풀어보기\n",
    "\n",
    "import turtle\n",
    "\n",
    "# 숫자 1 그리기\n",
    "turtle.right(-90)\n",
    "turtle.forward(100)\n",
    "\n",
    "# 간격\n",
    "turtle.penup()\n",
    "turtle.right(90)\n",
    "turtle.forward(50)\n",
    "\n",
    "# 숫자 2 그리기\n",
    "turtle.pendown()\n",
    "turtle.forward(100)\n",
    "turtle.right(90)\n",
    "turtle.forward(50)\n",
    "turtle.right(90)\n",
    "turtle.forward(100)\n",
    "turtle.right(-90)\n",
    "turtle.forward(50)\n",
    "turtle.right(-90)\n",
    "turtle.forward(100)\n",
    "\n",
    "# 간격\n",
    "turtle.penup()\n",
    "turtle.forward(50)\n",
    "\n",
    "# 숫자 3그리기\n",
    "turtle.pendown()\n",
    "turtle.forward(100)\n",
    "turtle.right(-90)\n",
    "turtle.forward(50)\n",
    "turtle.right(-90)\n",
    "turtle.forward(50)\n",
    "turtle.penup()\n",
    "turtle.forward(-50)\n",
    "turtle.pendown()\n",
    "turtle.right(90)\n",
    "turtle.forward(50)\n",
    "turtle.right(-90)\n",
    "turtle.forward(100)\n",
    "\n",
    "turtle.exitonclick()"
   ]
  },
  {
   "cell_type": "code",
   "execution_count": 29,
   "metadata": {},
   "outputs": [],
   "source": [
    "# 풀이\n",
    "\n",
    "import turtle\n",
    "\n",
    "turtle.left(90)\n",
    "turtle.forward(100)\n",
    "turtle.right(90)\n",
    "turtle.penup()\n",
    "turtle.forward(50)\n",
    "turtle.pendown()\n",
    "turtle.forward(75)\n",
    "turtle.right(90)\n",
    "turtle.forward(50)\n",
    "turtle.right(90)\n",
    "turtle.forward(75)\n",
    "turtle.left(90)\n",
    "turtle.forward(50)\n",
    "turtle.left(90)\n",
    "turtle.forward(75)\n",
    "turtle.penup()\n",
    "\n",
    "turtle.forward(50)\n",
    "turtle.pendown()\n",
    "turtle.forward(75)\n",
    "turtle.left(90)\n",
    "turtle.forward(50)\n",
    "turtle.left(90)\n",
    "turtle.forward(45)\n",
    "\n",
    "turtle.left(180)\n",
    "turtle.forward(45)\n",
    "turtle.left(90)\n",
    "turtle.forward(50)\n",
    "turtle.left(90)\n",
    "turtle.forward(75)\n",
    "\n",
    "turtle.hideturtle()\n",
    "\n",
    "turtle.exitonclick()\n"
   ]
  },
  {
   "cell_type": "markdown",
   "metadata": {},
   "source": [
    "## Challenge: 066\n",
    "각 선 색상을 다르게 하여(여섯 개의 색상 목록에서 무작위로 선택하여) 팔각형을 그려라"
   ]
  },
  {
   "cell_type": "code",
   "execution_count": 24,
   "metadata": {},
   "outputs": [],
   "source": [
    "# 혼자 풀어보기\n",
    "\n",
    "import turtle\n",
    "import random\n",
    "\n",
    "turtle.pensize(5)\n",
    "color_option = [\"red\", \"orange\", \"yellow\", \"green\", \"blue\", \"navy\", \"purple\", \"pink\"]\n",
    "\n",
    "for i in range(0, 8):\n",
    "    ran_color = random.choice(color_option)\n",
    "    turtle.color(ran_color)\n",
    "    turtle.forward(100)\n",
    "    turtle.right(45)\n",
    "\n",
    "turtle.exitonclick()\n"
   ]
  },
  {
   "cell_type": "code",
   "execution_count": 26,
   "metadata": {},
   "outputs": [
    {
     "data": {
      "text/plain": [
       "<function turtle.exitonclick()>"
      ]
     },
     "execution_count": 26,
     "metadata": {},
     "output_type": "execute_result"
    }
   ],
   "source": [
    "# 풀이\n",
    "\n",
    "import turtle\n",
    "import random\n",
    "\n",
    "turtle.pensize(3)\n",
    "for i in range(0, 8):\n",
    "    turtle.color(random.choice([\"red\", \"blue\", \"yellow\", \"green\", \"pink\", \"orange\"]))\n",
    "    turtle.forward(50)\n",
    "    turtle.right(45)\n",
    "\n",
    "turtle.exitonclick"
   ]
  },
  {
   "cell_type": "markdown",
   "metadata": {},
   "source": [
    "## Challenge: 067\n",
    "다음의 패턴을 만들어라.(책 45p 참조)"
   ]
  },
  {
   "cell_type": "code",
   "execution_count": 37,
   "metadata": {},
   "outputs": [],
   "source": [
    "# 혼자 풀어보기\n",
    "import turtle\n",
    "\n",
    "for j in range(0, 10):\n",
    "    for i in range(0, 8):\n",
    "        turtle.forward(100)\n",
    "        turtle.right(45)\n",
    "    turtle.right(36)\n",
    "turtle.exitonclick()"
   ]
  },
  {
   "cell_type": "code",
   "execution_count": 33,
   "metadata": {},
   "outputs": [],
   "source": [
    "# 풀이\n",
    "\n",
    "import turtle\n",
    "\n",
    "for x in range(0, 10):\n",
    "    for i in range(0, 8):\n",
    "        turtle.forward(50)\n",
    "        turtle.right(45)\n",
    "    turtle.right(36)\n",
    "\n",
    "turtle.hideturtle()\n",
    "\n",
    "turtle.exitonclick()"
   ]
  },
  {
   "cell_type": "markdown",
   "metadata": {},
   "source": [
    "## Challenge: 068\n",
    "프로그램이 시작할 때마다 변경되는 패턴을 그려라.\n",
    "random 함수를 이용하여 선의 개수와 각 선의 길이, 그리고 회전 각도를 선택하라."
   ]
  },
  {
   "cell_type": "code",
   "execution_count": 72,
   "metadata": {},
   "outputs": [],
   "source": [
    "# 혼자 풀어보기\n",
    "\n",
    "import turtle\n",
    "import random\n",
    "\n",
    "num1 = random.randint(5, 50)\n",
    "\n",
    "for i in range(0, num1):\n",
    "    num2 = random.randint(1, 200)\n",
    "    num3 = random.randint(1, 360)\n",
    "    turtle.forward(num2)\n",
    "    turtle.right(num2)\n",
    "\n",
    "turtle.exitonclick()"
   ]
  },
  {
   "cell_type": "code",
   "execution_count": 74,
   "metadata": {},
   "outputs": [],
   "source": [
    "# 풀이\n",
    "\n",
    "import turtle\n",
    "import random\n",
    "\n",
    "lines = random.randint(5, 20)\n",
    "for x in range(0, lines):\n",
    "    length = random.randint(25, 100)\n",
    "    rotate = random.randint(1, 365)\n",
    "    turtle.forward(length)\n",
    "    turtle.right(rotate)\n",
    "\n",
    "turtle.exitonclick()"
   ]
  }
 ],
 "metadata": {
  "kernelspec": {
   "display_name": "Python 3",
   "language": "python",
   "name": "python3"
  },
  "language_info": {
   "codemirror_mode": {
    "name": "ipython",
    "version": 3
   },
   "file_extension": ".py",
   "mimetype": "text/x-python",
   "name": "python",
   "nbconvert_exporter": "python",
   "pygments_lexer": "ipython3",
   "version": "3.12.2"
  }
 },
 "nbformat": 4,
 "nbformat_minor": 2
}
