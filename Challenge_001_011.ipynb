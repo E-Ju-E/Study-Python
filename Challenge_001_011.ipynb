{
  "nbformat": 4,
  "nbformat_minor": 0,
  "metadata": {
    "colab": {
      "provenance": [],
      "authorship_tag": "ABX9TyN7M6wNF6v9oNLsKAXEWN1f",
      "include_colab_link": true
    },
    "kernelspec": {
      "name": "python3",
      "display_name": "Python 3"
    },
    "language_info": {
      "name": "python"
    }
  },
  "cells": [
    {
      "cell_type": "markdown",
      "metadata": {
        "id": "view-in-github",
        "colab_type": "text"
      },
      "source": [
        "<a href=\"https://colab.research.google.com/github/E-Ju-E/Study-Python/blob/main/Challenge_001_011.ipynb\" target=\"_parent\"><img src=\"https://colab.research.google.com/assets/colab-badge.svg\" alt=\"Open In Colab\"/></a>"
      ]
    },
    {
      "cell_type": "markdown",
      "source": [
        "### **Python: 150 Challenges**"
      ],
      "metadata": {
        "id": "N86dy9elZRst"
      }
    },
    {
      "cell_type": "markdown",
      "source": [
        "## 예제 코드"
      ],
      "metadata": {
        "id": "AVgLXrJeZoME"
      }
    },
    {
      "cell_type": "code",
      "execution_count": null,
      "metadata": {
        "id": "XvcDMZGHZQC7"
      },
      "outputs": [],
      "source": [
        "# 더하기 +\n",
        "answer = num1 + num2\n",
        "\n",
        "# 빼기 -\n",
        "answer = num1 - num2\n",
        "\n",
        "# 곱하기 *\n",
        "answer = num1 * num2\n",
        "\n",
        "# 나누기 /\n",
        "answer = num1 / num2\n",
        "\n",
        "# 나누기 // (몫)\n",
        "answer = num1 // num2\n",
        "\n",
        "# 나누기 % (나머지)\n",
        "answer = num1 % num2\n",
        "\n",
        "# 출력 print (문자일 경우 \"\" 필요)\n",
        "print( \"This is a message\" )\n",
        "\n",
        "# 출력 줄바꿈 \\n\n",
        "print( \"First line\\nSecond line\")\n",
        "\n",
        "# 출력 여러 값 ,\n",
        "print( \"The answer is\", answer )\n",
        "\n",
        "# 사용자 입력 input (기본적 세팅: 문자 타입)\n",
        "textValue = input( \"Enter a text value: \")\n",
        "\n",
        "# 정수 반환 int (정수 타입으로 변경)\n",
        "numValue = int(input( \"Enter a number: \"))"
      ]
    },
    {
      "cell_type": "markdown",
      "source": [
        "## Challenge: 001\n",
        "사용자의 이름을 입력받아서 다음과 같이 출력하라.\n",
        "\n",
        "---\n",
        "\n",
        "\n",
        "Hello [이름]"
      ],
      "metadata": {
        "id": "JAm6VaRidaZA"
      }
    },
    {
      "cell_type": "code",
      "source": [
        "# 혼자 풀어보기\n",
        "\n",
        "print(\"Hello\", input(\"이름: \"))"
      ],
      "metadata": {
        "colab": {
          "base_uri": "https://localhost:8080/"
        },
        "id": "JdRRcWfHdSr8",
        "outputId": "2142209d-fd7e-43dd-af7a-0ddbee791bdb"
      },
      "execution_count": 2,
      "outputs": [
        {
          "output_type": "stream",
          "name": "stdout",
          "text": [
            "이름: 홍길동\n",
            "Hello 홍길동\n"
          ]
        }
      ]
    },
    {
      "cell_type": "code",
      "source": [
        "# 정답 풀이\n",
        "\n",
        "firstname =input(\"Please enter your first name: \")\n",
        "print(\"Hello\", firstname)"
      ],
      "metadata": {
        "colab": {
          "base_uri": "https://localhost:8080/"
        },
        "id": "fxJ9b7R4ecdT",
        "outputId": "83293dcc-05c7-44d6-f3a9-51e372d82fb6"
      },
      "execution_count": 3,
      "outputs": [
        {
          "output_type": "stream",
          "name": "stdout",
          "text": [
            "Please enter your first name: 홍길동\n",
            "Hello 홍길동\n"
          ]
        }
      ]
    },
    {
      "cell_type": "markdown",
      "source": [
        "## Challenge: 002\n",
        "사용자의 이름을 입력받은 다음, 사용자의 성을 입력 받아서 다음과 같이 출력하라.\n",
        "\n",
        "---\n",
        "\n",
        "\n",
        "Hello [이름] [성]\n"
      ],
      "metadata": {
        "id": "pXTB9eByfL4L"
      }
    },
    {
      "cell_type": "code",
      "source": [
        "# 혼자 풀어보기\n",
        "\n",
        "firstname = input(\"이름: \")\n",
        "lastname = input(\"성: \")\n",
        "\n",
        "print(\"Hello\", firstname, lastname)"
      ],
      "metadata": {
        "colab": {
          "base_uri": "https://localhost:8080/"
        },
        "id": "y49iLyHvfQSC",
        "outputId": "5859387a-5693-4d31-e984-3bdf3dc1d027"
      },
      "execution_count": 5,
      "outputs": [
        {
          "output_type": "stream",
          "name": "stdout",
          "text": [
            "이름: 길동\n",
            "성: 홍\n",
            "Hello 길동 홍\n"
          ]
        }
      ]
    },
    {
      "cell_type": "code",
      "source": [
        "# 정답 풀이\n",
        "\n",
        "fistname = input(\"Please enter your first name: \")\n",
        "surname = input(\"Please enter your surname: \")\n",
        "print(\"Hello\", firstname, surname)"
      ],
      "metadata": {
        "colab": {
          "base_uri": "https://localhost:8080/"
        },
        "id": "7XV_E-oOgcEQ",
        "outputId": "99f57a9f-8cf6-4736-9f5a-c9950f2bf3ea"
      },
      "execution_count": 6,
      "outputs": [
        {
          "output_type": "stream",
          "name": "stdout",
          "text": [
            "Please enter your first name: 길동\n",
            "Please enter your surname: 홍\n",
            "Hello 길동 홍\n"
          ]
        }
      ]
    },
    {
      "cell_type": "markdown",
      "source": [
        "## Challenge: 003\n",
        "'What do you call a bear with no teeth?'라는 농담을 표시하고 다음 줄에 'A gummy bear!'라는 답을 표시하는 코드를 한 줄로 만들어라.\n"
      ],
      "metadata": {
        "id": "JqRtDAekhNky"
      }
    },
    {
      "cell_type": "code",
      "source": [
        "# 혼자 풀어보기\n",
        "\n",
        "print(\"What do you call a bear with no teeth?\\nA gummy bear!\")"
      ],
      "metadata": {
        "colab": {
          "base_uri": "https://localhost:8080/"
        },
        "id": "sIebENnxhdr2",
        "outputId": "48f1d941-bee6-4325-9cd4-d18b09bbe5d2"
      },
      "execution_count": 10,
      "outputs": [
        {
          "output_type": "stream",
          "name": "stdout",
          "text": [
            "What do you call a bear with no teeth?\n",
            "A gummy bear!\n"
          ]
        }
      ]
    },
    {
      "cell_type": "code",
      "source": [
        "# 정답 풀이\n",
        "\n",
        "print(\"What do you call a bear with no teeth?\\nA gummy bear!\")"
      ],
      "metadata": {
        "colab": {
          "base_uri": "https://localhost:8080/"
        },
        "id": "uTCKfCO0h26w",
        "outputId": "81df40d8-e2d9-4f48-9960-f76634365f4b"
      },
      "execution_count": 11,
      "outputs": [
        {
          "output_type": "stream",
          "name": "stdout",
          "text": [
            "What do you call a bear with no teeth?\n",
            "A gummy bear!\n"
          ]
        }
      ]
    },
    {
      "cell_type": "markdown",
      "source": [
        "## Challenge: 004\n",
        "사용자로부터 2개의 숫자를 입력 받아서 더한 결과를 다음과 같이 출력하라.\n",
        "\n",
        "---\n",
        "\n",
        "\n",
        "The total is [결과]\n"
      ],
      "metadata": {
        "id": "tutG6HsYh90e"
      }
    },
    {
      "cell_type": "code",
      "source": [
        "# 혼자 풀어보기\n",
        "\n",
        "user1 = int(input(\"A + B 를 수행할 값 A를 입력하시오: \"))\n",
        "user2 = int(input(\"A + B 를 수행할 값 B를 입력하시오: \"))\n",
        "print( \"The total is\", user1+user2 )"
      ],
      "metadata": {
        "colab": {
          "base_uri": "https://localhost:8080/"
        },
        "id": "17uK96GjiK22",
        "outputId": "426928bd-089a-4003-df42-29d510734a3e"
      },
      "execution_count": 16,
      "outputs": [
        {
          "output_type": "stream",
          "name": "stdout",
          "text": [
            "A + B 를 수행할 값 A를 입력하시오: 5\n",
            "A + B 를 수행할 값 B를 입력하시오: 10\n",
            "The total is 15\n"
          ]
        }
      ]
    },
    {
      "cell_type": "code",
      "source": [
        "# 정답 풀이\n",
        "\n",
        "num1 = int(input(\"Please enter you first number: \"))\n",
        "num2 = int(input(\"Please enter you seconde number: \"))\n",
        "answer = num1 + num2\n",
        "print( \"The total is\", answer )"
      ],
      "metadata": {
        "colab": {
          "base_uri": "https://localhost:8080/"
        },
        "id": "pD3lrgePipBG",
        "outputId": "59678737-aaf7-4200-850d-cfee8f803375"
      },
      "execution_count": 18,
      "outputs": [
        {
          "output_type": "stream",
          "name": "stdout",
          "text": [
            "Please enter you first number: 5\n",
            "Please enter you seconde number: 10\n",
            "The total is 15\n"
          ]
        }
      ]
    },
    {
      "cell_type": "markdown",
      "source": [
        "## Challenge: 005\n",
        "사용자로부터 3개의 숫자를 입력 받고, 첫 번째 숫자와 두 번째 숫자를 더한 값에 세 번째 숫자를 곱한 결과를 다음과 같이 출력하라.\n",
        "\n",
        "---\n",
        "\n",
        "\n",
        "The answer is [결과]"
      ],
      "metadata": {
        "id": "C2ixz3fojfZU"
      }
    },
    {
      "cell_type": "code",
      "source": [
        "# 혼자 풀어보기\n",
        "\n",
        "user1 = int(input(\"(A+B)*C 를 수행할 값 A를 입력하시오: \"))\n",
        "user2 = int(input(\"(A+B)*C 를 수행할 값 B를 입력하시오: \"))\n",
        "user3 = int(input(\"(A+B)*C 를 수행할 값 C를 입력하시오: \"))\n",
        "\n",
        "answer = (user1 + user2) * user3\n",
        "print(\"The answer is\", answer)\n"
      ],
      "metadata": {
        "colab": {
          "base_uri": "https://localhost:8080/"
        },
        "id": "nHLnDFX2jeM2",
        "outputId": "b57b73e3-5ef5-4f0e-db86-0e00ab3b2d24"
      },
      "execution_count": 19,
      "outputs": [
        {
          "output_type": "stream",
          "name": "stdout",
          "text": [
            "(A+B)*C 를 수행할 값 A를 입력하시오: 8\n",
            "(A+B)*C 를 수행할 값 B를 입력하시오: 11\n",
            "(A+B)*C 를 수행할 값 C를 입력하시오: 45\n",
            "The answer is 855\n"
          ]
        }
      ]
    },
    {
      "cell_type": "code",
      "source": [
        "# 정답 풀이\n",
        "\n",
        "num1 = int(input(\"Please enter you first number: \"))\n",
        "num2 = int(input(\"Please enter you seconde number: \"))\n",
        "num3 = int(input(\"Please enter you third number: \"))\n",
        "answer = (num1 + num2) * num3\n",
        "print(\"The answer is\", answer)"
      ],
      "metadata": {
        "colab": {
          "base_uri": "https://localhost:8080/"
        },
        "id": "rJZAjvZWkBd0",
        "outputId": "e3c857fc-f0ed-41f7-93fc-971d0b1d2624"
      },
      "execution_count": 20,
      "outputs": [
        {
          "output_type": "stream",
          "name": "stdout",
          "text": [
            "Please enter you first number: 8\n",
            "Please enter you seconde number: 11\n",
            "Please enter you third number: 45\n",
            "The answer is 855\n"
          ]
        }
      ]
    },
    {
      "cell_type": "markdown",
      "source": [
        "## Challenge: 006\n",
        "사용자로부터 처음에 가지고 있었던 피자 조각 수를 입력받고, 몇 조각을 먹었는지 입력받아서 남은 조각 수를 계산하여 사람에게 익숙한 형식으로 출력하라."
      ],
      "metadata": {
        "id": "lWaWaxI5knK1"
      }
    },
    {
      "cell_type": "code",
      "source": [
        "# 혼자 풀어보기\n",
        "\n",
        "first = int(input(\"처음에 피자가 몇 조각 있었나요?: \"))\n",
        "eat = int(input(\"피자를 몇 조각 먹었나요?: \"))\n",
        "left = first - eat\n",
        "print(\"남은 피자 조각의 수는\", left, \"조각 입니다.\")"
      ],
      "metadata": {
        "colab": {
          "base_uri": "https://localhost:8080/"
        },
        "id": "Bfm8yV-3k33D",
        "outputId": "296c8f3b-3455-45c4-90cb-8594a704f56c"
      },
      "execution_count": 21,
      "outputs": [
        {
          "output_type": "stream",
          "name": "stdout",
          "text": [
            "처음에 피자가 몇 조각 있었나요?: 12\n",
            "피자를 몇 조각 먹었나요?: 7\n",
            "남은 피자 조각의 수는 5 조각 입니다.\n"
          ]
        }
      ]
    },
    {
      "cell_type": "code",
      "source": [
        "# 정답 풀이\n",
        "\n",
        "startNum = int(input(\"Enter the number of slices of pizza you started with: \"))\n",
        "endNum = int(input(\"How many slices have you eaten? \"))\n",
        "slicesLeft = startNum - endNum\n",
        "print(\"You have\", slicesLeft, \"slices remaining\")"
      ],
      "metadata": {
        "colab": {
          "base_uri": "https://localhost:8080/"
        },
        "id": "Y8cS7m8VlbqM",
        "outputId": "d1ca7164-b322-4725-8ca0-ff15ce5ecc49"
      },
      "execution_count": 23,
      "outputs": [
        {
          "output_type": "stream",
          "name": "stdout",
          "text": [
            "Enter the number of slices of pizza you started with: 12\n",
            "How many slices have you eaten? 7\n",
            "You have 5 slices remaining\n"
          ]
        }
      ]
    },
    {
      "cell_type": "markdown",
      "source": [
        "## Challenge: 007\n",
        "사용자로부터 이름과 나이를 입력받아서 나이에 1을 더한 후 다음과 같이 출력하라.\n",
        "\n",
        "---\n",
        "\n",
        "\n",
        "[이름] next birthday you will be [새로운 나이]"
      ],
      "metadata": {
        "id": "a86qVNlGmA4E"
      }
    },
    {
      "cell_type": "code",
      "source": [
        "# 혼자 풀어보기\n",
        "\n",
        "name = input(\"이름: \")\n",
        "age = int(input(\"나이: \"))\n",
        "new_age = age + 1\n",
        "\n",
        "print(name, \"next birthday you will be\", new_age)"
      ],
      "metadata": {
        "colab": {
          "base_uri": "https://localhost:8080/"
        },
        "id": "54uXRHNPmTOV",
        "outputId": "8508484a-b05b-42d5-fded-237a2ddf85ad"
      },
      "execution_count": 24,
      "outputs": [
        {
          "output_type": "stream",
          "name": "stdout",
          "text": [
            "이름: 홍길동\n",
            "나이: 25\n",
            "홍길동 next birthday you will be 26\n"
          ]
        }
      ]
    },
    {
      "cell_type": "code",
      "source": [
        "# 정답 풀이\n",
        "\n",
        "name = input(\"What is your name? \")\n",
        "age = int(input(\"How old are you? \"))\n",
        "newAge = age + 1\n",
        "print(name, \"next birthday you will be\", newAge)"
      ],
      "metadata": {
        "colab": {
          "base_uri": "https://localhost:8080/"
        },
        "id": "J2gHz-OOmqh0",
        "outputId": "8e271941-1627-4043-efa0-80ca95365869"
      },
      "execution_count": 25,
      "outputs": [
        {
          "output_type": "stream",
          "name": "stdout",
          "text": [
            "What is your name? 홍길동\n",
            "How old are you? 25\n",
            "홍길동 next birthday you will be 26\n"
          ]
        }
      ]
    }
  ]
}