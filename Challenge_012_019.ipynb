{
  "nbformat": 4,
  "nbformat_minor": 0,
  "metadata": {
    "colab": {
      "provenance": [],
      "authorship_tag": "ABX9TyNwNUGWEb1/15TU+7r7Zgkt",
      "include_colab_link": true
    },
    "kernelspec": {
      "name": "python3",
      "display_name": "Python 3"
    },
    "language_info": {
      "name": "python"
    }
  },
  "cells": [
    {
      "cell_type": "markdown",
      "metadata": {
        "id": "view-in-github",
        "colab_type": "text"
      },
      "source": [
        "<a href=\"https://colab.research.google.com/github/E-Ju-E/Study-Python/blob/main/Challenge_012_019.ipynb\" target=\"_parent\"><img src=\"https://colab.research.google.com/assets/colab-badge.svg\" alt=\"Open In Colab\"/></a>"
      ]
    },
    {
      "cell_type": "markdown",
      "source": [
        "### **Python: 150 Challenges**"
      ],
      "metadata": {
        "id": "N86dy9elZRst"
      }
    },
    {
      "cell_type": "markdown",
      "source": [
        "## 예제 코드"
      ],
      "metadata": {
        "id": "AVgLXrJeZoME"
      }
    },
    {
      "cell_type": "code",
      "source": [
        "# num이 10보다 클 경우, 작을 경우 각각의 메시지 표시\n",
        "if num > 10:\n",
        "    print(\"This is over 10\")\n",
        "else :\n",
        "    print(\"This is not over 10\")\n",
        "\n",
        "# num이 10보다 클 경우, 같을 경우, 작을 경우 각각의 메시지 표시\n",
        "if num > 10:\n",
        "    print(\"This is over 10\")\n",
        "elif num == 10:\n",
        "    print(\"This is equal to 10\")\n",
        "else :\n",
        "    print(\"This is under 10\")\n",
        "\n",
        "# num이 20과 10에 대해 큰 경우, 작을 경우 각각의 메시지 표시\n",
        "if num >= 10:\n",
        "    if num <= 20:\n",
        "        print(\"This is between 10 and 20\")\n",
        "    else:\n",
        "        print(\"This is over 20\")\n",
        "else :\n",
        "    print(\"This is under 10\")\n",
        "\n",
        "# 텍스트 소문자로 변경\n",
        "text = str.lower(text)\n",
        "\n",
        "# 조건 모두 충족:  and\n",
        "num = int(input(\"Enter a number between 10 and 20: \"))\n",
        "if num >= 10 and num <= 20:\n",
        "    print(\"Thank you\")\n",
        "else :\n",
        "    print(\"Out of range\")\n",
        "\n",
        "# 조건 최소 하나만 충족: or\n",
        "num = int(input(\"Enter an EVEN number between 1 and 5: \"))\n",
        "if num == 2 or num == 4:\n",
        "    print(\"Thank you\")\n",
        "else:\n",
        "    print(\"Incorrect\")"
      ],
      "metadata": {
        "id": "nz564wL90ze_"
      },
      "execution_count": null,
      "outputs": []
    },
    {
      "cell_type": "markdown",
      "source": [
        "## Challenge: 012\n",
        "두 개의 숫자를 입력받는다.\n",
        "만약 첫 번째 숫자가 두 번째 숫자보다 크면,\n",
        "두 번째 숫자를 먼저 출력한 다음에 첫 번째 숫자를 출력하라.\n",
        "그렇지 않다면 첫 번째 숫자를 출력한 다음에 두 번째 숫자를 출력하라."
      ],
      "metadata": {
        "id": "JAm6VaRidaZA"
      }
    },
    {
      "cell_type": "code",
      "source": [
        "# 혼자 풀어보기\n",
        "\n",
        "num1 = int(input(\"첫 번째 숫자 입력: \"))\n",
        "num2 = int(input(\"두 번째 숫자 입력: \"))\n",
        "if num1 > num2 :\n",
        "    print(num2, num1)\n",
        "else :\n",
        "    print(num1, num2)"
      ],
      "metadata": {
        "id": "v_-dNdka3cCg",
        "colab": {
          "base_uri": "https://localhost:8080/"
        },
        "outputId": "5592ce0f-5b99-436a-ae86-d99618bc9537"
      },
      "execution_count": 1,
      "outputs": [
        {
          "output_type": "stream",
          "name": "stdout",
          "text": [
            "첫 번째 숫자 입력: 156\n",
            "두 번째 숫자 입력: 89\n",
            "89 156\n"
          ]
        }
      ]
    },
    {
      "cell_type": "code",
      "source": [
        "# 해설\n",
        "\n",
        "num1 = int(input(\"Enter first number: \"))\n",
        "num2 = int(input(\"Enter second number: \"))\n",
        "if num1 > num2 :\n",
        "    print(num2, num1)\n",
        "else :\n",
        "    print(num1, num2)"
      ],
      "metadata": {
        "colab": {
          "base_uri": "https://localhost:8080/"
        },
        "id": "WxFWCOotXa4p",
        "outputId": "6e7af5df-792f-4014-8249-d070bc1c7ae9"
      },
      "execution_count": 3,
      "outputs": [
        {
          "output_type": "stream",
          "name": "stdout",
          "text": [
            "Enter first number: 156\n",
            "Enter second number: 89\n",
            "89 156\n"
          ]
        }
      ]
    },
    {
      "cell_type": "markdown",
      "source": [
        "## Challenge: 013\n",
        "사용자에게 20보다 작은 숫자를 입 력하라고 요청한다. 만약 입력된 값이 20과 같거나 크면 \"Too high\"라는 메시지를 출력하라. 그렇지 않다면 \"Thank you\"를 출력하라."
      ],
      "metadata": {
        "id": "pXTB9eByfL4L"
      }
    },
    {
      "cell_type": "code",
      "source": [
        "# 혼자 풀어보기\n",
        "\n",
        "num = int(input(\"20미만의 숫자 입력: \"))\n",
        "if num >= 20 :\n",
        "    print(\"Too high\")\n",
        "else :\n",
        "    print(\"Thank you\")"
      ],
      "metadata": {
        "id": "d6tJBN6v3hTg",
        "colab": {
          "base_uri": "https://localhost:8080/"
        },
        "outputId": "ce0fbcc9-42eb-485f-f063-d7f72936999b"
      },
      "execution_count": 5,
      "outputs": [
        {
          "output_type": "stream",
          "name": "stdout",
          "text": [
            "20미만의 숫자 입력: 43\n",
            "Too high\n"
          ]
        }
      ]
    },
    {
      "cell_type": "code",
      "source": [
        "# 해설\n",
        "\n",
        "num = int(input(\"ENter a value less than 20: \"))\n",
        "if num >= 20 :\n",
        "    print(\"Too high\")\n",
        "else :\n",
        "    print(\"Thank you\")"
      ],
      "metadata": {
        "colab": {
          "base_uri": "https://localhost:8080/"
        },
        "id": "gC-ujhoOX4-K",
        "outputId": "2412cbcd-ff94-407a-ad4b-e9256bb4a627"
      },
      "execution_count": 4,
      "outputs": [
        {
          "output_type": "stream",
          "name": "stdout",
          "text": [
            "ENter a value less than 20: 43\n",
            "Too high\n"
          ]
        }
      ]
    },
    {
      "cell_type": "markdown",
      "source": [
        "## Challenge: 014\n",
        "사용자에게 10과 20(포함) 사이의 숫자를 입력하라고 요청한다. 만약 입력한 값이 이 범위 안의 숫자이면 \"Thank you\"라는 메시지를 출력하라. 그렇지 않다면 \"Incorrect answer\"라는 메시지를 출력하라.\n"
      ],
      "metadata": {
        "id": "JqRtDAekhNky"
      }
    },
    {
      "cell_type": "code",
      "source": [
        "# 혼자 풀어보기\n",
        "\n",
        "num = int(input(\"10에서 20 사이의 슷자 입력: \"))\n",
        "if 10 <= num <= 20 :\n",
        "    print(\"Thank you\")\n",
        "else :\n",
        "    print(\"Incorrect answer\")"
      ],
      "metadata": {
        "id": "dp-iwXA831VQ",
        "colab": {
          "base_uri": "https://localhost:8080/"
        },
        "outputId": "fd70a834-6cfc-4c4f-fd54-bc3016afdcf8"
      },
      "execution_count": 10,
      "outputs": [
        {
          "output_type": "stream",
          "name": "stdout",
          "text": [
            "10에서 20 사이의 슷자 입력: 14\n",
            "Thank you\n"
          ]
        }
      ]
    },
    {
      "cell_type": "code",
      "source": [
        "# 해설\n",
        "\n",
        "num = int(input(\"Enter avalue between 10 and 20: \"))\n",
        "if num >= 10 and num <= 20 :\n",
        "    print(\"Thank you\")\n",
        "else:\n",
        "    print(\"Incorrect answer\")"
      ],
      "metadata": {
        "colab": {
          "base_uri": "https://localhost:8080/"
        },
        "id": "JFTcqzUNYMtV",
        "outputId": "62d3ea4e-2ebb-45f1-a834-6e867d8b5237"
      },
      "execution_count": 11,
      "outputs": [
        {
          "output_type": "stream",
          "name": "stdout",
          "text": [
            "Enter avalue between 10 and 20: 14\n",
            "Thank you\n"
          ]
        }
      ]
    },
    {
      "cell_type": "markdown",
      "source": [
        "## Challenge: 015\n",
        "사용자에게 좋아하는 색을 입력하라고 요청한다. 만약 \"red\"나 \"RED\" 또는 \"Red\"를 입력하면, \"I like red too\"라는 메시지를 출력하라. 그렇지 않다면 \"I don't like that color, I prefer red\"라는 메시지를 출력하라.\n"
      ],
      "metadata": {
        "id": "tutG6HsYh90e"
      }
    },
    {
      "cell_type": "code",
      "source": [
        "# 혼자 풀어보기\n",
        "\n",
        "color = input(\"좋아하는 색 입럭: \")\n",
        "if color == \"red\" or color == \"RED\" or color == \"Red\" :\n",
        "    print(\"I like red too\")\n",
        "else :\n",
        "    print(\"I don't like that color, I prefer red\")"
      ],
      "metadata": {
        "id": "x_8MZcJR4NxG",
        "colab": {
          "base_uri": "https://localhost:8080/"
        },
        "outputId": "de293cd0-fefd-4ef8-cdbf-83b0e759a67e"
      },
      "execution_count": null,
      "outputs": [
        {
          "output_type": "stream",
          "name": "stdout",
          "text": [
            "좋아하는 색 입럭: red\n",
            "I like red too\n"
          ]
        }
      ]
    },
    {
      "cell_type": "code",
      "source": [
        "# 해설\n",
        "\n",
        "color = input(\"Type in your favorite color: \")\n",
        "if color == \"red\" or color == \"RED\" or color == \"Red\" :\n",
        "    print(\"I like red too\")\n",
        "else :\n",
        "    print(\"I don't like that color, I prefer red\")"
      ],
      "metadata": {
        "colab": {
          "base_uri": "https://localhost:8080/"
        },
        "id": "q9fnJp30ZAA3",
        "outputId": "1896b998-577f-4dae-953a-9d0dd24527bb"
      },
      "execution_count": 13,
      "outputs": [
        {
          "output_type": "stream",
          "name": "stdout",
          "text": [
            "Type in your favorite color: red\n",
            "I like red too\n"
          ]
        }
      ]
    },
    {
      "cell_type": "markdown",
      "source": [
        "## Challenge: 016\n",
        "사용자에게 지금 비가 오는지 묻고 그 대답을 소문자로 변환하여 대소문자에 상관없도록 한다. 만약 \"yes\"라고 입력한다면 바람이 부는지 묻는다. 두 번째 질문에 대해 \"yes\"라고 입력하면 \"It is too windy for and umbrella\"라는 메시지를 표시하라. 그렇지 않다면 \"Take and umbrella\"라는 메시지를 표시하라. 만약 첫 번째 질문에 대해 \"yes\"라고 입력하지 않는다면 \"Enjoy your day\"라는 메시지를 표시하라."
      ],
      "metadata": {
        "id": "C2ixz3fojfZU"
      }
    },
    {
      "cell_type": "code",
      "source": [
        "# 혼자 풀어보기\n",
        "\n",
        "user1 = str.lower(input(\"밖에 비가 오나요?: \"))\n",
        "if user1 == \"yes\" :\n",
        "    user2 = str.lower(input(\"밖에 바람이 부나요?\"))\n",
        "    if user2 == \"yes\":\n",
        "        print(\"It is too windy for and umbrella\")\n",
        "    else :\n",
        "        print(\"Take and umbrella\")\n",
        "else :\n",
        "    print(\"Enjoy your day\")"
      ],
      "metadata": {
        "id": "_QwibbLS4pzd",
        "colab": {
          "base_uri": "https://localhost:8080/"
        },
        "outputId": "2ee842e0-6f6c-453a-8cdb-ecd302ba6deb"
      },
      "execution_count": 14,
      "outputs": [
        {
          "output_type": "stream",
          "name": "stdout",
          "text": [
            "밖에 비가 오나요?: Yes\n",
            "밖에 바람이 부나요?No\n",
            "Take and umbrella\n"
          ]
        }
      ]
    },
    {
      "cell_type": "code",
      "source": [
        "# 해설\n",
        "\n",
        "raining = input(\"Is it raining? \")\n",
        "raining = str.lower(raining)\n",
        "if raining == \"yes\" :\n",
        "    windy = input(\"Is it windy? \")\n",
        "    windy = str.lower(windy)\n",
        "    if windy == \"yes\" :\n",
        "        print(\"It is twoo windy for an umbrella\")\n",
        "    else :\n",
        "        print(\"Take an umbrella\")\n",
        "else :\n",
        "    print(\"Enjoy your day\")"
      ],
      "metadata": {
        "colab": {
          "base_uri": "https://localhost:8080/"
        },
        "id": "xq9BPdAeZdrH",
        "outputId": "739f9518-a77b-4433-b41e-317e49d7407c"
      },
      "execution_count": 16,
      "outputs": [
        {
          "output_type": "stream",
          "name": "stdout",
          "text": [
            "Is it raining? Yes\n",
            "Is it windy? No\n",
            "Take an umbrella\n"
          ]
        }
      ]
    },
    {
      "cell_type": "markdown",
      "source": [
        "## Challenge: 017\n",
        "사용자의 나이를 묻자. 만약 18세 이상이면 \"You can vote\"라는 메시지를 표시하라. 만약 17세라면 \"You can learn to drive\"라는 메시지를 표시하라. 만약 16세 라면 \"You can buy a lottery ticker\"이라는 메시지를 표시하라. 만약 16세 미만이라면 \"You can go Trick-or-Treating\"이라는 메시지를 표시하라."
      ],
      "metadata": {
        "id": "lWaWaxI5knK1"
      }
    },
    {
      "cell_type": "code",
      "source": [
        "# 혼자 풀어보기\n",
        "\n",
        "age = int(input(\"나이: \"))\n",
        "\n",
        "if age >= 18 :\n",
        "    print(\"You can vote\")\n",
        "elif age == 17 :\n",
        "    print(\"You can learn to drive\")\n",
        "elif age == 16 :\n",
        "    print(\"You can buy a lottery ticker\")\n",
        "else :\n",
        "    print(\"You can go Trick-or-Treating\")"
      ],
      "metadata": {
        "id": "2G93xmXA5LK_",
        "colab": {
          "base_uri": "https://localhost:8080/"
        },
        "outputId": "57f5727a-513a-4eb0-c7bb-3eb1541fc5af"
      },
      "execution_count": null,
      "outputs": [
        {
          "output_type": "stream",
          "name": "stdout",
          "text": [
            "나이: 17\n",
            "You can learn to drive\n"
          ]
        }
      ]
    },
    {
      "cell_type": "code",
      "source": [
        "# 해설\n",
        "\n",
        "age = int(input(\"What is your age? \"))\n",
        "if age >= 18:\n",
        "    print(\"You can vote\")\n",
        "elif age == 17 :\n",
        "    print(\"You can learn to drive\")\n",
        "elif age == 16 :\n",
        "    print(\"You can buy a lottery ticket\")\n",
        "else :\n",
        "    print(\"You can go Trick-or-Treating\")"
      ],
      "metadata": {
        "colab": {
          "base_uri": "https://localhost:8080/"
        },
        "id": "6tyM5HSZaEHp",
        "outputId": "7cd455bb-5bb4-4ceb-8c1a-69bdf259b3e9"
      },
      "execution_count": 17,
      "outputs": [
        {
          "output_type": "stream",
          "name": "stdout",
          "text": [
            "What is your age? 17\n",
            "You can learn to drive\n"
          ]
        }
      ]
    },
    {
      "cell_type": "markdown",
      "source": [
        "## Challenge: 018\n",
        "사용자에게 숫자를 입력하라고 요청하자. 만약 10 미만이면 \"Too low\"라는 메시지를 표시하라. 만약 입력한 숫자가 10에서 20 사이라면 \"Correct\"라고 표시하라. 그렇지 않다면 \"Too high\"라고 표시하라."
      ],
      "metadata": {
        "id": "a86qVNlGmA4E"
      }
    },
    {
      "cell_type": "code",
      "source": [
        "# 혼자 풀어보기\n",
        "\n",
        "num = int(input(\"숫자 입력: \"))\n",
        "\n",
        "if num < 10 :\n",
        "    print(\"Too low\")\n",
        "elif 10 <= num <= 20 :\n",
        "    print(\"Correct\")\n",
        "else :\n",
        "    print(\"Too high\")"
      ],
      "metadata": {
        "id": "-RJ36Lxf5h8y",
        "colab": {
          "base_uri": "https://localhost:8080/"
        },
        "outputId": "909dc6b7-fb5c-4bf7-ad46-b083421c8134"
      },
      "execution_count": 18,
      "outputs": [
        {
          "output_type": "stream",
          "name": "stdout",
          "text": [
            "숫자 입력: 13\n",
            "Correct\n"
          ]
        }
      ]
    },
    {
      "cell_type": "code",
      "source": [
        "# 해설\n",
        "\n",
        "num = int(input(\"Enter a number: \"))\n",
        "if num < 10:\n",
        "    print(\"Too low\")\n",
        "elif num >=10 and num <=20 :\n",
        "    print(\"Correct\")\n",
        "else :\n",
        "    print(\"Too high\")"
      ],
      "metadata": {
        "colab": {
          "base_uri": "https://localhost:8080/"
        },
        "id": "oDIXCWgLabBB",
        "outputId": "97c1e2ab-0745-4a68-f82a-6baa1907f44f"
      },
      "execution_count": 19,
      "outputs": [
        {
          "output_type": "stream",
          "name": "stdout",
          "text": [
            "Enter a number: 13\n",
            "Correct\n"
          ]
        }
      ]
    },
    {
      "cell_type": "markdown",
      "source": [
        "## Challenge: 019\n",
        "사용자에게 1이나 2 또는 3을 입력하라고 하자. 만약 1을 입력하면 \"Thank you\"라는 메시지를 표시하라. 만약 2를 입력하면 \"Welldone\"을 표시하라. 만약 3을 입력하면 \"Correct\"를 표시하라. 만약 사용자가 다른 것을 입력하면 \"Error message\"를 표시하라."
      ],
      "metadata": {
        "id": "zVUVBkcTj9AJ"
      }
    },
    {
      "cell_type": "code",
      "source": [
        "# 혼자 풀어보기\n",
        "\n",
        "user = int(input(\"1, 2, 3 중에 하나 고르세요: \"))\n",
        "\n",
        "if user == 1 :\n",
        "    print(\"Thank you\")\n",
        "elif user == 2 :\n",
        "    print(\"Welldone\")\n",
        "elif user == 3 :\n",
        "    print(\"Correct\")\n",
        "else :\n",
        "    print(\"Error message\")"
      ],
      "metadata": {
        "id": "Qp7QkPvu6KqJ",
        "colab": {
          "base_uri": "https://localhost:8080/"
        },
        "outputId": "fde7cbc0-a916-491d-8761-d792522af399"
      },
      "execution_count": null,
      "outputs": [
        {
          "output_type": "stream",
          "name": "stdout",
          "text": [
            "1, 2, 3 중에 하나 고르세요: 3\n",
            "Correct\n"
          ]
        }
      ]
    },
    {
      "cell_type": "code",
      "source": [
        "# 해설\n",
        "\n",
        "num = input(\"Enter 1, 2, or 3: \")\n",
        "if num == \"1\" :\n",
        "    print(\"Thank you\")\n",
        "elif num == \"2\" :\n",
        "    print(\"Well done\")\n",
        "elif num == \"3\" :\n",
        "    print(\"Correct\")\n",
        "else :\n",
        "    print(\"Error message\")"
      ],
      "metadata": {
        "colab": {
          "base_uri": "https://localhost:8080/"
        },
        "id": "W4_qQsg_a0JG",
        "outputId": "e2acba97-7fe3-4b0e-ffc1-71308b7d4185"
      },
      "execution_count": 22,
      "outputs": [
        {
          "output_type": "stream",
          "name": "stdout",
          "text": [
            "Enter 1, 2, or 3: 3\n",
            "Correct\n"
          ]
        }
      ]
    }
  ]
}