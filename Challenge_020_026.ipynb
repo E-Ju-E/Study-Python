{
  "nbformat": 4,
  "nbformat_minor": 0,
  "metadata": {
    "colab": {
      "provenance": [],
      "authorship_tag": "ABX9TyNcV5ZJJ0CF+eZa5+JpIdMh",
      "include_colab_link": true
    },
    "kernelspec": {
      "name": "python3",
      "display_name": "Python 3"
    },
    "language_info": {
      "name": "python"
    }
  },
  "cells": [
    {
      "cell_type": "markdown",
      "metadata": {
        "id": "view-in-github",
        "colab_type": "text"
      },
      "source": [
        "<a href=\"https://colab.research.google.com/github/E-Ju-E/Study-Python/blob/main/Challenge_020_026.ipynb\" target=\"_parent\"><img src=\"https://colab.research.google.com/assets/colab-badge.svg\" alt=\"Open In Colab\"/></a>"
      ]
    },
    {
      "cell_type": "markdown",
      "source": [
        "### **Python: 150 Challenges**"
      ],
      "metadata": {
        "id": "N86dy9elZRst"
      }
    },
    {
      "cell_type": "markdown",
      "source": [
        "## 예제 코드"
      ],
      "metadata": {
        "id": "AVgLXrJeZoME"
      }
    },
    {
      "cell_type": "code",
      "source": [
        "# 변수의 길이\n",
        "len(word)\n",
        "\n",
        "# 문자열 전체 대문자로 변환\n",
        "word.upper()\n",
        "\n",
        "# 문자열 전체 소문자료 변환\n",
        "word.lower\n",
        "\n",
        "# 문자열의 첫 문자만 대문자, 나머지는 모두 소문자로 변환\n",
        "word.capitalize()\n",
        "\n",
        "# 모든 단어의 시작하는 문자를 대문자, 나머지는 모두 소문자로 변환\n",
        "word.title\n",
        "\n",
        "# 문자열 간의 결합(공백 없이 결합)\n",
        "word = first word + second word\n",
        "\n",
        "# 문자열의 시작과 끝에 있는 문자 제거\n",
        "word.strip(\"\")\n",
        "\n",
        "# 인덱스 [] 문자 각각의 위치 식별을 위한 인덱스 (0부터 시작)\n",
        "print(\"Hello world!\"[7:10])"
      ],
      "metadata": {
        "id": "nz564wL90ze_"
      },
      "execution_count": null,
      "outputs": []
    },
    {
      "cell_type": "markdown",
      "source": [
        "## Challenge: 020\n",
        "사용자에게 이름을 요청하고, 그 이름의 길이를 출력하라."
      ],
      "metadata": {
        "id": "JAm6VaRidaZA"
      }
    },
    {
      "cell_type": "code",
      "source": [
        "# 혼자 풀어보기\n",
        "\n"
      ],
      "metadata": {
        "id": "zqzrAc_NeUUj"
      },
      "execution_count": null,
      "outputs": []
    },
    {
      "cell_type": "markdown",
      "source": [
        "## Challenge: 021\n",
        "사용자에게 이름을 묻고 그 다음으로 성을 묻는다. 이름과 성 사이에 공백 하나를 두어 출력하고 공백을 포함한 저체 이름의 길이를 출력하라."
      ],
      "metadata": {
        "id": "pXTB9eByfL4L"
      }
    },
    {
      "cell_type": "code",
      "source": [
        "# 혼자 풀어보기\n",
        "\n"
      ],
      "metadata": {
        "id": "GKKTRpAAee2X"
      },
      "execution_count": null,
      "outputs": []
    },
    {
      "cell_type": "markdown",
      "source": [
        "## Challenge: 022\n",
        "사용자에게 이름과 성을 소문자로 입력하라고 요청한다. 각 첫 문자만 대문자로 변경하고 이름과 성 사이에 공백을 하나 두어 결합한 후에 그 결과를 출력하라."
      ],
      "metadata": {
        "id": "JqRtDAekhNky"
      }
    },
    {
      "cell_type": "code",
      "source": [
        "# 혼자 풀어보기\n",
        "\n"
      ],
      "metadata": {
        "id": "nR1gXz6yeqiF"
      },
      "execution_count": null,
      "outputs": []
    },
    {
      "cell_type": "markdown",
      "source": [
        "## Challenge: 023\n",
        "사용자에게 자장가의 첫 줄을 입력하라고 요청하고 그 문자열의 길이를 출력한다. 사용자에게 범위를 시작할 인덱스 번호를 묻고 범위의 끝 인덱스 번호를 묻는다. 그런 후에 그 범위의 텍스트를 출력하라. 파이썬에서 인덱스는 1이 아닌 0부터 시작한다는 것을 기억하자."
      ],
      "metadata": {
        "id": "tutG6HsYh90e"
      }
    },
    {
      "cell_type": "code",
      "source": [
        "# 혼자 풀어보기\n",
        "\n"
      ],
      "metadata": {
        "id": "AlWsgljWe7wU"
      },
      "execution_count": null,
      "outputs": []
    },
    {
      "cell_type": "markdown",
      "source": [
        "## Challenge: 024\n",
        "사용자에게 아무 단어나 입력하라고 하고 그것을 대문자로 출력하라."
      ],
      "metadata": {
        "id": "C2ixz3fojfZU"
      }
    },
    {
      "cell_type": "code",
      "source": [
        "# 혼자 풀어보기\n",
        "\n"
      ],
      "metadata": {
        "id": "hn8prGNgfIyw"
      },
      "execution_count": null,
      "outputs": []
    },
    {
      "cell_type": "markdown",
      "source": [
        "## Challenge: 025\n",
        "사용자에게 이름을 입력하라고 요청한다. 만약 이름의 길이가 5자 미만이면 성을 입력하라고 요청하고 중간 공백 없이 이름과 성을 결합하고 대문자로 출력하라. 만약 이름의 길이가 5자 이상이면 이름을 소문자로 출력하라."
      ],
      "metadata": {
        "id": "lWaWaxI5knK1"
      }
    },
    {
      "cell_type": "code",
      "source": [
        "# 혼자 풀어보기\n",
        "\n"
      ],
      "metadata": {
        "id": "Mdeqb6XlfV1M"
      },
      "execution_count": null,
      "outputs": []
    },
    {
      "cell_type": "markdown",
      "source": [
        "## Challenge: 026\n",
        "피그 라틴(Pig Latin)은 단어의 첫 자음을 가져와서 단어 끝으로 이동하고 마지막에 'ay'를 추가한다. 만약 단어가 모음으로 시작한다면 단어의 끝에 그냥 'way'를 붙인다. 예를들어, 'pig'라는 단어는 'ipig', 'banana'는 'ananabay', 그리고 'aadvark'는 'aadvarkway'가 된다. 사용자에게 단어를 입력받아서 피그 라틴으로 변환하고 소문자로 출력하는 프로그램을 만들어라."
      ],
      "metadata": {
        "id": "a86qVNlGmA4E"
      }
    },
    {
      "cell_type": "code",
      "source": [
        "# 혼자 풀어보기\n",
        "\n"
      ],
      "metadata": {
        "id": "kNP58tv_f51K"
      },
      "execution_count": null,
      "outputs": []
    }
  ]
}