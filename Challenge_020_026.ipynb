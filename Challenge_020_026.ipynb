{
  "nbformat": 4,
  "nbformat_minor": 0,
  "metadata": {
    "colab": {
      "provenance": [],
      "authorship_tag": "ABX9TyN9693FBiGImYv7517to5YY",
      "include_colab_link": true
    },
    "kernelspec": {
      "name": "python3",
      "display_name": "Python 3"
    },
    "language_info": {
      "name": "python"
    }
  },
  "cells": [
    {
      "cell_type": "markdown",
      "metadata": {
        "id": "view-in-github",
        "colab_type": "text"
      },
      "source": [
        "<a href=\"https://colab.research.google.com/github/E-Ju-E/Study-Python/blob/main/Challenge_020_026.ipynb\" target=\"_parent\"><img src=\"https://colab.research.google.com/assets/colab-badge.svg\" alt=\"Open In Colab\"/></a>"
      ]
    },
    {
      "cell_type": "markdown",
      "source": [
        "### **Python: 150 Challenges**"
      ],
      "metadata": {
        "id": "N86dy9elZRst"
      }
    },
    {
      "cell_type": "markdown",
      "source": [
        "## 예제 코드"
      ],
      "metadata": {
        "id": "AVgLXrJeZoME"
      }
    },
    {
      "cell_type": "code",
      "source": [
        "# 변수의 길이\n",
        "len(word)\n",
        "\n",
        "# 문자열 전체 대문자로 변환\n",
        "word.upper()\n",
        "\n",
        "# 문자열 전체 소문자료 변환\n",
        "word.lower()\n",
        "\n",
        "# 문자열의 첫 문자만 대문자, 나머지는 모두 소문자로 변환\n",
        "word.capitalize()\n",
        "\n",
        "# 모든 단어의 시작하는 문자를 대문자, 나머지는 모두 소문자로 변환\n",
        "word.title()\n",
        "\n",
        "# 문자열 간의 결합(공백 없이 결합)\n",
        "word = first word + second word\n",
        "\n",
        "# 문자열의 시작과 끝에 있는 문자 제거\n",
        "word.strip(\" \")\n",
        "\n",
        "# 인덱스 [] 문자 각각의 위치 식별을 위한 인덱스 (0부터 시작)\n",
        "print(\"Hello world!\"[7:10])"
      ],
      "metadata": {
        "id": "nz564wL90ze_"
      },
      "execution_count": null,
      "outputs": []
    },
    {
      "cell_type": "markdown",
      "source": [
        "## Challenge: 020\n",
        "사용자에게 이름을 요청하고, 그 이름의 길이를 출력하라."
      ],
      "metadata": {
        "id": "JAm6VaRidaZA"
      }
    },
    {
      "cell_type": "code",
      "source": [
        "# 혼자 풀어보기\n",
        "\n",
        "name = input(\"이름 입력: \")\n",
        "print(\"이름의 길이:\", len(name))"
      ],
      "metadata": {
        "id": "zqzrAc_NeUUj",
        "colab": {
          "base_uri": "https://localhost:8080/"
        },
        "outputId": "9f04ff0a-3fbc-43b6-af0d-e2f4a6f537d2"
      },
      "execution_count": null,
      "outputs": [
        {
          "output_type": "stream",
          "name": "stdout",
          "text": [
            "이름 입력: 김가나다라\n",
            "이름의 길이: 5\n"
          ]
        }
      ]
    },
    {
      "cell_type": "code",
      "source": [
        "# 해설\n",
        "\n",
        "name = input(\"Enter your first name: \")\n",
        "length = len(name)\n",
        "print(length)"
      ],
      "metadata": {
        "colab": {
          "base_uri": "https://localhost:8080/"
        },
        "id": "CVMF1aIKgc_a",
        "outputId": "5c5d452a-a00b-451c-d22e-b8f4bc811e0d"
      },
      "execution_count": 1,
      "outputs": [
        {
          "output_type": "stream",
          "name": "stdout",
          "text": [
            "Enter your first name: 김가나다라\n",
            "5\n"
          ]
        }
      ]
    },
    {
      "cell_type": "markdown",
      "source": [
        "## Challenge: 021\n",
        "사용자에게 이름을 묻고 그 다음으로 성을 묻는다. 이름과 성 사이에 공백 하나를 두어 출력하고 공백을 포함한 저체 이름의 길이를 출력하라."
      ],
      "metadata": {
        "id": "pXTB9eByfL4L"
      }
    },
    {
      "cell_type": "code",
      "source": [
        "# 혼자 풀어보기\n",
        "\n",
        "name1 = input(\"이름 입력: \")\n",
        "name2 = input(\"성 입력: \")\n",
        "name3 = name1 + \" \" + name2\n",
        "print(name3)\n",
        "print(len(name3))"
      ],
      "metadata": {
        "id": "GKKTRpAAee2X",
        "colab": {
          "base_uri": "https://localhost:8080/"
        },
        "outputId": "6a2cab03-2f8d-4be4-8ecc-a2e91aaa0186"
      },
      "execution_count": 5,
      "outputs": [
        {
          "output_type": "stream",
          "name": "stdout",
          "text": [
            "이름 입력: Benedict\n",
            "성 입력: Cumberbatch\n",
            "Benedict Cumberbatch\n",
            "20\n"
          ]
        }
      ]
    },
    {
      "cell_type": "code",
      "source": [
        "# 해설\n",
        "\n",
        "firstname = input(\"Enter your first name: \")\n",
        "surname = input(\"Enter your surname: \")\n",
        "name = firstname + \" \" + surname\n",
        "length = len(name)\n",
        "print(name)\n",
        "print(length)"
      ],
      "metadata": {
        "colab": {
          "base_uri": "https://localhost:8080/"
        },
        "id": "eT8UFvOlgtoY",
        "outputId": "45ba19d5-4a7f-4cf8-b5e6-41581f1d4ec5"
      },
      "execution_count": 6,
      "outputs": [
        {
          "output_type": "stream",
          "name": "stdout",
          "text": [
            "Enter your first name: Benedict\n",
            "Enter your surname: Cumberbatch\n",
            "Benedict Cumberbatch\n",
            "20\n"
          ]
        }
      ]
    },
    {
      "cell_type": "markdown",
      "source": [
        "## Challenge: 022\n",
        "사용자에게 이름과 성을 소문자로 입력하라고 요청한다. 각 첫 문자만 대문자로 변경하고 이름과 성 사이에 공백을 하나 두어 결합한 후에 그 결과를 출력하라."
      ],
      "metadata": {
        "id": "JqRtDAekhNky"
      }
    },
    {
      "cell_type": "code",
      "source": [
        "# 혼자 풀어보기\n",
        "\n",
        "name1 = input(\"이름 소문자 입력: \")\n",
        "name2 = input(\"성 소문자 입력: \")\n",
        "name_1 = name1.capitalize()\n",
        "name_2 = name2.capitalize()\n",
        "name3 = name_1 + \" \" + name_2\n",
        "print(name3)"
      ],
      "metadata": {
        "id": "nR1gXz6yeqiF",
        "colab": {
          "base_uri": "https://localhost:8080/"
        },
        "outputId": "931f05e3-b8e1-4212-ed8c-1de265b8d531"
      },
      "execution_count": 7,
      "outputs": [
        {
          "output_type": "stream",
          "name": "stdout",
          "text": [
            "이름 소문자 입력: benedict\n",
            "성 소문자 입력: cumberbatch\n",
            "Benedict Cumberbatch\n"
          ]
        }
      ]
    },
    {
      "cell_type": "code",
      "source": [
        "# 해설\n",
        "\n",
        "firstname = input(\"Enter your first name in lowercase: \")\n",
        "surname = input(\"Enter your surname: \")\n",
        "firstname = firstname.title()\n",
        "surname = surname.title()\n",
        "name = firstname + \" \" + surname\n",
        "print(name)"
      ],
      "metadata": {
        "colab": {
          "base_uri": "https://localhost:8080/"
        },
        "id": "HC9hejPhgVwG",
        "outputId": "fd5da553-0630-4fe1-bde3-c94f6779fc8c"
      },
      "execution_count": 9,
      "outputs": [
        {
          "output_type": "stream",
          "name": "stdout",
          "text": [
            "Enter your first name in lowercase: benedict\n",
            "Enter your surname: cumberbatch\n",
            "Benedict Cumberbatch\n"
          ]
        }
      ]
    },
    {
      "cell_type": "markdown",
      "source": [
        "## Challenge: 023\n",
        "사용자에게 자장가의 첫 줄을 입력하라고 요청하고 그 문자열의 길이를 출력한다. 사용자에게 범위를 시작할 인덱스 번호를 묻고 범위의 끝 인덱스 번호를 묻는다. 그런 후에 그 범위의 텍스트를 출력하라. (파이썬에서 인덱스는 1이 아닌 0부터 시작)"
      ],
      "metadata": {
        "id": "tutG6HsYh90e"
      }
    },
    {
      "cell_type": "code",
      "source": [
        "# 혼자 풀어보기\n",
        "\n",
        "song = input(\"자장가의 첫 줄을 입력하시오.: \")\n",
        "print(\"자장가의 길이는\", len(song), \"입니다.\")\n",
        "ind1 = int(input(\"범위 인덱스 시작 번호: \"))\n",
        "ind2 = int(input(\"범위 인덱스 끝 번호: \"))\n",
        "print(\"선택한 범위:\", song[ind1:ind2])"
      ],
      "metadata": {
        "id": "AlWsgljWe7wU",
        "colab": {
          "base_uri": "https://localhost:8080/"
        },
        "outputId": "4b7fe67c-9773-42b6-ec50-e50a6ce7cc85"
      },
      "execution_count": 11,
      "outputs": [
        {
          "output_type": "stream",
          "name": "stdout",
          "text": [
            "자장가의 첫 줄을 입력하시오.: 엄마가 섬 그늘에 굴 따러 가면 아기가 혼자 남아 집을 보다가\n",
            "자장가의 길이는 34 입니다.\n",
            "범위 인덱스 시작 번호: 4\n",
            "범위 인덱스 끝 번호: 15\n",
            "선택한 범위: 섬 그늘에 굴 따러 \n"
          ]
        }
      ]
    },
    {
      "cell_type": "code",
      "source": [
        "# 해설\n",
        "\n",
        "phrase = input(\"Enter the first line of a nursery rhyme: \")\n",
        "length = len(phrase)\n",
        "print(\"This has\", length, \"letters in it\")\n",
        "start = int(input(\"Enter a staring number: \"))\n",
        "end = int(input(\"Enter an end number\"))\n",
        "part = (phrase[start:end])\n",
        "print(part)"
      ],
      "metadata": {
        "colab": {
          "base_uri": "https://localhost:8080/"
        },
        "id": "VtAkb-ZBj5yM",
        "outputId": "763421e3-5d26-47dc-c390-5ed0bb032c58"
      },
      "execution_count": 12,
      "outputs": [
        {
          "output_type": "stream",
          "name": "stdout",
          "text": [
            "Enter the first line of a nursery rhyme: 엄마가 섬 그늘에 굴 따러 가면 아기가 혼자 남아 집을 보다가\n",
            "This has 34 letters in it\n",
            "Enter a staring number: 4\n",
            "Enter an end number15\n",
            "섬 그늘에 굴 따러 \n"
          ]
        }
      ]
    },
    {
      "cell_type": "markdown",
      "source": [
        "## Challenge: 024\n",
        "사용자에게 아무 단어나 입력하라고 하고 그것을 대문자로 출력하라."
      ],
      "metadata": {
        "id": "C2ixz3fojfZU"
      }
    },
    {
      "cell_type": "code",
      "source": [
        "# 혼자 풀어보기\n",
        "\n",
        "word = input(\"영어로 아무 단어나 입력하시오.: \")\n",
        "print(\"대문자 변환:\", word.upper())"
      ],
      "metadata": {
        "id": "hn8prGNgfIyw",
        "colab": {
          "base_uri": "https://localhost:8080/"
        },
        "outputId": "7ee07153-6d4a-4256-af15-3f3d9936b049"
      },
      "execution_count": 14,
      "outputs": [
        {
          "output_type": "stream",
          "name": "stdout",
          "text": [
            "영어로 아무 단어나 입력하시오.: delicious waffles\n",
            "대문자 변환: DELICIOUS WAFFLES\n"
          ]
        }
      ]
    },
    {
      "cell_type": "code",
      "source": [
        "# 해설\n",
        "\n",
        "word = input(\"Enter a word: \")\n",
        "word = word.upper()\n",
        "print(word)"
      ],
      "metadata": {
        "colab": {
          "base_uri": "https://localhost:8080/"
        },
        "id": "fvMFl0e8khnT",
        "outputId": "038d36c6-4631-4cc3-a96c-39d6c8ac57cd"
      },
      "execution_count": 13,
      "outputs": [
        {
          "output_type": "stream",
          "name": "stdout",
          "text": [
            "Enter a word: delicious waffles\n",
            "DELICIOUS WAFFLES\n"
          ]
        }
      ]
    },
    {
      "cell_type": "markdown",
      "source": [
        "## Challenge: 025\n",
        "사용자에게 이름을 입력하라고 요청한다. 만약 이름의 길이가 5자 미만이면 성을 입력하라고 요청하고 중간 공백 없이 이름과 성을 결합하고 대문자로 출력하라. 만약 이름의 길이가 5자 이상이면 이름을 소문자로 출력하라."
      ],
      "metadata": {
        "id": "lWaWaxI5knK1"
      }
    },
    {
      "cell_type": "code",
      "source": [
        "# 혼자 풀어보기\n",
        "\n",
        "name1 = input(\"이름 입력: \")\n",
        "if len(name1) < 5:\n",
        "    name2 = input(\"성 입력: \")\n",
        "    name3 = name1 + name2\n",
        "    name3 = name3.upper()\n",
        "    print(name3)\n",
        "else :\n",
        "    name4 = name1.lower()\n",
        "    print(name4)\n"
      ],
      "metadata": {
        "id": "Mdeqb6XlfV1M",
        "colab": {
          "base_uri": "https://localhost:8080/"
        },
        "outputId": "f240d669-6170-499d-d619-39f631c368cb"
      },
      "execution_count": 26,
      "outputs": [
        {
          "output_type": "stream",
          "name": "stdout",
          "text": [
            "이름 입력: lily\n",
            "성 입력: lee\n",
            "LILYLEE\n"
          ]
        }
      ]
    },
    {
      "cell_type": "code",
      "source": [
        "# 해설\n",
        "\n",
        "name = input(\"Enter your first name: \")\n",
        "if len(name) < 5:\n",
        "    surname = input(\"Enter your surname: \")\n",
        "    name = name + surname\n",
        "    print(name.upper())\n",
        "else:\n",
        "    print(name.lower)"
      ],
      "metadata": {
        "colab": {
          "base_uri": "https://localhost:8080/"
        },
        "id": "0WrC8SWpn9tG",
        "outputId": "1bc97ea7-a292-42dd-9371-f5fa9f74dda5"
      },
      "execution_count": 27,
      "outputs": [
        {
          "output_type": "stream",
          "name": "stdout",
          "text": [
            "Enter your first name: lily\n",
            "Enter your surname: lee\n",
            "LILYLEE\n"
          ]
        }
      ]
    },
    {
      "cell_type": "markdown",
      "source": [
        "## Challenge: 026\n",
        "피그 라틴(Pig Latin)은 단어의 첫 자음을 가져와서 단어 끝으로 이동하고 마지막에 'ay'를 추가한다. 만약 단어가 모음으로 시작한다면 단어의 끝에 그냥 'way'를 붙인다. 예를들어, 'pig'라는 단어는 'ipig', 'banana'는 'ananabay', 그리고 'aadvark'는 'aadvarkway'가 된다. 사용자에게 단어를 입력받아서 피그 라틴으로 변환하고 소문자로 출력하는 프로그램을 만들어라."
      ],
      "metadata": {
        "id": "a86qVNlGmA4E"
      }
    },
    {
      "cell_type": "code",
      "source": [
        "# 혼자 풀어보기\n",
        "\n",
        "user = input(\"영단어 입력: \")\n",
        "if user[0] == \"a\" or user[0] == \"e\" or user[0] == \"i\" or user[0] == \"o\" or user[0] == \"u\":\n",
        "    pig1 = user + \"way\"\n",
        "    print(pig1.lower())\n",
        "else:\n",
        "    first = user[0]\n",
        "    pig2 = user[1:] + first + \"ay\"\n",
        "    print(pig2.lower())\n"
      ],
      "metadata": {
        "id": "kNP58tv_f51K",
        "colab": {
          "base_uri": "https://localhost:8080/"
        },
        "outputId": "74cd0083-db69-45c3-f906-8dfc75060acc"
      },
      "execution_count": 42,
      "outputs": [
        {
          "output_type": "stream",
          "name": "stdout",
          "text": [
            "영단어 입력: table\n",
            "abletay\n"
          ]
        }
      ]
    },
    {
      "cell_type": "code",
      "source": [
        "# 해설\n",
        "\n",
        "word = input(\"Please enter a word: \")\n",
        "first = word[0].lower()\n",
        "length = len(word)\n",
        "rest = word[1:length]\n",
        "if first != \"a\" and first != \"e\" and first != \"i\" and first !=\"o\" and first != \"u\":\n",
        "    newword = rest + first + \"ay\"\n",
        "else:\n",
        "    newword = word + \"way\"\n",
        "print(newword.lower())"
      ],
      "metadata": {
        "colab": {
          "base_uri": "https://localhost:8080/"
        },
        "id": "N12jKL4fopbK",
        "outputId": "cf19bf69-c5cb-4cb4-8b70-5cb8e4647120"
      },
      "execution_count": 43,
      "outputs": [
        {
          "output_type": "stream",
          "name": "stdout",
          "text": [
            "Please enter a word: table\n",
            "abletay\n"
          ]
        }
      ]
    }
  ]
}