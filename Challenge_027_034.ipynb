{
  "nbformat": 4,
  "nbformat_minor": 0,
  "metadata": {
    "colab": {
      "provenance": [],
      "authorship_tag": "ABX9TyOUkuIBs45qvbcoNnhq58sG",
      "include_colab_link": true
    },
    "kernelspec": {
      "name": "python3",
      "display_name": "Python 3"
    },
    "language_info": {
      "name": "python"
    }
  },
  "cells": [
    {
      "cell_type": "markdown",
      "metadata": {
        "id": "view-in-github",
        "colab_type": "text"
      },
      "source": [
        "<a href=\"https://colab.research.google.com/github/E-Ju-E/Study-Python/blob/main/Challenge_027_034.ipynb\" target=\"_parent\"><img src=\"https://colab.research.google.com/assets/colab-badge.svg\" alt=\"Open In Colab\"/></a>"
      ]
    },
    {
      "cell_type": "markdown",
      "source": [
        "### **Python: 150 Challenges**"
      ],
      "metadata": {
        "id": "N86dy9elZRst"
      }
    },
    {
      "cell_type": "markdown",
      "source": [
        "## 예제 코드"
      ],
      "metadata": {
        "id": "AVgLXrJeZoME"
      }
    },
    {
      "cell_type": "code",
      "source": [
        "# 숫자 반올림 round - 소수점 어느 자리까지 표현할지 입력\n",
        "round(num, 3)\n",
        "\n",
        "# 거듭제곱 계산 **\n",
        "num = 10 ** 3\n",
        "\n",
        "# 제곱근 계산 mat.sqrt() - 프로그램 상단에 import math 반드시 추가\n",
        "math.sqrt(num)\n",
        "\n",
        "# 실수 타입 float - 소수점 있는 숫자 표현\n",
        "num = float(input(\"\"))\n",
        "\n",
        "# 파이 math.pi - 소수점 15자리까지인 파이값 반환 / 프로그램 상단에 import math 반드시 추ㅏㄱ\n",
        "math.pi\n",
        "\n",
        "# 몫 //\n",
        "num1 // num2\n",
        "\n",
        "# 나머지 %\n",
        "num1 % num2"
      ],
      "metadata": {
        "id": "nz564wL90ze_"
      },
      "execution_count": null,
      "outputs": []
    },
    {
      "cell_type": "markdown",
      "source": [
        "## Challenge: 027\n",
        "사용자에게 소수점 이하 자릿수가 많은 숫자를 입력하도록 요청한다. 이 숫자에 2를 곱한 결과를 출력하라."
      ],
      "metadata": {
        "id": "JAm6VaRidaZA"
      }
    },
    {
      "cell_type": "code",
      "source": [
        "# 혼자 풀어보기\n",
        "\n",
        "user = float(input(\"소수점 이하의 자릿수 많은 숫자 입력: \"))\n",
        "print(user * 2)"
      ],
      "metadata": {
        "id": "zqzrAc_NeUUj",
        "colab": {
          "base_uri": "https://localhost:8080/"
        },
        "outputId": "d1aceb9b-4749-46ea-a1e8-fae9d715380a"
      },
      "execution_count": null,
      "outputs": [
        {
          "output_type": "stream",
          "name": "stdout",
          "text": [
            "소수점 이하의 자릿수 많은 숫자 입력: 5.897432356893\n",
            "11.794864713786\n"
          ]
        }
      ]
    },
    {
      "cell_type": "code",
      "source": [
        "# 해설\n",
        "\n",
        "num = float(input(\"Enter a number with lots of decimal places: \"))\n",
        "print(num * 2)"
      ],
      "metadata": {
        "colab": {
          "base_uri": "https://localhost:8080/"
        },
        "id": "6Ov0b9CI6irH",
        "outputId": "7239efb4-da00-4ff8-ae8c-97bc01bedc88"
      },
      "execution_count": 1,
      "outputs": [
        {
          "output_type": "stream",
          "name": "stdout",
          "text": [
            "Enter a number with lots of decimal places: 5.897432356893\n",
            "11.794864713786\n"
          ]
        }
      ]
    },
    {
      "cell_type": "markdown",
      "source": [
        "## Challenge: 028\n",
        "27번 프로그램을 업데이트 하여 소수점 둘째 자리까지 출력하라."
      ],
      "metadata": {
        "id": "pXTB9eByfL4L"
      }
    },
    {
      "cell_type": "code",
      "source": [
        "# 혼자 풀어보기\n",
        "\n",
        "user = float(input(\"소수점 이하의 자릿수 많은 숫자 입력: \"))\n",
        "up = round(user * 2, 2)\n",
        "print(up)"
      ],
      "metadata": {
        "id": "GKKTRpAAee2X",
        "colab": {
          "base_uri": "https://localhost:8080/"
        },
        "outputId": "5d8cd887-94f4-4a1e-d817-9b52d783b1f5"
      },
      "execution_count": null,
      "outputs": [
        {
          "output_type": "stream",
          "name": "stdout",
          "text": [
            "소수점 이하의 자릿수 많은 숫자 입력: 5.66789754\n",
            "11.34\n"
          ]
        }
      ]
    },
    {
      "cell_type": "code",
      "source": [
        "# 해설\n",
        "\n",
        "num = float(input(\"Enter a number with lots of decimal places: \"))\n",
        "answer = num * 2\n",
        "print(round(answer, 2))"
      ],
      "metadata": {
        "colab": {
          "base_uri": "https://localhost:8080/"
        },
        "id": "ZeaHdHSB6xoA",
        "outputId": "67039ac7-0dbb-49dc-eed2-31fe619ee582"
      },
      "execution_count": 2,
      "outputs": [
        {
          "output_type": "stream",
          "name": "stdout",
          "text": [
            "Enter a number with lots of decimal places: 5.66789754\n",
            "11.34\n"
          ]
        }
      ]
    },
    {
      "cell_type": "markdown",
      "source": [
        "## Challenge: 029\n",
        "사용자에게 500 이상의 정수를 입력하라고 요청한다. 입력받은 숫자의 제곱근을 구하고 소수점 둘째 자리까지 출력하라."
      ],
      "metadata": {
        "id": "JqRtDAekhNky"
      }
    },
    {
      "cell_type": "code",
      "source": [
        "# 혼자 풀어보기\n",
        "\n",
        "import math\n",
        "user = int(input(\"500이상의 정수를 입력하시오: \"))\n",
        "num = round(math.sqrt(user), 2)\n",
        "print(num)"
      ],
      "metadata": {
        "id": "nR1gXz6yeqiF",
        "colab": {
          "base_uri": "https://localhost:8080/"
        },
        "outputId": "b1435a39-2af2-49bc-a65f-cdaf7e4e4254"
      },
      "execution_count": 3,
      "outputs": [
        {
          "output_type": "stream",
          "name": "stdout",
          "text": [
            "500이상의 정수를 입력하시오: 789\n",
            "28.09\n"
          ]
        }
      ]
    },
    {
      "cell_type": "code",
      "source": [
        "# 해설\n",
        "\n",
        "import math\n",
        "num = int(input(\"Enter a number over 500: \"))\n",
        "answer = math.sqrt(num)\n",
        "print(round(answer, 2))"
      ],
      "metadata": {
        "colab": {
          "base_uri": "https://localhost:8080/"
        },
        "id": "a_aetCWJ7K3W",
        "outputId": "aa16ff4f-e1c8-4ea0-f6d5-ff17af6cdfdd"
      },
      "execution_count": 4,
      "outputs": [
        {
          "output_type": "stream",
          "name": "stdout",
          "text": [
            "Enter a number over 500: 789\n",
            "28.09\n"
          ]
        }
      ]
    },
    {
      "cell_type": "markdown",
      "source": [
        "## Challenge: 030\n",
        "파이 값의 소수점 다섯째 자리까지 출력하라."
      ],
      "metadata": {
        "id": "tutG6HsYh90e"
      }
    },
    {
      "cell_type": "code",
      "source": [
        "# 혼자 풀어보기\n",
        "\n",
        "import math\n",
        "print(round(math.pi, 5))"
      ],
      "metadata": {
        "id": "AlWsgljWe7wU",
        "colab": {
          "base_uri": "https://localhost:8080/"
        },
        "outputId": "4031b7d1-0670-4dc1-c22a-87bfdc3bb227"
      },
      "execution_count": null,
      "outputs": [
        {
          "output_type": "stream",
          "name": "stdout",
          "text": [
            "3.14159\n"
          ]
        }
      ]
    },
    {
      "cell_type": "code",
      "source": [
        "# 해설\n",
        "\n",
        "import math\n",
        "print(round(math.pi, 5))"
      ],
      "metadata": {
        "colab": {
          "base_uri": "https://localhost:8080/"
        },
        "id": "i4gT865D7glQ",
        "outputId": "594d07f3-17d4-4f97-fb44-d61c3245d2d6"
      },
      "execution_count": 5,
      "outputs": [
        {
          "output_type": "stream",
          "name": "stdout",
          "text": [
            "3.14159\n"
          ]
        }
      ]
    },
    {
      "cell_type": "markdown",
      "source": [
        "## Challenge: 031\n",
        "사용자에게 원의 반지름(원의 중심점으로부터 끝까지의 길이)을 입력하도록 요청한다. 원의 넓이(파이 * 반지름 제곱)를 계산하여 출력하라."
      ],
      "metadata": {
        "id": "C2ixz3fojfZU"
      }
    },
    {
      "cell_type": "code",
      "source": [
        "# 혼자 풀어보기\n",
        "\n",
        "import math\n",
        "r = int(input(\"원의 반지름 입력: \"))\n",
        "rr = math.pi * (r ** 2)\n",
        "print(rr)"
      ],
      "metadata": {
        "id": "hn8prGNgfIyw",
        "colab": {
          "base_uri": "https://localhost:8080/"
        },
        "outputId": "a83fb86e-9653-4090-fe39-fe31fc2829b8"
      },
      "execution_count": null,
      "outputs": [
        {
          "output_type": "stream",
          "name": "stdout",
          "text": [
            "원의 반지름 입력: 56\n",
            "9852.03456165759\n"
          ]
        }
      ]
    },
    {
      "cell_type": "code",
      "source": [
        "# 해설\n",
        "\n",
        "import math\n",
        "radius = int(input(\"Enter the radius of the circle: \"))\n",
        "area = math.pi * (radius ** 2)\n",
        "print(area)"
      ],
      "metadata": {
        "colab": {
          "base_uri": "https://localhost:8080/"
        },
        "id": "ZUQSS2of7nlK",
        "outputId": "00bd1536-8c56-43da-d8d1-d5649f2c1ed7"
      },
      "execution_count": 6,
      "outputs": [
        {
          "output_type": "stream",
          "name": "stdout",
          "text": [
            "Enter the radius of the circle: 56\n",
            "9852.03456165759\n"
          ]
        }
      ]
    },
    {
      "cell_type": "markdown",
      "source": [
        "## Challenge: 032\n",
        "원기둥의 반지름과 깊이를 입력하도록 요청한다. 원기둥의 부피(원 넓이 * 깊이)를 구하고 결과를 반올림하여 소수점 셋째 자리까지 출력하라."
      ],
      "metadata": {
        "id": "lWaWaxI5knK1"
      }
    },
    {
      "cell_type": "code",
      "source": [
        "# 혼자 풀어보기\n",
        "\n",
        "import math\n",
        "r = int(input(\"원의 반지름: \"))\n",
        "d = int(input(\"원의 깊이 : \"))\n",
        "vol = math.pi * (r ** 2) * d\n",
        "print(\"원의 부피:\", round(vol, 3))"
      ],
      "metadata": {
        "id": "Mdeqb6XlfV1M",
        "colab": {
          "base_uri": "https://localhost:8080/"
        },
        "outputId": "3cc9f603-ac42-4819-ff10-05d47554462d"
      },
      "execution_count": 8,
      "outputs": [
        {
          "output_type": "stream",
          "name": "stdout",
          "text": [
            "원의 반지름: 7\n",
            "원의 깊이 : 13\n",
            "원의 부피: 2001.195\n"
          ]
        }
      ]
    },
    {
      "cell_type": "code",
      "source": [
        "# 해설\n",
        "\n",
        "import math\n",
        "radius = int(input(\"Enter the radius of the circle: \"))\n",
        "depth = int(input(\"Enter depth: \"))\n",
        "area = math.pi * (radius ** 2)\n",
        "volume = area * depth\n",
        "print(round(volume, 3))"
      ],
      "metadata": {
        "colab": {
          "base_uri": "https://localhost:8080/"
        },
        "id": "P92mX1b5728y",
        "outputId": "af195e2f-06f0-41c9-d903-174912468c3a"
      },
      "execution_count": 7,
      "outputs": [
        {
          "output_type": "stream",
          "name": "stdout",
          "text": [
            "Enter the radius of the circle: 7\n",
            "Enter depth: 13\n",
            "2001.195\n"
          ]
        }
      ]
    },
    {
      "cell_type": "markdown",
      "source": [
        "## Challenge: 033\n",
        "사용자로부터 숫자 두 개를 입력받는다. 몫 연산을 사용하여 첫 번째 숫자를 두 번째 숫자로 나누고 나머지도 계산하여 사용자가 읽을 수 있는 문장으로 결과를 출력하라. 예를 들어, 7과 2를 입력했다면 \"7 divided by 2 is 3 with 1 remaining\"이라고 출력하라."
      ],
      "metadata": {
        "id": "a86qVNlGmA4E"
      }
    },
    {
      "cell_type": "code",
      "source": [
        "# 혼자 풀어보기\n",
        "\n",
        "user1 = int(input(\"첫 번째 숫자 입력: \"))\n",
        "user2 = int(input(\"두 번째 숫자 입력: \"))\n",
        "num1 = user1 // user2\n",
        "num2 = user1 % user2\n",
        "print(user1, \"divided by\", user2, \"is\", num1, \"with\", num2, \"remaining\")"
      ],
      "metadata": {
        "id": "kNP58tv_f51K",
        "colab": {
          "base_uri": "https://localhost:8080/"
        },
        "outputId": "3dfabab7-a8b7-415d-e583-3b1e74d27243"
      },
      "execution_count": null,
      "outputs": [
        {
          "output_type": "stream",
          "name": "stdout",
          "text": [
            "첫 번째 숫자 입력: 56\n",
            "두 번째 숫자 입력: 9\n",
            "56 divided by 9 is 6 with 2 remaining\n"
          ]
        }
      ]
    },
    {
      "cell_type": "code",
      "source": [
        "# 해설\n",
        "\n",
        "num1 = int(input(\"Enter a number: \"))\n",
        "num2 = int(input(\"Enter another number: \"))\n",
        "ans1 = num1 // num2\n",
        "ans2 = num1 % num2\n",
        "print(num1, \"divided by\", num2, \"is\", ans1, \"with\", ans2, \"remaining\")"
      ],
      "metadata": {
        "colab": {
          "base_uri": "https://localhost:8080/"
        },
        "id": "OnyY0Ool8XXB",
        "outputId": "e29659f7-396d-4fbe-bb5d-ff5092ffab95"
      },
      "execution_count": 13,
      "outputs": [
        {
          "output_type": "stream",
          "name": "stdout",
          "text": [
            "Enter a number: 56\n",
            "Enter another number: 9\n",
            "56 divided by 9 is 6 with 2 remaining\n"
          ]
        }
      ]
    },
    {
      "cell_type": "markdown",
      "source": [
        "# Challenge: 034\n",
        "다음과 같은 메시지를 표시한다.\n",
        "\n",
        "*1) square \\\n",
        "2) Triangle*\n",
        "\n",
        "*Enter a numbe*r: *\n",
        "\n",
        "만약 사용자가 1을 입력하면 한 면의 길이를 요청하여 사각형의 넓이를 구하여 출력하라. 만약 2를 입력하면 밑변과 높이를 요청하여 삼각형의 넓이를 구하여 출력하라. 다른 것을 입력하면 적절한 오류 메시지가 출력되도록 한다."
      ],
      "metadata": {
        "id": "4h-bvjqD8dor"
      }
    },
    {
      "cell_type": "code",
      "source": [
        "# 혼자 풀어보기\n",
        "\n",
        "print(\"1) Square\\n2) Triangle\\n-------------\")\n",
        "user = int(input(\"Enter a number: \"))\n",
        "if user == 1:\n",
        "    l = int(input(\"사각형 한 변의 길이: \"))\n",
        "    square = l * l\n",
        "    print(\"사각형의 넓이:\", square)\n",
        "elif user == 2:\n",
        "    b = int(input(\"삼각형 밑변의 길이: \"))\n",
        "    h = int(input(\"삼각형 높이: \"))\n",
        "    triangle = b * h / 2\n",
        "    print(\"삼각형의 넓이:\", triangle)\n",
        "else :\n",
        "    print(\"1, 2 중에 하나를 입력해 주세요.\")"
      ],
      "metadata": {
        "colab": {
          "base_uri": "https://localhost:8080/"
        },
        "id": "ay8e_nNj9GUA",
        "outputId": "c613a60c-1a01-4a36-d62e-747dbae624bc"
      },
      "execution_count": 16,
      "outputs": [
        {
          "output_type": "stream",
          "name": "stdout",
          "text": [
            "1) Square\n",
            "2) Triangle\n",
            "-------------\n",
            "Enter a number: 2\n",
            "삼각형 밑변의 길이: 6\n",
            "삼각형 높이: 7\n",
            "삼각형의 넓이: 21.0\n"
          ]
        }
      ]
    },
    {
      "cell_type": "code",
      "source": [
        "# 해설\n",
        "\n",
        "print(\"1) Square\")\n",
        "print(\"2) Triangle\")\n",
        "print()\n",
        "menuselection = int(input(\"Enter a number: \"))\n",
        "if menuselection == 1:\n",
        "    side = int(input(\"Enter the length of one side: \"))\n",
        "    area = side * side\n",
        "    print(\"The area of your chosen shape is\", area)\n",
        "elif menuselection == 2:\n",
        "    base = int(input(\"Enter the length of the base: \"))\n",
        "    height = int(input(\"Enter the height of the triangle: \"))\n",
        "    area = (base * height) / 2\n",
        "    print(\"The area of your chosen shape is\", area)\n",
        "else:\n",
        "    print(\"Incorrect option selected\")"
      ],
      "metadata": {
        "colab": {
          "base_uri": "https://localhost:8080/"
        },
        "id": "zPyzhuhK_B4x",
        "outputId": "cc8b73bc-fe24-4b01-8486-7cf298e5f1ff"
      },
      "execution_count": 15,
      "outputs": [
        {
          "output_type": "stream",
          "name": "stdout",
          "text": [
            "1) Square\n",
            "2) Triangle\n",
            "\n",
            "Enter a number: 2\n",
            "Enter the length of the base: 6\n",
            "Enter the height of the triangle: 7\n",
            "The area of your chosen shape is 21.0\n"
          ]
        }
      ]
    }
  ]
}