{
  "nbformat": 4,
  "nbformat_minor": 0,
  "metadata": {
    "colab": {
      "provenance": [],
      "authorship_tag": "ABX9TyNbjTDmtF0Xs5VlAr+qW1Ay",
      "include_colab_link": true
    },
    "kernelspec": {
      "name": "python3",
      "display_name": "Python 3"
    },
    "language_info": {
      "name": "python"
    }
  },
  "cells": [
    {
      "cell_type": "markdown",
      "metadata": {
        "id": "view-in-github",
        "colab_type": "text"
      },
      "source": [
        "<a href=\"https://colab.research.google.com/github/E-Ju-E/Study-Python/blob/main/Challenge_035_044.ipynb\" target=\"_parent\"><img src=\"https://colab.research.google.com/assets/colab-badge.svg\" alt=\"Open In Colab\"/></a>"
      ]
    },
    {
      "cell_type": "markdown",
      "source": [
        "### **Python: 150 Challenges**"
      ],
      "metadata": {
        "id": "N86dy9elZRst"
      }
    },
    {
      "cell_type": "markdown",
      "source": [
        "## 예제 코드"
      ],
      "metadata": {
        "id": "AVgLXrJeZoME"
      }
    },
    {
      "cell_type": "code",
      "source": [
        "# i가 1부터 시작해서 1씩 증가되며, 10이 되면 루프 종료 / 10에서 멈추므로 9까지 출력됨\n",
        "    # 결과값 = 1 2 3 4 5 6 7 8 9\n",
        "for i in range(1, 10):\n",
        "    print(i)\n",
        "\n",
        "# i가 1부터 시작해서 2씩 증가되며, 10이 되면 루프 종료 / 10에서 멈추므로 9까지 출력됨\n",
        "    # 결과값 = 1 3 5 7 9\n",
        "for i in range(1, 10, 2):\n",
        "    print(i)\n",
        "\n",
        "# i가 10부터 시작해서 3씩 감소되며, 1이 되면 루프 종료 / 1에서 멈추므로 4까지 출력됨\n",
        "    # 결과값 = 10, 7, 4\n",
        "for i in range(10, 1, -3):\n",
        "    print(i)\n",
        "\n",
        "# \"word\"라는 문자열의 각 문자를 한 줄씩 출력 (w 다음줄 o 다음줄 r 다음줄 d)\n",
        "for i in \"word\":\n",
        "    print(i)"
      ],
      "metadata": {
        "id": "nz564wL90ze_"
      },
      "execution_count": null,
      "outputs": []
    },
    {
      "cell_type": "markdown",
      "source": [
        "## Challenge: 035\n",
        "사용자의 이름을 입력하라고 요청한 뒤, 그 이름을 세 번 출력하라."
      ],
      "metadata": {
        "id": "JAm6VaRidaZA"
      }
    },
    {
      "cell_type": "code",
      "source": [
        "# 혼자 풀어보기\n",
        "\n",
        "name = input(\"이름 입력: \")\n",
        "for i in range(1, 4):\n",
        "    print(name)"
      ],
      "metadata": {
        "id": "zqzrAc_NeUUj",
        "colab": {
          "base_uri": "https://localhost:8080/"
        },
        "outputId": "cb1dd274-6202-4e20-d45c-de25a99cd4fa"
      },
      "execution_count": null,
      "outputs": [
        {
          "output_type": "stream",
          "name": "stdout",
          "text": [
            "이름 입력: 홍길동\n",
            "홍길동\n",
            "홍길동\n",
            "홍길동\n"
          ]
        }
      ]
    },
    {
      "cell_type": "code",
      "source": [
        "# 해설\n",
        "\n",
        "name = input(\"Type in your name: \")\n",
        "for i in range(0, 3):\n",
        "    print(name)"
      ],
      "metadata": {
        "colab": {
          "base_uri": "https://localhost:8080/"
        },
        "id": "IQMWfL3Y8fKr",
        "outputId": "80c038d2-aceb-4751-8815-529e2b89b49a"
      },
      "execution_count": null,
      "outputs": [
        {
          "output_type": "stream",
          "name": "stdout",
          "text": [
            "Type in your name: 홍길동\n",
            "홍길동\n",
            "홍길동\n",
            "홍길동\n"
          ]
        }
      ]
    },
    {
      "cell_type": "markdown",
      "source": [
        "## Challenge: 036\n",
        "35번 프로그램을 수정하여 사용자가 이름과 숫자를 입력하게 하여 이름을 입력한 숫자만큼 출력하라."
      ],
      "metadata": {
        "id": "pXTB9eByfL4L"
      }
    },
    {
      "cell_type": "code",
      "source": [
        "# 혼자 풀어보기\n",
        "\n",
        "name = input(\"이름 입력: \")\n",
        "num = int(input(\"숫자 입력: \"))\n",
        "for i in range(0, num):\n",
        "    print(name)"
      ],
      "metadata": {
        "id": "GKKTRpAAee2X",
        "colab": {
          "base_uri": "https://localhost:8080/"
        },
        "outputId": "733d48d3-106f-42bd-d534-bd3dc55cf93e"
      },
      "execution_count": null,
      "outputs": [
        {
          "output_type": "stream",
          "name": "stdout",
          "text": [
            "이름 입력: 홍길동\n",
            "숫자 입력: 8\n",
            "홍길동\n",
            "홍길동\n",
            "홍길동\n",
            "홍길동\n",
            "홍길동\n",
            "홍길동\n",
            "홍길동\n",
            "홍길동\n"
          ]
        }
      ]
    },
    {
      "cell_type": "code",
      "source": [
        "# 해설\n",
        "\n",
        "name = input(\"Type in your name: \")\n",
        "number = int(input(\"Enter number: \"))\n",
        "for i in range(0, number):\n",
        "    print(name)"
      ],
      "metadata": {
        "colab": {
          "base_uri": "https://localhost:8080/"
        },
        "id": "AGK1Z-1i8pxT",
        "outputId": "058ea1cd-8436-497f-d5ae-11c59a1698bf"
      },
      "execution_count": null,
      "outputs": [
        {
          "output_type": "stream",
          "name": "stdout",
          "text": [
            "Type in your name: 홍길동\n",
            "Enter number: 8\n",
            "홍길동\n",
            "홍길동\n",
            "홍길동\n",
            "홍길동\n",
            "홍길동\n",
            "홍길동\n",
            "홍길동\n",
            "홍길동\n"
          ]
        }
      ]
    },
    {
      "cell_type": "markdown",
      "source": [
        "## Challenge: 037\n",
        "사용자의 이름을 입력하라고 요청하고, 그 이름의 각 문자를 한 줄에 하나씩 출력하라."
      ],
      "metadata": {
        "id": "JqRtDAekhNky"
      }
    },
    {
      "cell_type": "code",
      "source": [
        "# 혼자 풀어보기\n",
        "\n",
        "name = input(\"이름 입력: \")\n",
        "for i in name:\n",
        "    print(i)"
      ],
      "metadata": {
        "id": "nR1gXz6yeqiF",
        "colab": {
          "base_uri": "https://localhost:8080/"
        },
        "outputId": "c73fc5f6-b238-41e5-9919-dab788c0f211"
      },
      "execution_count": null,
      "outputs": [
        {
          "output_type": "stream",
          "name": "stdout",
          "text": [
            "이름 입력: 김가나다라\n",
            "김\n",
            "가\n",
            "나\n",
            "다\n",
            "라\n"
          ]
        }
      ]
    },
    {
      "cell_type": "code",
      "source": [
        "# 해설\n",
        "\n",
        "name = input(\"Enter your name: \")\n",
        "for i in name:\n",
        "    print(i)"
      ],
      "metadata": {
        "colab": {
          "base_uri": "https://localhost:8080/"
        },
        "id": "doIqxFv99KT-",
        "outputId": "b8f2659d-7f55-494f-e812-93427be23034"
      },
      "execution_count": null,
      "outputs": [
        {
          "output_type": "stream",
          "name": "stdout",
          "text": [
            "Enter your name: 김가나다라\n",
            "김\n",
            "가\n",
            "나\n",
            "다\n",
            "라\n"
          ]
        }
      ]
    },
    {
      "cell_type": "markdown",
      "source": [
        "## Challenge: 038\n",
        "37번 프로그램을 수정하여 숫자도 입력하도록 요청하자. 이름의 각 문자를 한 줄에 하나씩 출력하는 작업을 입력한 숫자만큼 반복하라."
      ],
      "metadata": {
        "id": "tutG6HsYh90e"
      }
    },
    {
      "cell_type": "code",
      "source": [
        "# 혼자 풀어보기\n",
        "\n",
        "name = input(\"이름 입력: \")\n",
        "num = int(input(\"숫자 입력: \"))\n",
        "for k in range(0, num):\n",
        "    for i in name:\n",
        "        print(i)"
      ],
      "metadata": {
        "id": "AlWsgljWe7wU",
        "colab": {
          "base_uri": "https://localhost:8080/"
        },
        "outputId": "1ace6c51-1341-4909-8384-d53373cd5c98"
      },
      "execution_count": null,
      "outputs": [
        {
          "output_type": "stream",
          "name": "stdout",
          "text": [
            "이름 입력: 김가나다라\n",
            "숫자 입력: 3\n",
            "김\n",
            "가\n",
            "나\n",
            "다\n",
            "라\n",
            "김\n",
            "가\n",
            "나\n",
            "다\n",
            "라\n",
            "김\n",
            "가\n",
            "나\n",
            "다\n",
            "라\n"
          ]
        }
      ]
    },
    {
      "cell_type": "code",
      "source": [
        "# 해설\n",
        "\n",
        "name = input(\"Enter your name: \")\n",
        "num = int(input(\"Enter a number: \"))\n",
        "for x in range(0, num):\n",
        "    for i in name:\n",
        "        print(i)"
      ],
      "metadata": {
        "colab": {
          "base_uri": "https://localhost:8080/"
        },
        "id": "Nx_VLFCS9eGx",
        "outputId": "4a9fe057-bb9a-4980-8fc7-ed32ee02dc78"
      },
      "execution_count": null,
      "outputs": [
        {
          "output_type": "stream",
          "name": "stdout",
          "text": [
            "Enter your name: 김가나다라\n",
            "Enter a number: 3\n",
            "김\n",
            "가\n",
            "나\n",
            "다\n",
            "라\n",
            "김\n",
            "가\n",
            "나\n",
            "다\n",
            "라\n",
            "김\n",
            "가\n",
            "나\n",
            "다\n",
            "라\n"
          ]
        }
      ]
    },
    {
      "cell_type": "markdown",
      "source": [
        "## Challenge: 039\n",
        "1부터 12사이의 값을 입력하도록 요청한 뒤, 그 숫자에 대해 12까지의 곱셈표를 출력하라."
      ],
      "metadata": {
        "id": "C2ixz3fojfZU"
      }
    },
    {
      "cell_type": "code",
      "source": [
        "# 혼자 풀어보기\n",
        "\n",
        "num = int(input(\"1에서 12 사이의 숫자 입력: \"))\n",
        "for i in range(1, 13):\n",
        "    print(num, \"X\", i, \"=\", num * i)"
      ],
      "metadata": {
        "id": "hn8prGNgfIyw",
        "colab": {
          "base_uri": "https://localhost:8080/"
        },
        "outputId": "57d1e57d-e7b1-4b34-8232-7f8f60fcb8a3"
      },
      "execution_count": null,
      "outputs": [
        {
          "output_type": "stream",
          "name": "stdout",
          "text": [
            "1에서 12 사이의 숫자 입력: 6\n",
            "6 X 1 = 6\n",
            "6 X 2 = 12\n",
            "6 X 3 = 18\n",
            "6 X 4 = 24\n",
            "6 X 5 = 30\n",
            "6 X 6 = 36\n",
            "6 X 7 = 42\n",
            "6 X 8 = 48\n",
            "6 X 9 = 54\n",
            "6 X 10 = 60\n",
            "6 X 11 = 66\n",
            "6 X 12 = 72\n"
          ]
        }
      ]
    },
    {
      "cell_type": "code",
      "source": [
        "# 해설\n",
        "\n",
        "num = int(input(\"Enter a number between 1 and 12: \"))\n",
        "for i in range(1, 13):\n",
        "    answer = i * num\n",
        "    print(i, \"X\", num, \"=\", answer)"
      ],
      "metadata": {
        "colab": {
          "base_uri": "https://localhost:8080/"
        },
        "id": "IXLE_4nR9tAP",
        "outputId": "35eedb15-b1d2-40cd-b66a-367e31bfda13"
      },
      "execution_count": null,
      "outputs": [
        {
          "output_type": "stream",
          "name": "stdout",
          "text": [
            "Enter a number between 1 and 12: 6\n",
            "1 X 6 = 6\n",
            "2 X 6 = 12\n",
            "3 X 6 = 18\n",
            "4 X 6 = 24\n",
            "5 X 6 = 30\n",
            "6 X 6 = 36\n",
            "7 X 6 = 42\n",
            "8 X 6 = 48\n",
            "9 X 6 = 54\n",
            "10 X 6 = 60\n",
            "11 X 6 = 66\n",
            "12 X 6 = 72\n"
          ]
        }
      ]
    },
    {
      "cell_type": "markdown",
      "source": [
        "## Challenge: 040\n",
        "50 미만의 숫자를 입력하도록 요청한다. 50부터 입력한 숫자까지 카운트 다운하면서 숫자를 출력하되, 입력한 숫자까지 출력되도록 하라."
      ],
      "metadata": {
        "id": "lWaWaxI5knK1"
      }
    },
    {
      "cell_type": "code",
      "source": [
        "# 혼자 풀어보기\n",
        "\n",
        "user = int(input(\"50미만의 숫자: \"))\n",
        "for i in range(50, user - 1, -1):\n",
        "    print(i)"
      ],
      "metadata": {
        "id": "Mdeqb6XlfV1M",
        "colab": {
          "base_uri": "https://localhost:8080/"
        },
        "outputId": "ea6fdf07-5960-40d2-9e8a-31a8a3886e3d"
      },
      "execution_count": null,
      "outputs": [
        {
          "output_type": "stream",
          "name": "stdout",
          "text": [
            "50미만의 숫자: 39\n",
            "50\n",
            "49\n",
            "48\n",
            "47\n",
            "46\n",
            "45\n",
            "44\n",
            "43\n",
            "42\n",
            "41\n",
            "40\n",
            "39\n"
          ]
        }
      ]
    },
    {
      "cell_type": "code",
      "source": [
        "# 해설\n",
        "\n",
        "num = int(input(\"Enter a number below 50: \"))\n",
        "for i in range(50, num - 1, -1):\n",
        "    print(i)"
      ],
      "metadata": {
        "colab": {
          "base_uri": "https://localhost:8080/"
        },
        "id": "QYRx2cKz-OP1",
        "outputId": "cd3f4b29-765d-4127-d5b3-4203f4f608cd"
      },
      "execution_count": null,
      "outputs": [
        {
          "output_type": "stream",
          "name": "stdout",
          "text": [
            "Enter a number below 50: 39\n",
            "50\n",
            "49\n",
            "48\n",
            "47\n",
            "46\n",
            "45\n",
            "44\n",
            "43\n",
            "42\n",
            "41\n",
            "40\n",
            "39\n"
          ]
        }
      ]
    },
    {
      "cell_type": "markdown",
      "source": [
        "## Challenge: 041\n",
        "이름과 숫자를 입력하도록 요청한다. 입력한 숫자가 10미만이면 입력한 숫자만큼 이름을 출력하고, 10 이상이면 \"Too high\"를 세 번 출력하라"
      ],
      "metadata": {
        "id": "a86qVNlGmA4E"
      }
    },
    {
      "cell_type": "code",
      "source": [
        "# 혼자 풀어보기\n",
        "\n",
        "name = input(\"이름: \")\n",
        "num = int(input(\"숫자: \"))\n",
        "if num < 10:\n",
        "    for i in range(1,num + 1):\n",
        "        print(name)\n",
        "else:\n",
        "    for j in range(1, 4):\n",
        "        print(\"Too high\")"
      ],
      "metadata": {
        "id": "kNP58tv_f51K",
        "colab": {
          "base_uri": "https://localhost:8080/"
        },
        "outputId": "ffc193d9-9b53-4baa-cb3f-7341b647a734"
      },
      "execution_count": null,
      "outputs": [
        {
          "output_type": "stream",
          "name": "stdout",
          "text": [
            "이름: 홍길동\n",
            "숫자: 7\n",
            "홍길동\n",
            "홍길동\n",
            "홍길동\n",
            "홍길동\n",
            "홍길동\n",
            "홍길동\n",
            "홍길동\n"
          ]
        }
      ]
    },
    {
      "cell_type": "code",
      "source": [
        "# 해설\n",
        "\n",
        "name = input(\"Enter your name: \")\n",
        "num = int(input(\"Enter a number: \"))\n",
        "if num < 10:\n",
        "    for i in range(0, num):\n",
        "        print(name)\n",
        "else:\n",
        "    for i in range(0, 3):\n",
        "        print(\"Too high\")"
      ],
      "metadata": {
        "colab": {
          "base_uri": "https://localhost:8080/"
        },
        "id": "USjHlNza-mbK",
        "outputId": "bfc052ee-5cb9-40e1-c9b5-c222a452ef1a"
      },
      "execution_count": null,
      "outputs": [
        {
          "output_type": "stream",
          "name": "stdout",
          "text": [
            "Enter your name: 홍길동\n",
            "Enter a number: 7\n",
            "홍길동\n",
            "홍길동\n",
            "홍길동\n",
            "홍길동\n",
            "홍길동\n",
            "홍길동\n",
            "홍길동\n"
          ]
        }
      ]
    },
    {
      "cell_type": "markdown",
      "source": [
        "## Challenge: 042\n",
        "total이라는 이름의 변수에 0을 설정하고 숫자를 입력하라는 요청을 다섯 번 반복한다. 숫자를 입력할 때마다 입력한 값을 total에 더할 것인지를 묻는다. 더하길 원한다는 답을 하면 total에 그 값을 더하고, 그렇지 않다면 더하지 않느다. 다섯 개의 숫자가 모두 입력되면 total을 출력하라."
      ],
      "metadata": {
        "id": "R75SSdh17Q-O"
      }
    },
    {
      "cell_type": "code",
      "source": [
        "# 혼자 풀어보기\n",
        "\n",
        "total = 0\n",
        "for i in range(1,6):\n",
        "    num = int(input(\"숫자 입력: \"))\n",
        "    plus = input(\"total 합산 여부 yes/no : \")\n",
        "    plus = plus.lower()\n",
        "    if plus == \"yes\":\n",
        "        total = total + num\n",
        "    else:\n",
        "        total = total\n",
        "\n",
        "print()\n",
        "print(\"total: \",total)"
      ],
      "metadata": {
        "id": "Yl8AKkCB7iks",
        "colab": {
          "base_uri": "https://localhost:8080/"
        },
        "outputId": "157a2617-3a24-4eb8-eb75-c2f5ac9fc077"
      },
      "execution_count": null,
      "outputs": [
        {
          "output_type": "stream",
          "name": "stdout",
          "text": [
            "숫자 입력: 56\n",
            "total 합산 여부 yes/no : yes\n",
            "숫자 입력: 83\n",
            "total 합산 여부 yes/no : yes\n",
            "숫자 입력: 9\n",
            "total 합산 여부 yes/no : no\n",
            "숫자 입력: 213\n",
            "total 합산 여부 yes/no : yes\n",
            "숫자 입력: 17\n",
            "total 합산 여부 yes/no : no\n",
            "\n",
            "total:  352\n"
          ]
        }
      ]
    },
    {
      "cell_type": "code",
      "source": [
        "# 해설\n",
        "\n",
        "total = 0\n",
        "for i in range(0, 5):\n",
        "    num = int(input(\"Enter a number: \"))\n",
        "    ans = input(\"Do you want this number included? (y/n) \")\n",
        "    if ans == \"y\":\n",
        "        total = total + num\n",
        "print(total)"
      ],
      "metadata": {
        "colab": {
          "base_uri": "https://localhost:8080/"
        },
        "id": "ic9ru3CN_BJj",
        "outputId": "f9141e72-a1a6-4077-eb36-3b0cd1498942"
      },
      "execution_count": null,
      "outputs": [
        {
          "output_type": "stream",
          "name": "stdout",
          "text": [
            "Enter a number: 56\n",
            "Do you want this number included? (y/n) y\n",
            "Enter a number: 83\n",
            "Do you want this number included? (y/n) y\n",
            "Enter a number: 9\n",
            "Do you want this number included? (y/n) n\n",
            "Enter a number: 213\n",
            "Do you want this number included? (y/n) y\n",
            "Enter a number: 17\n",
            "Do you want this number included? (y/n) n\n",
            "352\n"
          ]
        }
      ]
    },
    {
      "cell_type": "markdown",
      "source": [
        "## Challenge: 043\n",
        "사용자에게 원하는 카운트 방향(카운트 다운 또는 카운트 업)을 묻는다. 만약 업을 선택하면 가장 큰 숫자를 묻고 1부터 그 숫자까지 출력하라. 다운을 선택하면 20미만의 숫자를 요청하고 20부터 그 숫자까지 출력하라. 업 또는 다운이 아닌 다른 것을 선택하면 \"I don't understand\"를 출력하라."
      ],
      "metadata": {
        "id": "twUs9_Pj7kKr"
      }
    },
    {
      "cell_type": "code",
      "source": [
        "# 혼자 풀어보기\n",
        "\n",
        "user = input(\"'up' 또는 'down' 하나를 고르시오: \")\n",
        "user = user.lower()\n",
        "if user == \"up\":\n",
        "    num1 = int(input(\"가장 큰 숫자: \"))\n",
        "    for i in range(1, num1 + 1):\n",
        "        print(i)\n",
        "elif user == \"down\":\n",
        "    num2 = int(input(\"20 미만의 숫자 입력: \"))\n",
        "    for j in range(20, num2 - 1, -1):\n",
        "        print(j)\n",
        "else:\n",
        "    print(\"I don't understand\")"
      ],
      "metadata": {
        "id": "zhnoxhfj70PD",
        "colab": {
          "base_uri": "https://localhost:8080/"
        },
        "outputId": "6287b03b-977f-4153-e24f-7540107153f8"
      },
      "execution_count": null,
      "outputs": [
        {
          "output_type": "stream",
          "name": "stdout",
          "text": [
            "'up' 또는 'down' 하나를 고르시오: Down\n",
            "20 미만의 숫자 입력: 17\n",
            "20\n",
            "19\n",
            "18\n",
            "17\n"
          ]
        }
      ]
    },
    {
      "cell_type": "code",
      "source": [
        "# 해설\n",
        "\n",
        "direction = input(\"Do you want to count up or down? (u/d) \")\n",
        "if direction == \"u\":\n",
        "    num = int(input(\"What is the top number? \"))\n",
        "    for i in range(1, num + 1):\n",
        "        print(i)\n",
        "elif direction == \"d\":\n",
        "    num = int(input(\"Enter a number below 20: \"))\n",
        "    for i in range(20, num - 1, -1):\n",
        "        print(i)\n",
        "else:\n",
        "    print(\"I don't understand\")"
      ],
      "metadata": {
        "colab": {
          "base_uri": "https://localhost:8080/"
        },
        "id": "fRa5ie6j_jbo",
        "outputId": "dd4b80ce-ea21-4c5d-d6a3-b14419fe997c"
      },
      "execution_count": null,
      "outputs": [
        {
          "output_type": "stream",
          "name": "stdout",
          "text": [
            "Do you want to count up or down? (u/d) d\n",
            "Enter a number below 20: 17\n",
            "20\n",
            "19\n",
            "18\n",
            "17\n"
          ]
        }
      ]
    },
    {
      "cell_type": "markdown",
      "source": [
        "## Challenge: 044\n",
        "파티에 몇 명을 초대하고 싶은지를 묻는다. 만약 10 미만을 입력하면 이름을 묻고 \"[이름] has been invited\"라고 출력하는 것을 입력한 숫자만큼 반복하라. 10 이상을 입력하면 \"Too many peole\"이라는 메시지를 출력하라."
      ],
      "metadata": {
        "id": "ZvnKSVH8714z"
      }
    },
    {
      "cell_type": "code",
      "source": [
        "# 혼자 풀어보기\n",
        "\n",
        "party = int(input(\"파티에 몇명 초대하고 싶니?: \"))\n",
        "if party < 10:\n",
        "    for i in range(0, party):\n",
        "        name = input(\"이름: \")\n",
        "        print(name, \"has been invited\")\n",
        "else:\n",
        "   print(\"Too many people\")"
      ],
      "metadata": {
        "id": "vVO8tO8q8MNj",
        "colab": {
          "base_uri": "https://localhost:8080/"
        },
        "outputId": "2ab2da76-3b8a-4db6-f98c-aee4d6597a49"
      },
      "execution_count": null,
      "outputs": [
        {
          "output_type": "stream",
          "name": "stdout",
          "text": [
            "파티에 몇명 초대하고 싶니?: 4\n",
            "이름: 홍길동\n",
            "홍길동 has been invited\n",
            "이름: 김가나\n",
            "김가나 has been invited\n",
            "이름: 박다라\n",
            "박다라 has been invited\n",
            "이름: 최마바\n",
            "최마바 has been invited\n"
          ]
        }
      ]
    },
    {
      "cell_type": "code",
      "source": [
        "# 해설\n",
        "\n",
        "num = int(input(\"How many friends do you want to do invite to the party?: \"))\n",
        "if num < 10:\n",
        "    for i in range(0, num):\n",
        "        name = input(\"Enter a name: \")\n",
        "        print(name, \"has been invited\")\n",
        "else:\n",
        "    print(\"Too many people\")"
      ],
      "metadata": {
        "colab": {
          "base_uri": "https://localhost:8080/"
        },
        "id": "294A9dm-AGC0",
        "outputId": "cca46f4a-95fd-4ee3-91eb-b014bd65bf7c"
      },
      "execution_count": null,
      "outputs": [
        {
          "output_type": "stream",
          "name": "stdout",
          "text": [
            "How many friends do you want to do invite to the party?: 4\n",
            "Enter a name: 홍길동\n",
            "홍길동 has been invited\n",
            "Enter a name: 김가나\n",
            "김가나 has been invited\n",
            "Enter a name: 박다라\n",
            "박다라 has been invited\n",
            "Enter a name: 최마바\n",
            "최마바 has been invited\n"
          ]
        }
      ]
    }
  ]
}