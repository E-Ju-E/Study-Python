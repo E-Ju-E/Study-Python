{
  "nbformat": 4,
  "nbformat_minor": 0,
  "metadata": {
    "colab": {
      "provenance": [],
      "authorship_tag": "ABX9TyPjJQ2Bl30oQGrEYu6GYp5L",
      "include_colab_link": true
    },
    "kernelspec": {
      "name": "python3",
      "display_name": "Python 3"
    },
    "language_info": {
      "name": "python"
    }
  },
  "cells": [
    {
      "cell_type": "markdown",
      "metadata": {
        "id": "view-in-github",
        "colab_type": "text"
      },
      "source": [
        "<a href=\"https://colab.research.google.com/github/E-Ju-E/Study-Python/blob/main/Challenge_045_051.ipynb\" target=\"_parent\"><img src=\"https://colab.research.google.com/assets/colab-badge.svg\" alt=\"Open In Colab\"/></a>"
      ]
    },
    {
      "cell_type": "markdown",
      "source": [
        "### **Python: 150 Challenges**"
      ],
      "metadata": {
        "id": "N86dy9elZRst"
      }
    },
    {
      "cell_type": "markdown",
      "source": [
        "## 예제 코드"
      ],
      "metadata": {
        "id": "AVgLXrJeZoME"
      }
    },
    {
      "cell_type": "code",
      "source": [
        "# 조건을 충족할 때까지 반복하는 while\n",
        "total = 0\n",
        "while total < 100:\n",
        "    num = int(input(\"Enter a number: \"))\n",
        "    total = total + num\n",
        "print(\"The total is\", total)"
      ],
      "metadata": {
        "id": "nz564wL90ze_"
      },
      "execution_count": null,
      "outputs": []
    },
    {
      "cell_type": "markdown",
      "source": [
        "## Challenge: 045\n",
        "total이라는 변수를 0으로 설정한다. total의 값이 50 이하이면 사용자에게 숫자를 입력하라고 요청한다. 입력된 숫자를 total에 더하고 \"The total is... [total]\"이라는 메시지를 출력한다. total의 값이 50을 넘으면 루프를 멈추는 프로그램을 작성하라."
      ],
      "metadata": {
        "id": "JAm6VaRidaZA"
      }
    },
    {
      "cell_type": "code",
      "source": [
        "# 혼자 풀어보기\n",
        "\n",
        "total = 0\n",
        "while total <= 50:\n",
        "    user = int(input(\"50 미만의 숫자 입력: \"))\n",
        "    total = total + user\n",
        "    print(\"The total is...\", total, sep=\"\")"
      ],
      "metadata": {
        "id": "3d8m2-f-xhNb",
        "colab": {
          "base_uri": "https://localhost:8080/"
        },
        "outputId": "5423a30f-af79-4f88-c0af-166e723b16d1"
      },
      "execution_count": null,
      "outputs": [
        {
          "output_type": "stream",
          "name": "stdout",
          "text": [
            "50 미만의 숫자 입력: 4\n",
            "The total is...4\n",
            "50 미만의 숫자 입력: 16\n",
            "The total is...20\n",
            "50 미만의 숫자 입력: 23\n",
            "The total is...43\n",
            "50 미만의 숫자 입력: 9\n",
            "The total is...52\n"
          ]
        }
      ]
    },
    {
      "cell_type": "code",
      "source": [
        "# 풀이\n",
        "\n",
        "total = 0\n",
        "while total <= 50:\n",
        "    num = int(input(\"Enter a number: \"))\n",
        "    total = total + num\n",
        "    print(\"The total is...\", total)"
      ],
      "metadata": {
        "colab": {
          "base_uri": "https://localhost:8080/"
        },
        "id": "hMV0r7Tzvb2g",
        "outputId": "3fd529db-344b-47c8-dceb-09f0c2591a92"
      },
      "execution_count": null,
      "outputs": [
        {
          "output_type": "stream",
          "name": "stdout",
          "text": [
            "Enter a number: 4\n",
            "The total is... 4\n",
            "Enter a number: 16\n",
            "The total is... 20\n",
            "Enter a number: 23\n",
            "The total is... 43\n",
            "Enter a number: 9\n",
            "The total is... 52\n"
          ]
        }
      ]
    },
    {
      "cell_type": "markdown",
      "source": [
        "## Challenge: 046\n",
        "사용자에게 숫자를 입력하라고 요청한다. 입력한 값이 5를 넘을 때까지 숫자를 입력하라고 요청하며, 5를 넘으면 \"The last number you entered was a [숫자]\"를 출력하고 프로그램을 종료하라."
      ],
      "metadata": {
        "id": "pXTB9eByfL4L"
      }
    },
    {
      "cell_type": "code",
      "source": [
        "# 혼자 풀어보기\n",
        "\n",
        "user = 0\n",
        "while user <= 5:\n",
        "    user = int(input(\"숫자 입력: \"))\n",
        "print(\"The last number you entered was a\", user)"
      ],
      "metadata": {
        "id": "d-SrXVoixvt7",
        "colab": {
          "base_uri": "https://localhost:8080/"
        },
        "outputId": "84908361-353a-4cee-c87a-96a54db8bbd7"
      },
      "execution_count": null,
      "outputs": [
        {
          "output_type": "stream",
          "name": "stdout",
          "text": [
            "숫자 입력: 4\n",
            "숫자 입력: 2\n",
            "숫자 입력: 3\n",
            "숫자 입력: 6\n",
            "The last number you entered was a 6\n"
          ]
        }
      ]
    },
    {
      "cell_type": "code",
      "source": [
        "# 풀이\n",
        "\n",
        "num = 0\n",
        "while num <= 5:\n",
        "    num = int(input(\"Enter a number: \"))\n",
        "print(\"The last number enter was a\", num)"
      ],
      "metadata": {
        "colab": {
          "base_uri": "https://localhost:8080/"
        },
        "id": "bVbGGq3wv_IJ",
        "outputId": "633f1563-195b-45ad-856a-b08254a98f47"
      },
      "execution_count": null,
      "outputs": [
        {
          "output_type": "stream",
          "name": "stdout",
          "text": [
            "Enter a number: 4\n",
            "Enter a number: 2\n",
            "Enter a number: 3\n",
            "Enter a number: 6\n",
            "The last number enter was a 6\n"
          ]
        }
      ]
    },
    {
      "cell_type": "markdown",
      "source": [
        "## Challenge: 047\n",
        "사용자에게 숫자를 입력하라고 요청한 다음에 다른 숫자를 입력하라고 하자. 두 숫자들을 더한 뒤, 또다른 숫자를 더하고 싶은지 묻고 \"y\"라고 입력하면 다른 숫자를 입력받아 더하고 다시 같은 질문을 한다. \"y\"가 아닌 답을 하면 루프를 종료하고 총합을 출력하라."
      ],
      "metadata": {
        "id": "JqRtDAekhNky"
      }
    },
    {
      "cell_type": "code",
      "source": [
        "# 혼자 풀어보기\n",
        "\n",
        "num1 = int(input(\"숫자 입력1: \"))\n",
        "num2 = int(input(\"숫자 입력2: \"))\n",
        "sum = num1 + num2\n",
        "more = input(\"숫자를 더 더하고 싶으면 y를 입력하세요: \")\n",
        "while more == \"y\":\n",
        "    num3 = int(input(\"숫자 입력3: \"))\n",
        "    sum = sum + num3\n",
        "    more = input(\"숫자를 더 더하고 싶으면 y를 입력하세요: \")\n",
        "print(\"total: \", sum)"
      ],
      "metadata": {
        "id": "2mX64mTGx_yl",
        "colab": {
          "base_uri": "https://localhost:8080/"
        },
        "outputId": "d8eda0ed-9129-434f-8f6b-6acd81e7dcc2"
      },
      "execution_count": null,
      "outputs": [
        {
          "output_type": "stream",
          "name": "stdout",
          "text": [
            "숫자 입력1: 76\n",
            "숫자 입력2: 33\n",
            "숫자를 더 더하고 싶으면 y를 입력하세요: y\n",
            "숫자 입력3: 90\n",
            "숫자를 더 더하고 싶으면 y를 입력하세요: n\n",
            "total:  199\n"
          ]
        }
      ]
    },
    {
      "cell_type": "code",
      "source": [
        "# 풀이\n",
        "\n",
        "num1 = int(input(\"Enter a number: \"))\n",
        "total = num1\n",
        "again = \"y\"\n",
        "while again == \"y\":\n",
        "    num2 = int(input(\"Enter another number: \"))\n",
        "    total = total + num2\n",
        "    again = input(\"Do you want to add another number? (y/n) \")\n",
        "print(\"The total is\", total)"
      ],
      "metadata": {
        "colab": {
          "base_uri": "https://localhost:8080/"
        },
        "id": "JDNYOa84wdXr",
        "outputId": "047defba-577d-4f37-c3e2-5e9a252b91a9"
      },
      "execution_count": null,
      "outputs": [
        {
          "output_type": "stream",
          "name": "stdout",
          "text": [
            "Enter a number: 76\n",
            "Enter another number: 33\n",
            "Do you want to add another number? (y/n) y\n",
            "Enter another number: 90\n",
            "Do you want to add another number? (y/n) n\n",
            "The total is 199\n"
          ]
        }
      ]
    },
    {
      "cell_type": "markdown",
      "source": [
        "## Challenge: 048\n",
        "사용자가 파티에 초대하고 싶은 사람의 이름을 입력하라고 요청한다. 그 다음에, \"[이름] has now been invited\"라는 메시지를 출력하고 카운트에 1을 더한다. 다른 사람을 더 초대하고 싶은지를 묻고 더 이상 파티에 초대하고 싶은 사람이 없을 때까지 반복한다. 초대하고 싶은 사람이 없다면 몇 명이 파티에 참석하는지를 표시하라."
      ],
      "metadata": {
        "id": "tutG6HsYh90e"
      }
    },
    {
      "cell_type": "code",
      "source": [
        "# 혼자 풀어보기\n",
        "\n",
        "answer = \"y\"\n",
        "count = 0\n",
        "while answer == \"y\":\n",
        "    name = input(\"파티에 초대하고 싶은 시람의 이름: \")\n",
        "    print(name, \"has been invited\")\n",
        "    count = count + 1\n",
        "    answer = input(\"파티에 더 초대하고 싶은 사람이 있나요? (y/n): \")\n",
        "print(\"파티 참석 인원:\", count)"
      ],
      "metadata": {
        "id": "r_nAsCITyQoy",
        "colab": {
          "base_uri": "https://localhost:8080/"
        },
        "outputId": "011b9e36-53b4-49e4-a175-de38d820f3cc"
      },
      "execution_count": 1,
      "outputs": [
        {
          "output_type": "stream",
          "name": "stdout",
          "text": [
            "파티에 초대하고 싶은 시람의 이름: 홍길동\n",
            "홍길동 has been invited\n",
            "파티에 더 초대하고 싶은 사람이 있나요? (y/n): y\n",
            "파티에 초대하고 싶은 시람의 이름: 김철수\n",
            "김철수 has been invited\n",
            "파티에 더 초대하고 싶은 사람이 있나요? (y/n): y\n",
            "파티에 초대하고 싶은 시람의 이름: 이나리\n",
            "이나리 has been invited\n",
            "파티에 더 초대하고 싶은 사람이 있나요? (y/n): y\n",
            "파티에 초대하고 싶은 시람의 이름: 최수지\n",
            "최수지 has been invited\n",
            "파티에 더 초대하고 싶은 사람이 있나요? (y/n): n\n",
            "파티 참석 인원: 4\n"
          ]
        }
      ]
    },
    {
      "cell_type": "code",
      "source": [
        "# 풀이\n",
        "\n",
        "again = \"y\"\n",
        "count = 0\n",
        "while again == \"y\":\n",
        "    name = input(\"Enter a name of somebody you wnat to invite to your party: \")\n",
        "    print(name, \"has been invited\")\n",
        "    count = count + 1\n",
        "    again = input(\"Do you want to invite somebody else? (y/n)\")\n",
        "print(\"You have\", count, \"people coming to your party\")"
      ],
      "metadata": {
        "colab": {
          "base_uri": "https://localhost:8080/"
        },
        "id": "pUEOzTj5xpGJ",
        "outputId": "0e3dad48-b7a8-471b-d7ac-cb66be4aba0c"
      },
      "execution_count": null,
      "outputs": [
        {
          "output_type": "stream",
          "name": "stdout",
          "text": [
            "Enter a name of somebody you wnat to invite to your party: 홍길동\n",
            "홍길동 has been invited\n",
            "Do you want to invite somebody else? (y/n)y\n",
            "Enter a name of somebody you wnat to invite to your party: 김철수\n",
            "김철수 has been invited\n",
            "Do you want to invite somebody else? (y/n)y\n",
            "Enter a name of somebody you wnat to invite to your party: 이나리\n",
            "이나리 has been invited\n",
            "Do you want to invite somebody else? (y/n)y\n",
            "Enter a name of somebody you wnat to invite to your party: 최수지\n",
            "최수지 has been invited\n",
            "Do you want to invite somebody else? (y/n)n\n",
            "You have 4 people coming to your party\n"
          ]
        }
      ]
    },
    {
      "cell_type": "markdown",
      "source": [
        "## Challenge: 049\n",
        "compnum이라는 이름의 변수를 생성하고 50을 설정한다. 사용자에게 숫자를 입력하라고 요청하고 입력한 값이 compnum과 동일하지 않다면 입력한 값이 높은지 낮은지를 알려주고 다시 맞춰보라고 묻는다. 만약 compnum의 값과 일치하면 \"Well done, you took [카운트] attemps\"라는 메시지를 출력하라."
      ],
      "metadata": {
        "id": "C2ixz3fojfZU"
      }
    },
    {
      "cell_type": "code",
      "source": [
        "# 혼자 풀어보기\n",
        "\n",
        "compnum = 50\n",
        "user = int(input(\"숫자 입력: \"))\n",
        "i = 1\n",
        "while compnum != user:\n",
        "    if compnum > user:\n",
        "        print(\"입력한 값이 더 낮습니다.\")\n",
        "        user = int(input(\"다시 맞춰 보세요. 숫자 재입력: \"))\n",
        "    else:\n",
        "        print(\"입력한 값이 더 높습니다.\")\n",
        "        user = int(input(\"다시 맞춰 보세요. 숫자 재입력: \"))\n",
        "    i = i + 1\n",
        "print(\"Well done, you took\", i, \"attemps\")"
      ],
      "metadata": {
        "id": "miptW153ykS1",
        "colab": {
          "base_uri": "https://localhost:8080/"
        },
        "outputId": "045c2283-5bd6-4f04-86b2-afd45836441c"
      },
      "execution_count": null,
      "outputs": [
        {
          "output_type": "stream",
          "name": "stdout",
          "text": [
            "숫자 입력: 60\n",
            "입력한 값이 더 높습니다.\n",
            "다시 맞춰 보세요. 숫자 재입력: 40\n",
            "입력한 값이 더 낮습니다.\n",
            "다시 맞춰 보세요. 숫자 재입력: 50\n",
            "Well done, you took 3 attemps\n"
          ]
        }
      ]
    },
    {
      "cell_type": "code",
      "source": [
        "# 풀이\n",
        "\n",
        "compnum = 50\n",
        "guess = int(input(\"Can you guess the number I am thinking of? \"))\n",
        "count = 1\n",
        "while guess != compnum:\n",
        "    if guess < compnum:\n",
        "        print(\"Too low\")\n",
        "    else:\n",
        "        print(\"Too high\")\n",
        "    count = count + 1\n",
        "    guess = int(input(\"Have another auess: \"))\n",
        "print(\"Well done, you took\", count, \"attempts\")"
      ],
      "metadata": {
        "colab": {
          "base_uri": "https://localhost:8080/"
        },
        "id": "rPe66n9hybHS",
        "outputId": "d7bbb561-567a-4000-e25e-c753c0bd2f29"
      },
      "execution_count": null,
      "outputs": [
        {
          "output_type": "stream",
          "name": "stdout",
          "text": [
            "Can you guess the number I am thinking of? 60\n",
            "Too high\n",
            "Have another auess: 40\n",
            "Too low\n",
            "Have another auess: 50\n",
            "Well done, you took 3 attempts\n"
          ]
        }
      ]
    },
    {
      "cell_type": "markdown",
      "source": [
        "## Challenge: 050\n",
        "사용자에게 10과 20 사이의 숫자를 입력하라고 요청한다. 입력한 숫자가 10 이하이면 \"Too low\"라는 메시지를 출력하고 다시 입력하라고 요청한다. 만약 20 이상이면 \"Too high\"라는 메시지를 출력하고 다시 입력하라고 요청한다. 사용자가 10과 20 사이의 값을 입력할 때까지 이 과정을 반복하고, 10과 20 사이의 값을 입력하면 \"Thank you\"라는 메시지를 출력하라."
      ],
      "metadata": {
        "id": "lWaWaxI5knK1"
      }
    },
    {
      "cell_type": "code",
      "source": [
        "# 혼자 풀어보기\n",
        "\n",
        "user =  int(input(\"10~20 사이의 숫자 입력: \"))\n",
        "while user <= 10 or user >= 20:\n",
        "    if user <= 10:\n",
        "        print(\"Too low\")\n",
        "    else:\n",
        "        print(\"Too high\")\n",
        "    user = int(input(\"숫자 재입력(10~20사이): \"))\n",
        "print(\"Thank you\")"
      ],
      "metadata": {
        "id": "fLI9-G5tzA29",
        "colab": {
          "base_uri": "https://localhost:8080/"
        },
        "outputId": "4aa3c8e2-2562-4843-8614-486a07dd9ba9"
      },
      "execution_count": 3,
      "outputs": [
        {
          "output_type": "stream",
          "name": "stdout",
          "text": [
            "10~20 사이의 숫자 입력: 8\n",
            "Too low\n",
            "숫자 재입력(10~20사이): 20\n",
            "Too high\n",
            "숫자 재입력(10~20사이): 15\n",
            "Thank you\n"
          ]
        }
      ]
    },
    {
      "cell_type": "code",
      "source": [
        "# 풀이\n",
        "\n",
        "num = int(input(\"Enter a number between 10 and 20: \"))\n",
        "while num <= 10 or num >= 20:\n",
        "    if num <= 10:\n",
        "        print(\"Too low\")\n",
        "    else:\n",
        "        print(\"Too high\")\n",
        "    num = int(input(\"Try again: \"))\n",
        "print(\"Thank you\")"
      ],
      "metadata": {
        "colab": {
          "base_uri": "https://localhost:8080/"
        },
        "id": "mo0HXD0B9Nbp",
        "outputId": "a612dfc7-9e31-4798-929c-a54e7e4d65d8"
      },
      "execution_count": 4,
      "outputs": [
        {
          "output_type": "stream",
          "name": "stdout",
          "text": [
            "Enter a number between 10 and 20: 8\n",
            "Too low\n",
            "Try again: 20\n",
            "Too high\n",
            "Try again: 15\n",
            "Thank you\n"
          ]
        }
      ]
    },
    {
      "cell_type": "markdown",
      "source": [
        "## Challenge: 051\n",
        "\"10 green bottles\" 노래(영국에서 유명한 동요)를 이용하여 \"There are [숫자] green bottles hanging on the wall, [숫자] green bottles hanging on the wall, and if 1 green bottle should accidentally fall\"이라는 가사를 출력하고, \"how many green bottles will be hanging on the wall?\"이라고 질문한다. 만약 사용자가 맞히면 \"There will be [숫자] green bottles hanging on the wall\"이라는 메시지를 출력하고, 틀리면 \"No, try again\" 메시지를 출력한 뒤 맞출 때까지 반복한다. green bottle의 개수가 0이 되면 \"There are no more green bottles hanging on the wall\"이라는 메시지를 출력하고 종료한다."
      ],
      "metadata": {
        "id": "a86qVNlGmA4E"
      }
    },
    {
      "cell_type": "code",
      "source": [
        "# 혼자 풀어보기\n",
        "\n",
        "num = 10\n",
        "while num > 0:\n",
        "    print(\"There are \", num, \" green bottles hanging on the wall,\\n\", num, \" green bottles hanging on the wall,\\nand if 1 green bottle should accidentally fall\\n\", sep=\"\")\n",
        "    user = int(input(\"How many green bottles will be hanging on the wall?: \"))\n",
        "    num = num - 1\n",
        "    print()\n",
        "    if user == num:\n",
        "            print(\"There will be\", num, \"green bottles hanging on the wall\\n\")\n",
        "    else:\n",
        "        while user != num:\n",
        "            user = int(input(\"No, try again: \"))\n",
        "            print()\n",
        "print(\"There are no more green bottles hanging on the wall\")"
      ],
      "metadata": {
        "colab": {
          "base_uri": "https://localhost:8080/"
        },
        "id": "EzZk38CMwDJa",
        "outputId": "d5e55f59-b9e0-4500-fb9e-52c344c925da"
      },
      "execution_count": 5,
      "outputs": [
        {
          "output_type": "stream",
          "name": "stdout",
          "text": [
            "There are 10 green bottles hanging on the wall,\n",
            "10 green bottles hanging on the wall,\n",
            "and if 1 green bottle should accidentally fall\n",
            "\n",
            "How many green bottles will be hanging on the wall?: 9\n",
            "\n",
            "There will be 9 green bottles hanging on the wall\n",
            "\n",
            "There are 9 green bottles hanging on the wall,\n",
            "9 green bottles hanging on the wall,\n",
            "and if 1 green bottle should accidentally fall\n",
            "\n",
            "How many green bottles will be hanging on the wall?: 8\n",
            "\n",
            "There will be 8 green bottles hanging on the wall\n",
            "\n",
            "There are 8 green bottles hanging on the wall,\n",
            "8 green bottles hanging on the wall,\n",
            "and if 1 green bottle should accidentally fall\n",
            "\n",
            "How many green bottles will be hanging on the wall?: 7\n",
            "\n",
            "There will be 7 green bottles hanging on the wall\n",
            "\n",
            "There are 7 green bottles hanging on the wall,\n",
            "7 green bottles hanging on the wall,\n",
            "and if 1 green bottle should accidentally fall\n",
            "\n",
            "How many green bottles will be hanging on the wall?: 6\n",
            "\n",
            "There will be 6 green bottles hanging on the wall\n",
            "\n",
            "There are 6 green bottles hanging on the wall,\n",
            "6 green bottles hanging on the wall,\n",
            "and if 1 green bottle should accidentally fall\n",
            "\n",
            "How many green bottles will be hanging on the wall?: 5\n",
            "\n",
            "There will be 5 green bottles hanging on the wall\n",
            "\n",
            "There are 5 green bottles hanging on the wall,\n",
            "5 green bottles hanging on the wall,\n",
            "and if 1 green bottle should accidentally fall\n",
            "\n",
            "How many green bottles will be hanging on the wall?: 4\n",
            "\n",
            "There will be 4 green bottles hanging on the wall\n",
            "\n",
            "There are 4 green bottles hanging on the wall,\n",
            "4 green bottles hanging on the wall,\n",
            "and if 1 green bottle should accidentally fall\n",
            "\n",
            "How many green bottles will be hanging on the wall?: 3\n",
            "\n",
            "There will be 3 green bottles hanging on the wall\n",
            "\n",
            "There are 3 green bottles hanging on the wall,\n",
            "3 green bottles hanging on the wall,\n",
            "and if 1 green bottle should accidentally fall\n",
            "\n",
            "How many green bottles will be hanging on the wall?: 2\n",
            "\n",
            "There will be 2 green bottles hanging on the wall\n",
            "\n",
            "There are 2 green bottles hanging on the wall,\n",
            "2 green bottles hanging on the wall,\n",
            "and if 1 green bottle should accidentally fall\n",
            "\n",
            "How many green bottles will be hanging on the wall?: 1\n",
            "\n",
            "There will be 1 green bottles hanging on the wall\n",
            "\n",
            "There are 1 green bottles hanging on the wall,\n",
            "1 green bottles hanging on the wall,\n",
            "and if 1 green bottle should accidentally fall\n",
            "\n",
            "How many green bottles will be hanging on the wall?: 0\n",
            "\n",
            "There will be 0 green bottles hanging on the wall\n",
            "\n",
            "There are no more green bottles hanging on the wall\n"
          ]
        }
      ]
    },
    {
      "cell_type": "code",
      "source": [
        "# 풀이\n",
        "\n",
        "num = 10\n",
        "while num > 0:\n",
        "    print(\"There are\", num, \"green bottels hanging on the wall.\")\n",
        "    print(num, \"green bottles hanging on the wall.\")\n",
        "    print(\"And if 1 green bottles should accidentally fall.\")\n",
        "    num = num -1\n",
        "    answer = int(input(\"How many green bottles will be haning on the wall?\"))\n",
        "    if answer == num:\n",
        "        print(\"There will be\", num, \"green bottles hanging on the wall.\")\n",
        "    else:\n",
        "        while answer != num:\n",
        "            answer = int(input(\"No try again: \"))\n",
        "print(\"There are no more green bottles hanging on the wall.\")"
      ],
      "metadata": {
        "colab": {
          "base_uri": "https://localhost:8080/"
        },
        "id": "J73a4iYryxli",
        "outputId": "cf6852b9-eb0d-4646-e1f1-e2c40193c642"
      },
      "execution_count": 6,
      "outputs": [
        {
          "output_type": "stream",
          "name": "stdout",
          "text": [
            "There are 10 green bottels hanging on the wall.\n",
            "10 green bottles hanging on the wall.\n",
            "And if 1 green bottles should accidentally fall.\n",
            "How many green bottles will be haning on the wall?9\n",
            "There will be 9 green bottles hanging on the wall.\n",
            "There are 9 green bottels hanging on the wall.\n",
            "9 green bottles hanging on the wall.\n",
            "And if 1 green bottles should accidentally fall.\n",
            "How many green bottles will be haning on the wall?8\n",
            "There will be 8 green bottles hanging on the wall.\n",
            "There are 8 green bottels hanging on the wall.\n",
            "8 green bottles hanging on the wall.\n",
            "And if 1 green bottles should accidentally fall.\n",
            "How many green bottles will be haning on the wall?7\n",
            "There will be 7 green bottles hanging on the wall.\n",
            "There are 7 green bottels hanging on the wall.\n",
            "7 green bottles hanging on the wall.\n",
            "And if 1 green bottles should accidentally fall.\n",
            "How many green bottles will be haning on the wall?6\n",
            "There will be 6 green bottles hanging on the wall.\n",
            "There are 6 green bottels hanging on the wall.\n",
            "6 green bottles hanging on the wall.\n",
            "And if 1 green bottles should accidentally fall.\n",
            "How many green bottles will be haning on the wall?5\n",
            "There will be 5 green bottles hanging on the wall.\n",
            "There are 5 green bottels hanging on the wall.\n",
            "5 green bottles hanging on the wall.\n",
            "And if 1 green bottles should accidentally fall.\n",
            "How many green bottles will be haning on the wall?4\n",
            "There will be 4 green bottles hanging on the wall.\n",
            "There are 4 green bottels hanging on the wall.\n",
            "4 green bottles hanging on the wall.\n",
            "And if 1 green bottles should accidentally fall.\n",
            "How many green bottles will be haning on the wall?3\n",
            "There will be 3 green bottles hanging on the wall.\n",
            "There are 3 green bottels hanging on the wall.\n",
            "3 green bottles hanging on the wall.\n",
            "And if 1 green bottles should accidentally fall.\n",
            "How many green bottles will be haning on the wall?2\n",
            "There will be 2 green bottles hanging on the wall.\n",
            "There are 2 green bottels hanging on the wall.\n",
            "2 green bottles hanging on the wall.\n",
            "And if 1 green bottles should accidentally fall.\n",
            "How many green bottles will be haning on the wall?1\n",
            "There will be 1 green bottles hanging on the wall.\n",
            "There are 1 green bottels hanging on the wall.\n",
            "1 green bottles hanging on the wall.\n",
            "And if 1 green bottles should accidentally fall.\n",
            "How many green bottles will be haning on the wall?0\n",
            "There will be 0 green bottles hanging on the wall.\n",
            "There are no more green bottles hanging on the wall.\n"
          ]
        }
      ]
    }
  ]
}