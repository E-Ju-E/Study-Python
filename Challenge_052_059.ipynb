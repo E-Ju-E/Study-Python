{
  "nbformat": 4,
  "nbformat_minor": 0,
  "metadata": {
    "colab": {
      "provenance": [],
      "authorship_tag": "ABX9TyMtL08X2qWbfnfa+42XMBbE",
      "include_colab_link": true
    },
    "kernelspec": {
      "name": "python3",
      "display_name": "Python 3"
    },
    "language_info": {
      "name": "python"
    }
  },
  "cells": [
    {
      "cell_type": "markdown",
      "metadata": {
        "id": "view-in-github",
        "colab_type": "text"
      },
      "source": [
        "<a href=\"https://colab.research.google.com/github/E-Ju-E/Study-Python/blob/main/Challenge_052_059.ipynb\" target=\"_parent\"><img src=\"https://colab.research.google.com/assets/colab-badge.svg\" alt=\"Open In Colab\"/></a>"
      ]
    },
    {
      "cell_type": "markdown",
      "source": [
        "### **Python: 150 Challenges**"
      ],
      "metadata": {
        "id": "N86dy9elZRst"
      }
    },
    {
      "cell_type": "markdown",
      "source": [
        "## 예제 코드"
      ],
      "metadata": {
        "id": "AVgLXrJeZoME"
      }
    },
    {
      "cell_type": "code",
      "source": [
        "# random 함수 사용 = 프로그램 시작 부분에 입력\n",
        "import random\n",
        "\n",
        "# 0과 1 사이의 임의의 부동소수점 수 생성\n",
        "num = random.random()\n",
        "\n",
        "# 0과 9(포함) 사이의 임의의 정수 선택\n",
        "num = random.randint(0, 9)\n",
        "\n",
        "# 0부터 5씩 증가하여 100(포함)까지 숫자들 중 임의의 숫자 선택\n",
        "num = random.randrange(0, 100, 5)\n",
        "\n",
        "# 입력 값들 중 하나를 임의 선택\n",
        "color = random.choice([\"red\", \"black\", \"green\"])\n",
        "num = random.choive(34, 11, 5)"
      ],
      "metadata": {
        "id": "nz564wL90ze_"
      },
      "execution_count": null,
      "outputs": []
    },
    {
      "cell_type": "markdown",
      "source": [
        "## Challenge: 052\n",
        "1부터 100(포함) 사이의 임의의 정수를 출력하라."
      ],
      "metadata": {
        "id": "JAm6VaRidaZA"
      }
    },
    {
      "cell_type": "code",
      "source": [
        "# 혼자 풀어보기\n",
        "\n",
        "import random\n",
        "num = random.randint(1,100)\n",
        "print(num)"
      ],
      "metadata": {
        "id": "gnLPyDuPL1ZD",
        "colab": {
          "base_uri": "https://localhost:8080/"
        },
        "outputId": "0f57c5ff-a583-41fc-d9d9-3dd6360d77d7"
      },
      "execution_count": null,
      "outputs": [
        {
          "output_type": "stream",
          "name": "stdout",
          "text": [
            "25\n"
          ]
        }
      ]
    },
    {
      "cell_type": "code",
      "source": [
        "# 풀이\n",
        "\n",
        "import random\n",
        "num = random.randint(1, 100)\n",
        "print(num)"
      ],
      "metadata": {
        "colab": {
          "base_uri": "https://localhost:8080/"
        },
        "id": "JHRGYtEAALZ6",
        "outputId": "9d68b5bf-86d1-43e1-e9f2-35a888558b72"
      },
      "execution_count": null,
      "outputs": [
        {
          "output_type": "stream",
          "name": "stdout",
          "text": [
            "90\n"
          ]
        }
      ]
    },
    {
      "cell_type": "markdown",
      "source": [
        "## Challenge: 053\n",
        "다섯 개의 과일 이름들의 목록에서 임의의 과일을 출력하라."
      ],
      "metadata": {
        "id": "pXTB9eByfL4L"
      }
    },
    {
      "cell_type": "code",
      "source": [
        "# 혼자 풀어보기\n",
        "\n",
        "import random\n",
        "fruit = [\"사과\", \"배\", \"바나나\", \"수박\", \"딸기\"]\n",
        "one = random.choice(fruit)\n",
        "print(one)"
      ],
      "metadata": {
        "id": "s1BEWtpiL0dt",
        "colab": {
          "base_uri": "https://localhost:8080/"
        },
        "outputId": "62e01687-a416-4e9d-b774-5f7a08a06e98"
      },
      "execution_count": null,
      "outputs": [
        {
          "output_type": "stream",
          "name": "stdout",
          "text": [
            "수박\n"
          ]
        }
      ]
    },
    {
      "cell_type": "code",
      "source": [
        "# 풀이\n",
        "\n",
        "import random\n",
        "fruit = random.choice([\"apple\", \"orange\", \"grape\", \"banana\", \"strawberry\"])\n",
        "print(fruit)"
      ],
      "metadata": {
        "colab": {
          "base_uri": "https://localhost:8080/"
        },
        "id": "5FMPu3hOAbe5",
        "outputId": "031dbf9d-fad9-49d2-dc3c-22f933a80946"
      },
      "execution_count": null,
      "outputs": [
        {
          "output_type": "stream",
          "name": "stdout",
          "text": [
            "grape\n"
          ]
        }
      ]
    },
    {
      "cell_type": "markdown",
      "source": [
        "## Challenge: 054\n",
        "앞면과 뒷면('h' 그리고 't')중 임의로 선택한다. 사용자에게 어떤 것을 고를지를 요청한다. 만약 사용자의 선택과 임의로 선택한 값이 서로 같으면 \"You win\" 메시지를 출력하고, 그렇지 않다면 \"Bad luck\" 메시지를 출력하라. 마지막에 컴퓨터가 선택한 것이 무엇인지를 사용자에게 알려줘라."
      ],
      "metadata": {
        "id": "JqRtDAekhNky"
      }
    },
    {
      "cell_type": "code",
      "source": [
        "# 혼자 풀어보기\n",
        "\n",
        "import random\n",
        "coin = [\"h\", \"t\"]\n",
        "com = random.choice(coin)\n",
        "user = input(\"동전의 앞면(h)와 뒷면(t) 중 하나를 고르세요(h or t): \")\n",
        "\n",
        "if user == com:\n",
        "    print(\"You win\")\n",
        "else:\n",
        "    print(\"Bad luck\")\n",
        "\n",
        "print(\"컴퓨터가 선택한 것은\", com, \"였습니다.\")"
      ],
      "metadata": {
        "id": "wZss28PWLzmg",
        "colab": {
          "base_uri": "https://localhost:8080/"
        },
        "outputId": "80f830ac-bdd0-4587-c398-a87555ec65f8"
      },
      "execution_count": null,
      "outputs": [
        {
          "output_type": "stream",
          "name": "stdout",
          "text": [
            "동전의 앞면(h)와 뒷면(t) 중 하나를 고르세요(h or t): t\n",
            "Bad luck\n",
            "컴퓨터가 선택한 것은 h 였습니다.\n"
          ]
        }
      ]
    },
    {
      "cell_type": "code",
      "source": [
        "# 풀이\n",
        "\n",
        "import random\n",
        "coin = random.choice([\"h\", \"t\"])\n",
        "guess = input(\"Enter (h)eads or (t)ails: \")\n",
        "if guess == coin:\n",
        "    print(\"You win\")\n",
        "else:\n",
        "    print(\"Bad luck\")\n",
        "if coin == \"h\":\n",
        "    print(\"It was haeds\")\n",
        "else:\n",
        "    print(\"It was tails\")"
      ],
      "metadata": {
        "colab": {
          "base_uri": "https://localhost:8080/"
        },
        "id": "12jUp5cHA1Kt",
        "outputId": "56744eaf-17e1-4be9-99fd-f38ee3a835be"
      },
      "execution_count": null,
      "outputs": [
        {
          "output_type": "stream",
          "name": "stdout",
          "text": [
            "Enter (h)eads or (t)ails: t\n",
            "Bad luck\n",
            "It was haeds\n"
          ]
        }
      ]
    },
    {
      "cell_type": "markdown",
      "source": [
        "## Challenge: 055\n",
        "1과 5 사이의 숫자를 임의로 선택한다. 사용자에게 숫자를 선택하라고 요청한다. 입력한 값이 맞으면 \"Well done\" 메시지를 출력하고, 그렇지 않으면 선택한 숫자가 너무 높은지 아니면 너무 낮은지를 알려주고 다시 숫자를 입력하라고 한다. 다시 입력한 숫자가 맞으면 \"Correct\"라고 출력하고, 그렇지 않다면 \"You lose\"라고 출력하라."
      ],
      "metadata": {
        "id": "tutG6HsYh90e"
      }
    },
    {
      "cell_type": "code",
      "source": [
        "# 혼자 풀어보기\n",
        "\n",
        "import random\n",
        "com = random.randint(1,6)\n",
        "user = int(input(\"1~5사이의 슷자를 입력하세요.: \"))\n",
        "\n",
        "if user == com:\n",
        "    print(\"Well done\")\n",
        "else:\n",
        "    if user > com:\n",
        "        print(user, \"보다 작은 수를 입력하세요.: \")\n",
        "        user = int(input(\"숫자를 다시 입력하세요.: \"))\n",
        "    else:\n",
        "        print(user, \"보다 큰 수를 입력하세요.\")\n",
        "        user = int(input(\"숫자를 다시 입력하세요.: \"))\n",
        "    if user == com:\n",
        "        print(\"Correct\")\n",
        "    else:\n",
        "        print(\"You lose\")"
      ],
      "metadata": {
        "id": "wqkF4_dILyfs",
        "colab": {
          "base_uri": "https://localhost:8080/"
        },
        "outputId": "0cdc680d-96cc-492e-c87e-b468dcdc6b50"
      },
      "execution_count": null,
      "outputs": [
        {
          "output_type": "stream",
          "name": "stdout",
          "text": [
            "1~5사이의 슷자를 입력하세요.: 3\n",
            "3 보다 큰 수를 입력하세요.\n",
            "숫자를 다시 입력하세요.: 4\n",
            "Correct\n"
          ]
        }
      ]
    },
    {
      "cell_type": "code",
      "source": [
        "# 풀이\n",
        "\n",
        "import random\n",
        "num = random.randint(1, 5)\n",
        "guess = int(input(\"Enter a number: \"))\n",
        "if guess == num:\n",
        "    print(\"Well done\")\n",
        "elif guess > num:\n",
        "    print(\"Too high\")\n",
        "    guess = int(input(\"Guess again: \"))\n",
        "    if guess == num:\n",
        "        print(\"Correct\")\n",
        "    else:\n",
        "        print(\"You lose\")\n",
        "elif guess < num:\n",
        "    print(\"Too low\")\n",
        "    guess = int(input(\"Guess again: \"))\n",
        "    if guess == num:\n",
        "        print(\"Correct\")\n",
        "    else:\n",
        "        print(\"You lose\")"
      ],
      "metadata": {
        "colab": {
          "base_uri": "https://localhost:8080/"
        },
        "id": "56m-wO5zBgr5",
        "outputId": "94c5d213-ca68-48d3-9553-130675302b9e"
      },
      "execution_count": null,
      "outputs": [
        {
          "output_type": "stream",
          "name": "stdout",
          "text": [
            "Enter a number: 2\n",
            "Too high\n",
            "Guess again: 1\n",
            "Correct\n"
          ]
        }
      ]
    },
    {
      "cell_type": "markdown",
      "source": [
        "## Challenge: 056\n",
        "1과 10 사이의 정수를 임의로 선택한다. 사용자에게 숫자를 입력하라고 요청하고 임의로 선택한 숫자를 입력할 때까지 계속 숫자를 입력하게 하라."
      ],
      "metadata": {
        "id": "C2ixz3fojfZU"
      }
    },
    {
      "cell_type": "code",
      "source": [
        "# 혼자 풀어보기\n",
        "\n",
        "import random\n",
        "com = random.randint(1, 11)\n",
        "user = int(input(\"1~10사이의 정수 입력: \"))\n",
        "while user != com:\n",
        "    user = int(input(\"숫자 재입력: \"))\n",
        "print(\"입력한 값\", user, \"와\", \"설정값\", com, \"이 일치합니다.\")"
      ],
      "metadata": {
        "id": "Z3UykaExLxol",
        "colab": {
          "base_uri": "https://localhost:8080/"
        },
        "outputId": "4d7b2b75-278a-44ea-e29b-a11ac914d11c"
      },
      "execution_count": null,
      "outputs": [
        {
          "output_type": "stream",
          "name": "stdout",
          "text": [
            "1~10사이의 정수 입력: 5\n",
            "숫자 재입력: 4\n",
            "숫자 재입력: 3\n",
            "숫자 재입력: 2\n",
            "숫자 재입력: 1\n",
            "숫자 재입력: 9\n",
            "숫자 재입력: 8\n",
            "숫자 재입력: 7\n",
            "입력한 값 7 와 설정값 7 이 일치합니다.\n"
          ]
        }
      ]
    },
    {
      "cell_type": "code",
      "source": [
        "# 풀이\n",
        "\n",
        "import random\n",
        "num = random.randint(1, 10)\n",
        "correct = False\n",
        "while correct == False:\n",
        "    guess = int(input(\"Enter a number: \"))\n",
        "    if guess == num:\n",
        "        correct = True"
      ],
      "metadata": {
        "colab": {
          "base_uri": "https://localhost:8080/"
        },
        "id": "1wT0MhxmC37B",
        "outputId": "ef7bb339-6bbd-4434-baf5-a00950082a4c"
      },
      "execution_count": null,
      "outputs": [
        {
          "name": "stdout",
          "output_type": "stream",
          "text": [
            "Enter a number: 5\n",
            "Enter a number: 4\n",
            "Enter a number: 3\n"
          ]
        }
      ]
    },
    {
      "cell_type": "markdown",
      "source": [
        "## Challenge: 057\n",
        "56번 프로그램을 업데이트하여 사용자가 입력한 숫자가 큰지 작은지를 알려주고 다시 숫자를 고르게 하라."
      ],
      "metadata": {
        "id": "lWaWaxI5knK1"
      }
    },
    {
      "cell_type": "code",
      "source": [
        "# 혼자 풀어보기\n",
        "\n",
        "import random\n",
        "com = random.randint(1, 11)\n",
        "user = int(input(\"1~10사이의 정수 입력: \"))\n",
        "while user != com:\n",
        "    if user > com:\n",
        "        print(\"입력값이 설정값보다 큽니다.\")\n",
        "    else:\n",
        "        print(\"입력값이 설정값보다 작습니다.\")\n",
        "    user = int(input(\"숫자 재입력: \"))\n",
        "print(\"입력한 값 \", user, \"와(과) \", \"설정값 \", com, \"이 일치합니다.\", sep=\"\")"
      ],
      "metadata": {
        "id": "_32LpsN1Lw2W",
        "colab": {
          "base_uri": "https://localhost:8080/"
        },
        "outputId": "e5fc205a-3fe4-4af7-b353-0937335ae6c4"
      },
      "execution_count": null,
      "outputs": [
        {
          "output_type": "stream",
          "name": "stdout",
          "text": [
            "1~10사이의 정수 입력: 5\n",
            "입력값이 설정값보다 큽니다.\n",
            "숫자 재입력: 4\n",
            "입력값이 설정값보다 큽니다.\n",
            "숫자 재입력: 3\n",
            "입력값이 설정값보다 큽니다.\n",
            "숫자 재입력: 2\n",
            "입력값이 설정값보다 큽니다.\n",
            "숫자 재입력: 1\n",
            "입력한 값 1와(과) 설정값 1이 일치합니다.\n"
          ]
        }
      ]
    },
    {
      "cell_type": "code",
      "source": [
        "# 풀이\n",
        "\n",
        "import random\n",
        "num = random.randint(1, 10)\n",
        "correct = False\n",
        "while correct == False:\n",
        "    guess = int(input(\"Enter a number: \"))\n",
        "    if guess == num:\n",
        "        correct = True\n",
        "    elif guess > num:\n",
        "        print(\"Too high\")\n",
        "    else:\n",
        "        print(\"Too low\")"
      ],
      "metadata": {
        "colab": {
          "base_uri": "https://localhost:8080/"
        },
        "id": "HneWcvOGDO_-",
        "outputId": "aa424677-b9be-41e1-eb20-e43a34bba04a"
      },
      "execution_count": null,
      "outputs": [
        {
          "name": "stdout",
          "output_type": "stream",
          "text": [
            "Enter a number: 5\n",
            "Too high\n",
            "Enter a number: 4\n",
            "Too high\n",
            "Enter a number: 3\n"
          ]
        }
      ]
    },
    {
      "cell_type": "markdown",
      "source": [
        "## Challenge: 058\n",
        "임의로 생성된 두 개의 정수(1~50)를 더하는 다섯 개의 질문(즉, [숫자1] + [숫자2])이 나오는 수학 퀴즈를 만들자. 사용자에게 답을 입력하라고 요청하고 정답을 맞히면 점수를 증가하라. 퀴즈가 끝나면 다섯 문제 중에 몇 개를 맞혔는지 출력하라."
      ],
      "metadata": {
        "id": "a86qVNlGmA4E"
      }
    },
    {
      "cell_type": "code",
      "source": [
        "# 혼자 풀어보기\n",
        "\n",
        "import random\n",
        "score = 0\n",
        "for i in range(1, 6):\n",
        "    num1 = random.randint(1, 50)\n",
        "    num2 = random.randint(1, 50)\n",
        "    sum = num1 + num2\n",
        "    print(i, \"번 문제) \", num1, \"+\", num2, \"=\", sep=\"\")\n",
        "    user = int(input(\"정답: \"))\n",
        "    print()\n",
        "    if user == sum:\n",
        "        score = score + 1\n",
        "    else:\n",
        "        score = score\n",
        "print(\"총\", i, \"문제 중에\", score, \"문제 맞혔습니다.\")"
      ],
      "metadata": {
        "id": "KQSeRLFrLveY",
        "colab": {
          "base_uri": "https://localhost:8080/"
        },
        "outputId": "b5262f02-26bd-416b-dbb8-c19f83a97031"
      },
      "execution_count": null,
      "outputs": [
        {
          "output_type": "stream",
          "name": "stdout",
          "text": [
            "1번 문제) 6+42=\n",
            "정답: 48\n",
            "\n",
            "2번 문제) 38+38=\n",
            "정답: 76\n",
            "\n",
            "3번 문제) 43+33=\n",
            "정답: 76\n",
            "\n",
            "4번 문제) 48+28=\n",
            "정답: 76\n",
            "\n",
            "5번 문제) 27+2=\n",
            "정답: 29\n",
            "\n",
            "총 5 문제 중에 5 문제 맞혔습니다.\n"
          ]
        }
      ]
    },
    {
      "cell_type": "code",
      "source": [
        "# 풀이\n",
        "\n",
        "import random\n",
        "score = 0\n",
        "for i in range(1, 6):\n",
        "    num1 = random.randint(1, 50)\n",
        "    num2 = random.randint(1, 50)\n",
        "    correct = num1 + num2\n",
        "    print(num1, \"+\", num2, \"= \")\n",
        "    answer = int(input(\"Your answer: \"))\n",
        "    print()\n",
        "    if answer == correct:\n",
        "        score = score + 1\n",
        "print(\"You scored\", score, \"out of 5\")"
      ],
      "metadata": {
        "colab": {
          "base_uri": "https://localhost:8080/"
        },
        "id": "D0-piyheDze3",
        "outputId": "03c4eef9-366e-4103-d636-e8fe9835aa62"
      },
      "execution_count": null,
      "outputs": [
        {
          "output_type": "stream",
          "name": "stdout",
          "text": [
            "26 + 41 = \n",
            "Your answer: 67\n",
            "\n",
            "40 + 23 = \n",
            "Your answer: 63\n",
            "\n",
            "12 + 15 = \n",
            "Your answer: 27\n",
            "\n",
            "21 + 8 = \n",
            "Your answer: 29\n",
            "\n",
            "37 + 25 = \n",
            "Your answer: 62\n",
            "\n",
            "You scored 5 out of 5\n"
          ]
        }
      ]
    },
    {
      "cell_type": "markdown",
      "source": [
        "## Challenge: 059\n",
        "다섯 개의 색상을 표시하고 그들 중 하나를 사용자에게 선택하라고 요청한다. 만약 프로그램이 선택한 것과 동일하면 \"Well done\"이라고 출력하고, 그렇지 않다면 컴퓨터가 선택한 색상이 포함된 위트 있는 문장을 출력하라.\\\n",
        "(예: \"I bet you are seeing RED right now!\", \"Don't fell BLUE\", \"Are you WHITE as a sheet, as you didn't guess correctly?\", \"I bet you are GREEN with envy.\", \"Shame you are not feeling in the PINK, as you got it wrong!\" )\\\n",
        "그리고 다시 맞혀 보라고 사용자에게 색상을 입력하라고 한다. 사용자가 맞힐 때까지 이 작업을 반복한다."
      ],
      "metadata": {
        "id": "cWv1VJhHLZXL"
      }
    },
    {
      "cell_type": "code",
      "source": [
        "# 혼자 풀어보기\n",
        "\n",
        "import random\n",
        "\n",
        "color = [\"red\", \"blue\", \"white\", \"green\", \"pink\"]\n",
        "com = random.choice(color)\n",
        "user = input(\"5가지 색 중 하나를 고르세요.\\n[red, blue, white, green, pink]: \")\n",
        "\n",
        "while user != com:\n",
        "    if com == \"red\":\n",
        "        print(\"\\nI bet you are seeing RED right now!\")\n",
        "    elif com == \"blue\":\n",
        "        print(\"\\nDon't fell BLUE\")\n",
        "    elif com == \"white\":\n",
        "        print(\"\\nAre you WHITE as a sheet, as you didn't guess correctly?\")\n",
        "    elif com == \"green\":\n",
        "        print(\"\\nI bet you are GREEN with envy.\")\n",
        "    elif com ==\"pink\":\n",
        "        print(\"\\nShame you are not feeling in the PINK, as you got it wrong!\")\n",
        "    else:\n",
        "        print(\"\\n잘못 입력하셨습니다.\")\n",
        "    user = input(\"색을 다시 고르세요.\\n[red, blue, white, green, pink]: \")\n",
        "\n",
        "print(\"\\nWell done\")"
      ],
      "metadata": {
        "colab": {
          "base_uri": "https://localhost:8080/"
        },
        "id": "GbQOCRshylgY",
        "outputId": "be270a2a-3cdd-4cff-e3eb-36bd2689cbec"
      },
      "execution_count": 6,
      "outputs": [
        {
          "output_type": "stream",
          "name": "stdout",
          "text": [
            "5가지 색 중 하나를 고르세요.\n",
            "[red, blue, white, green, pink]: pink\n",
            "\n",
            "Are you WHITE as a sheet, as you didn't guess correctly?\n",
            "색을 다시 고르세요.\n",
            "[red, blue, white, green, pink]: white\n",
            "\n",
            "Well done\n"
          ]
        }
      ]
    },
    {
      "cell_type": "code",
      "source": [
        "# 풀이\n",
        "\n",
        "import random\n",
        "\n",
        "colour = random.choice([\"red\", \"blue\", \"green\", \"white\", \"pink\"])\n",
        "print(\"Select from red, blue, green, white or pink\")\n",
        "tryagain = True\n",
        "while tryagain == True:\n",
        "    theirchoice = input(\"Enter a colour: \")\n",
        "    theirchoice = theirchoice.lower()\n",
        "    if colour == theirchoice:\n",
        "        print(\"Well done\")\n",
        "        tryagain = False\n",
        "    else:\n",
        "        if colour == \"red\":\n",
        "            print(\"I bet you are seeing RED right now!\")\n",
        "        elif colour == \"blue\":\n",
        "            print(\"Don't feel BLUE\")\n",
        "        elif colour == \"green\":\n",
        "            print(\"I bet you are GREEN with envy right now.\")\n",
        "        elif colour == \"white\":\n",
        "            print(\"Are you WHITE as a asheet, as you didn't guess correctly?\")\n",
        "        elif colour == \"pink\":\n",
        "            print(\"Shame you are not feeling in the PINK, as you got it wrong!\")"
      ],
      "metadata": {
        "colab": {
          "base_uri": "https://localhost:8080/"
        },
        "id": "ApPlocgD8tdO",
        "outputId": "78fd2afe-fec8-4424-e8d2-f5d9637a5d7c"
      },
      "execution_count": 4,
      "outputs": [
        {
          "output_type": "stream",
          "name": "stdout",
          "text": [
            "Select from red, blue, green, white or pink\n",
            "Enter a colour: pink\n",
            "Don't feel BLUE\n",
            "Enter a colour: blue\n",
            "Well done\n"
          ]
        }
      ]
    }
  ]
}