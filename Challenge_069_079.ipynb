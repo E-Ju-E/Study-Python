{
  "nbformat": 4,
  "nbformat_minor": 0,
  "metadata": {
    "colab": {
      "provenance": [],
      "authorship_tag": "ABX9TyO/1cwWJTtj6hv+wJfR2FZF",
      "include_colab_link": true
    },
    "kernelspec": {
      "name": "python3",
      "display_name": "Python 3"
    },
    "language_info": {
      "name": "python"
    }
  },
  "cells": [
    {
      "cell_type": "markdown",
      "metadata": {
        "id": "view-in-github",
        "colab_type": "text"
      },
      "source": [
        "<a href=\"https://colab.research.google.com/github/E-Ju-E/Study-Python/blob/main/Challenge_069_079.ipynb\" target=\"_parent\"><img src=\"https://colab.research.google.com/assets/colab-badge.svg\" alt=\"Open In Colab\"/></a>"
      ]
    },
    {
      "cell_type": "markdown",
      "source": [
        "### **Python: 150 Challenges**"
      ],
      "metadata": {
        "id": "N86dy9elZRst"
      }
    },
    {
      "cell_type": "markdown",
      "source": [
        "## 예제 코드"
      ],
      "metadata": {
        "id": "AVgLXrJeZoME"
      }
    },
    {
      "cell_type": "code",
      "source": [
        "# 튜플: 소괄호로 데이터 모음을 정의하며, 프로그램이 실행되는 동안 이 데이터 모음의 항목을 변경할 수 없음\n",
        "fruit_tuple = (\"apple\", \"banana\", \" strawberry\", \"orange\")\n",
        "\n",
        "# \"strawberry\" 항목의 인덱스(즉, 숫자 키)를 출력함.\n",
        "## 이 예제에서는 숫자 2를 반환할 것임(파이썬에서 항목을 셀 때 1이 아닌 0부터 시작함)\n",
        "print(fruit_tutle.index(\"strawberry\"))\n",
        "\n",
        "# fruit_tuple 에서 인덱스 2인 항목을 출력함.\n",
        "## 이 예제에서는 'strawberry'가 출려됨\n",
        "print(fruit_tuple[2])\n",
        "\n",
        "\n",
        "\n",
        "\n",
        "# 리스트: 대괄호로 데이터 모음을 정의하며, 프로그램이 실행되는 동안에 항목이 변경될 수 있음\n",
        "names_list = [\"John\", \"Tim\", \"Sam\"]\n",
        "\n",
        "# 사용자에게 이름을 입력하라고 요청하고, 입력한 이름을 리스트의 끝에 추가함\n",
        "names_list.append(input(\"Add a name: \"))\n",
        "\n",
        "# 인덱스가 1인 항목을 리스트에서 삭제함\n",
        "## 이 예제에서는 Tim이 삭제될 것임(항목은 1이 아닌 0부터 센다는 것 기억하기)\n",
        "del names_list[1]\n",
        "\n",
        "# 리스트의 항목을 알파벡 순으로 정렬하고 새롭게 정렬된 리스트를 저장함\n",
        "## 만약 리스트에 서로 다른 타입의 데이터(ex: 문자열 & 숫자)가 저장되어 있다면 이 함수는 작동하지 않음.\n",
        "names_list.sort()\n",
        "\n",
        "# name_list를 알파벳 숫서로 출력하지만, 원래의 리스트 순서를 변경하지는 않음\n",
        "## 리스트 내의 원래 순서는 그대로 유지됨 / 서로 다른 타입의 데이터가 있으면 이 함수는 작동하지 않음.\n",
        "print(sorted(names_list))\n",
        "\n",
        "\n",
        "\n",
        "\n",
        "# 딕셔너리: {}를 통해 딕셔너리를 생성하며, 각 항목에 지정한 인덱스가 할당됨\n",
        "## 각 블록의 첫번째 항목은 인덱스이며, 인덱스와 값은 ; 으로 구분됨\n",
        "colors = {1:\"red\", 2:\"blue\", 3:\"green\"}\n",
        "\n",
        "# 딕셔너리의 인덱스 2에 내장된 데이터를 변경함\n",
        "## 이 예제에서는 blue가 yellow로 바뀜\n",
        "colors[2] = \"yellow\"\n",
        "\n",
        "\n",
        "\n",
        "\n",
        "# 숫자를 담은 리스트를 생성할 때에는 \"\"같은 따옴표를 사용할 필요 없음\n",
        "x = [154, 634, 892, 345, 341, 43]\n",
        "\n",
        "# 1,2,3에 있는 데이터를 출력함\n",
        "## 이 예제에서는 634, 892, 345 가 출력됨\n",
        "## 인덱스는 0부터 시작하고, 마지막 위치의 값은 표시하지 않는다는 것 기억하기\n",
        "print(x[1:4])\n",
        "\n",
        "# 리스트의 길이(즉, 리스트에 포함된 항목의 개수)를 출력함\n",
        "print(len(x))\n",
        "\n",
        "# for 루프에서 리스트의 항목을 사용함\n",
        "## 리스트의 항목을 각 행에 출력하고자 한다면 이 방법이 유용할 것임\n",
        "for i in x:\n",
        "    print(i)\n",
        "\n",
        "# 사용자에게 숫자를 입력하라고 요철하고 리스트에 있는 숫자인지 확인하여 적절한 메시지를 출력함\n",
        "num = int(input(\"Enter number: \"))\n",
        "if num in x:\n",
        "    print(num, \"is in the list\")\n",
        "else:\n",
        "    print(\"Not in the list\")\n",
        "\n",
        "# 숫자 420을 인덱스 2에 추가함 / 기존의 항목들은 그 뒤로 밀림\n",
        "## 이 작업은 리스트의 항목 인덱스를 변경시킴\n",
        "x.insert(2, 420)\n",
        "\n",
        "# 리스트에서 항목을 삭제함 / 해당 항목의 인덱스를 알지 못할 때 유용함\n",
        "# 만약 그 인덱스의 인스턴스가 한 개 이상이라면 첫 번째 인스턴스만 삭제됨\n",
        "x.remove(892)\n",
        "\n",
        "# 리스트의 끝에 숫자 993을 추가함\n",
        "x.append(993)\n"
      ],
      "metadata": {
        "id": "J2X-ZK3rwseh"
      },
      "execution_count": null,
      "outputs": []
    },
    {
      "cell_type": "markdown",
      "source": [
        "## Challenge: 069\n",
        "다섯 개의 국가 이름을 담고 있는 튜플을 만들고, 튜플 전체를 출력하라.\\\n",
        "표시된 국가 이름들 중 하나를 입력하라고 사용자에게 요청하고, 입력된 국가 이름의 인덱스 번호(즉, 목록에서의 위치)를 출력하라."
      ],
      "metadata": {
        "id": "NZDKNDVp06cB"
      }
    },
    {
      "cell_type": "code",
      "source": [
        "# 혼자 풀어보기\n",
        "\n",
        "country = (\"Korea\", \"Italy\", \"Spain\", \"Cuba\", \"Brazil\")\n",
        "print(country)\n",
        "user = input(\"다음의 국가 이름 중 하나를 입력하세요: \")\n",
        "print(\"입력한 국가의 인덱스 번호는 \", country.index(user), \"입니다\", sep=\"\")"
      ],
      "metadata": {
        "colab": {
          "base_uri": "https://localhost:8080/"
        },
        "id": "yL0oz_RfBDqB",
        "outputId": "1a400995-37ba-4808-f350-2152f0b17e0d"
      },
      "execution_count": null,
      "outputs": [
        {
          "output_type": "stream",
          "name": "stdout",
          "text": [
            "('Korea', 'Italy', 'Spain', 'Cuba', 'Brazil')\n",
            "다음의 국가 이름 중 하나를 입력하세요: Cuba\n",
            "입력한 국가의 인덱스 번호는 3입니다\n"
          ]
        }
      ]
    },
    {
      "cell_type": "code",
      "source": [
        "# 풀이\n",
        "\n",
        "country_tuple = (\"France\", \"England\", \"Spain\", \"Germany\", \"Australia\")\n",
        "print(country_tuple)\n",
        "print()\n",
        "country = input(\"Please enter one of the countries from above: \")\n",
        "print(country, \"has index number\", country_tuple.index(country))"
      ],
      "metadata": {
        "colab": {
          "base_uri": "https://localhost:8080/"
        },
        "id": "Gd4AunICWl0y",
        "outputId": "9599f48b-a483-4fd7-99c0-a63ea815f374"
      },
      "execution_count": null,
      "outputs": [
        {
          "output_type": "stream",
          "name": "stdout",
          "text": [
            "('France', 'England', 'Spain', 'Germany', 'Australia')\n",
            "\n",
            "Please enter one of the countries from above: Spain\n",
            "Spain has index number 2\n"
          ]
        }
      ]
    },
    {
      "cell_type": "markdown",
      "source": [
        "## Challenge: 070\n",
        "사용자에게 숫자를 입력하라고 요청하고, 입력한 위치의 국가 이름이 출력되는 기능을 069번 프로그램에 추가하라."
      ],
      "metadata": {
        "id": "VaHsBQrm1IMo"
      }
    },
    {
      "cell_type": "code",
      "source": [
        "# 혼자 풀어보기\n",
        "\n",
        "\n",
        "country = (\"Korea\", \"Italy\", \"Spain\", \"Cuba\", \"Brazil\")\n",
        "print(country)\n",
        "print()\n",
        "user = input(\"다음의 국가 이름 중 하나를 입력하세요: \")\n",
        "print(\"입력한 국가의 인덱스 번호는 \", country.index(user), \"입니다\", sep=\"\")\n",
        "print()\n",
        "num = int(input(\"인덱스 번호를 입력 하세요(0~4): \"))\n",
        "print(\"인덱스 번호가 \", num, \"인 국가는\", country[num], \" 입니다\", sep=\"\")"
      ],
      "metadata": {
        "colab": {
          "base_uri": "https://localhost:8080/"
        },
        "id": "b6QtQLs0B2VL",
        "outputId": "6c07f45f-45d5-4f66-8054-d526f8f069a7"
      },
      "execution_count": null,
      "outputs": [
        {
          "output_type": "stream",
          "name": "stdout",
          "text": [
            "('Korea', 'Italy', 'Spain', 'Cuba', 'Brazil')\n",
            "\n",
            "다음의 국가 이름 중 하나를 입력하세요: Brazil\n",
            "입력한 국가의 인덱스 번호는 4입니다\n",
            "\n",
            "인덱스 번호를 입력 하세요(0~4): 2\n",
            "인덱스 번호가 2인 국가는Spain 입니다\n"
          ]
        }
      ]
    },
    {
      "cell_type": "code",
      "source": [
        "# 풀이\n",
        "\n",
        "country_tuple = (\"France\", \"England\", \"Spain\", \"Germany\", \"Australia\")\n",
        "print(country_tuple)\n",
        "print()\n",
        "country = input(\"Please enter one of the countries from above: \")\n",
        "print(country, \"has index number\", country_tuple.index(country))\n",
        "print()\n",
        "num = int(input(\"Enter a number between 0 and 4: \"))\n",
        "print(country_tuple[num])"
      ],
      "metadata": {
        "colab": {
          "base_uri": "https://localhost:8080/"
        },
        "id": "4_ey7u5LXq-q",
        "outputId": "3ca082e1-fa4f-43c8-efe8-8e8998b7dfad"
      },
      "execution_count": null,
      "outputs": [
        {
          "output_type": "stream",
          "name": "stdout",
          "text": [
            "('France', 'England', 'Spain', 'Germany', 'Australia')\n",
            "\n",
            "Please enter one of the countries from above: Germany\n",
            "Germany has index number 3\n",
            "\n",
            "Enter a number between 0 and 4: 2\n",
            "Spain\n"
          ]
        }
      ]
    },
    {
      "cell_type": "markdown",
      "source": [
        "## Challenge: 071\n",
        "두 개의 스포츠 이름을 담고 있는 리스트를 생성하라.\\\n",
        "사용자에게 좋아하는 스포츠가 무엇인지 묻고, 그것을 리스트 끝에 추가하라.\\\n",
        "리스트를 정렬하고 출력하라."
      ],
      "metadata": {
        "id": "1VrfGsiZ1PHI"
      }
    },
    {
      "cell_type": "code",
      "source": [
        "# 혼자 풀어보기\n",
        "\n",
        "sport = [\"축구\", \"수영\"]\n",
        "sport.append(input(\"좋아하는 스포츠가 무엇인가요?: \"))\n",
        "print(sorted(sport))"
      ],
      "metadata": {
        "colab": {
          "base_uri": "https://localhost:8080/"
        },
        "id": "NeoJ7O_ADCu9",
        "outputId": "fd6c7e7a-3e8c-4276-a0e6-4826e508bb51"
      },
      "execution_count": null,
      "outputs": [
        {
          "output_type": "stream",
          "name": "stdout",
          "text": [
            "좋아하는 스포츠가 무엇인가요?: 야구\n",
            "['수영', '야구', '축구']\n"
          ]
        }
      ]
    },
    {
      "cell_type": "code",
      "source": [
        "# 풀이\n",
        "\n",
        "sports_list = [\"tennis\", \"football\"]\n",
        "sports_list.append(input(\"What is your favorite sport? \"))\n",
        "sports_list.sort()\n",
        "print(sports_list)"
      ],
      "metadata": {
        "id": "mOP8YK-TcGjJ",
        "colab": {
          "base_uri": "https://localhost:8080/"
        },
        "outputId": "8995d93b-96c9-4ed8-c8d4-c014c8056d62"
      },
      "execution_count": null,
      "outputs": [
        {
          "output_type": "stream",
          "name": "stdout",
          "text": [
            "What is your favorite sport? baseball\n",
            "['baseball', 'football', 'tennis']\n"
          ]
        }
      ]
    },
    {
      "cell_type": "markdown",
      "source": [
        "## Challenge: 072\n",
        "교과목 여섯 개가 담긴 리스트를 생성하라.\\\n",
        "이들 중 사용자가 좋아하지 않는 과목을 묻고\\\n",
        "그 과목을 리스트에서 삭제한 후에 리스트를 다시 출력하라."
      ],
      "metadata": {
        "id": "ritm8lfD1dRl"
      }
    },
    {
      "cell_type": "code",
      "source": [
        "# 혼자 풀어보기\n",
        "\n",
        "sub = [\"국어\", \"수학\", \"영어\", \"과학\", \"사회\", \"한국사\"]\n",
        "print(sub)\n",
        "user = input(\"이중에서 좋아하지 않는 과목은?: \")\n",
        "num = sub.index(user)\n",
        "del sub[num]\n",
        "print(sub)"
      ],
      "metadata": {
        "colab": {
          "base_uri": "https://localhost:8080/"
        },
        "id": "3vwaX8YhEUxc",
        "outputId": "be19f1e4-ceab-4873-a4d5-af62904b22c2"
      },
      "execution_count": null,
      "outputs": [
        {
          "output_type": "stream",
          "name": "stdout",
          "text": [
            "['국어', '수학', '영어', '과학', '사회', '한국사']\n",
            "이중에서 좋아하지 않는 과목은?: 사회\n",
            "['국어', '수학', '영어', '과학', '한국사']\n"
          ]
        }
      ]
    },
    {
      "cell_type": "code",
      "source": [
        "# 풀이\n",
        "\n",
        "subject_list = [\"maths\", \"english\", \"computing\", \"history\", \"science\", \"spanish\"]\n",
        "print(subject_list)\n",
        "dislike = input(\"Which of these subjects do you dislike? \")\n",
        "getrid = subject_list.index(dislike)\n",
        "del subject_list[getrid]\n",
        "print(subject_list)"
      ],
      "metadata": {
        "colab": {
          "base_uri": "https://localhost:8080/"
        },
        "id": "05O9wzNYY0zm",
        "outputId": "318547b1-3d5c-4ac3-9637-418542057148"
      },
      "execution_count": null,
      "outputs": [
        {
          "output_type": "stream",
          "name": "stdout",
          "text": [
            "['maths', 'english', 'computing', 'history', 'science', 'spanish']\n",
            "Which of these subjects do you dislike? history\n",
            "['maths', 'english', 'computing', 'science', 'spanish']\n"
          ]
        }
      ]
    },
    {
      "cell_type": "markdown",
      "source": [
        "## Challenge: 073\n",
        "사용자에게 좋아하는 음식 네 개를 입력하도록 요청하고\\\n",
        "그것들은 인덱스 번호 1부터 시작하는 딕셔너리에 저장한다.\\\n",
        "인덱스 번호와 항목이 모두 표시되도록 딕셔너리를 출력한다.\\\n",
        "사용자에게 제거하고 싶은 항목을 묻고 그것을 제거한다.\\\n",
        "남아 있는 데이터를 정렬하고 딕셔너리를 다시 출력하라."
      ],
      "metadata": {
        "id": "QzOTFQFQ1rfK"
      }
    },
    {
      "cell_type": "code",
      "source": [
        "# 혼자 풀어보기\n",
        "food = {}\n",
        "for i in range(1, 5):\n",
        "    user = input(\"좋아하는 음식을 입력하세오: \")\n",
        "    food[i] = user\n",
        "print(food)\n",
        "\n",
        "user = int(input(\"이중에서 제거하고 싶은 항목의 번호를 입력하세요: \"))\n",
        "del food[user]\n",
        "print(sorted(food.values()))"
      ],
      "metadata": {
        "colab": {
          "base_uri": "https://localhost:8080/"
        },
        "id": "tPCSsPvEcMCd",
        "outputId": "40e68045-f8de-4533-f9f0-b8b8d6b8869f"
      },
      "execution_count": null,
      "outputs": [
        {
          "output_type": "stream",
          "name": "stdout",
          "text": [
            "좋아하는 음식을 입력하세오: pizza\n",
            "좋아하는 음식을 입력하세오: cake\n",
            "좋아하는 음식을 입력하세오: pasta\n",
            "좋아하는 음식을 입력하세오: salad\n",
            "{1: 'pizza', 2: 'cake', 3: 'pasta', 4: 'salad'}\n",
            "이중에서 제거하고 싶은 항목의 번호를 입력하세요: 4\n",
            "['cake', 'pasta', 'pizza']\n"
          ]
        }
      ]
    },
    {
      "cell_type": "code",
      "source": [
        "# 풀이\n",
        "\n",
        "food_dictionary = {}\n",
        "food1 = input(\"Enter a food you like: \")\n",
        "food_dictionary[1] = food1\n",
        "food2 = input(\"Enter another food you like: \")\n",
        "food_dictionary[2] = food2\n",
        "food3 = input(\"Enter a third food you like: \")\n",
        "food_dictionary[3] = food3\n",
        "food4 = input(\"Enter one last food you like: \")\n",
        "food_dictionary[4] = food4\n",
        "print(food_dictionary)\n",
        "dislike = int(input(\"Which of these do you want to get rid of: \"))\n",
        "del food_dictionary[dislike]\n",
        "print(sorted(food_dictionary.values()))"
      ],
      "metadata": {
        "colab": {
          "base_uri": "https://localhost:8080/"
        },
        "id": "3WMM3xC6gpnQ",
        "outputId": "2284f5ca-a16f-4f92-e226-e6a2b4b15941"
      },
      "execution_count": null,
      "outputs": [
        {
          "output_type": "stream",
          "name": "stdout",
          "text": [
            "Enter a food you like: pizza\n",
            "Enter another food you like: cake\n",
            "Enter a third food you like: pasta\n",
            "Enter one last food you like: salad\n",
            "{1: 'pizza', 2: 'cake', 3: 'pasta', 4: 'salad'}\n",
            "Which of these do you want to get rid of: 4\n",
            "['cake', 'pasta', 'pizza']\n"
          ]
        }
      ]
    },
    {
      "cell_type": "markdown",
      "source": [
        "## Challenge: 074\n",
        "열 개의 색상이 담긴 리스트를 생성한다. \\\n",
        "사용자에게 0에서 4 사이의 시작 번호와 5에서 9 사이의 끝 번호를 입력하라고 요청하고, \\\n",
        "입력된 시작 번호부터 끝 번호까지의 색상을 출력하라."
      ],
      "metadata": {
        "id": "_4VHXjbK2BFu"
      }
    },
    {
      "cell_type": "code",
      "source": [
        "# 혼자 풀어보기\n",
        "\n",
        "colors_list = [\"red\", \"orange\", \"yellow\", \"green\", \"blue\", \"navy\", \"purple\", \"pink\", \"gray\", \"ivory\"]\n",
        "user_start = int(input(\"(시작 번호)0~4 사이의 번호 입력: \"))\n",
        "user_end = int(input(\"(끝 번호)5~9 사이의 번호 입력: \"))\n",
        "print(colors_list[user_start:user_end])"
      ],
      "metadata": {
        "colab": {
          "base_uri": "https://localhost:8080/"
        },
        "id": "j339aVt_imSx",
        "outputId": "f5d9edbd-508e-4a22-a10c-b372e96409e2"
      },
      "execution_count": null,
      "outputs": [
        {
          "output_type": "stream",
          "name": "stdout",
          "text": [
            "(시작 번호)0~4 사이의 번호 입력: 3\n",
            "(끝 번호)5~9 사이의 번호 입력: 8\n",
            "['green', 'blue', 'navy', 'purple', 'pink']\n"
          ]
        }
      ]
    },
    {
      "cell_type": "code",
      "source": [
        "# 풀이\n",
        "\n",
        "colors = [\"red\", \"blue\", \"green\", \"black\", \"white\", \"pink\", \"orange\", \"purple\", \"yellow\", \"brown\"]\n",
        "start = int(input(\"Enter a starting number (0~4): \"))\n",
        "end = int(input(\"Enter a staring number (5~9): \"))\n",
        "print(colors[start:end])"
      ],
      "metadata": {
        "colab": {
          "base_uri": "https://localhost:8080/"
        },
        "id": "xZCgHwORjfn1",
        "outputId": "6e7fafcb-1fa3-4054-8368-3e9d8c7420fb"
      },
      "execution_count": null,
      "outputs": [
        {
          "output_type": "stream",
          "name": "stdout",
          "text": [
            "Enter a starting number (0~4): 3\n",
            "Enter a staring number (5~9): 8\n",
            "['black', 'white', 'pink', 'orange', 'purple']\n"
          ]
        }
      ]
    },
    {
      "cell_type": "markdown",
      "source": [
        "## Challenge: 075\n",
        "세 자리 숫자 네 개가 담긴 리스트를 생성한다.\\\n",
        "리스트의 각 항목을 한 줄에 하나씩 출력하여 사용자에게 표시한다.\\\n",
        "사용자에게 세 자리의 숫자를 입력하라고 요청한다.\\\n",
        "만약 입력한 숫자가 리스트에 있는 숫자들 중 하나라면 리스트에 그 숫자가 위치한 인덱스를 출력하라.\\\n",
        "그렇지 않다면 \"That is not in the list\"라는 메시지를 출력하라."
      ],
      "metadata": {
        "id": "B3-kL4cj2NhD"
      }
    },
    {
      "cell_type": "code",
      "source": [
        "# 혼자 풀어보기\n",
        "\n",
        "num_list = [342, 144, 876, 409]\n",
        "for i in num_list:\n",
        "    print(i)\n",
        "\n",
        "user = int(input(\"세 자리의 숫자 입력: \"))\n",
        "if user in num_list:\n",
        "    print(\"입력한 숫자가 리스트의 \", num_list.index(user),\"번째 인덱스에 있습니다.\", sep=\"\")\n",
        "else:\n",
        "    print(\"That is not in the list\")"
      ],
      "metadata": {
        "colab": {
          "base_uri": "https://localhost:8080/"
        },
        "id": "dF4R6EhBnGR5",
        "outputId": "b1fb6ffe-2590-4369-854a-366c0886e916"
      },
      "execution_count": null,
      "outputs": [
        {
          "output_type": "stream",
          "name": "stdout",
          "text": [
            "342\n",
            "144\n",
            "876\n",
            "409\n",
            "세 자리의 숫자 입력: 234\n",
            "That is not in the list\n"
          ]
        }
      ]
    },
    {
      "cell_type": "code",
      "source": [
        "# 풀이\n",
        "\n",
        "nums = [123, 345,234, 765]\n",
        "for i in nums:\n",
        "    print(i)\n",
        "selection = int(input(\"Enter a number from the list: \"))\n",
        "if selection in nums:\n",
        "    print(selection, \"is in position\", nums.index(selection))\n",
        "else:\n",
        "    print(\"That is not in the list\")"
      ],
      "metadata": {
        "colab": {
          "base_uri": "https://localhost:8080/"
        },
        "id": "1xqneARdmtPi",
        "outputId": "bc2072b9-6ccf-4d4c-f05d-d812bf99b177"
      },
      "execution_count": null,
      "outputs": [
        {
          "output_type": "stream",
          "name": "stdout",
          "text": [
            "123\n",
            "345\n",
            "234\n",
            "765\n",
            "Enter a number from the list: 252\n",
            "That is not in the list\n"
          ]
        }
      ]
    },
    {
      "cell_type": "markdown",
      "source": [
        "## Challenge: 076\n",
        "사용자에게 파티에 초대할 사람 3명의 이름을 입력하라고 요청하고 리스트에 저장한다.\\\n",
        "모든 이름이 입력되면 추가할 사람이 있는지 묻는다.\\\n",
        "만약 그렇다면 \"n\"이라고 답할 때까지 이름을 추가하게 한다.\\\n",
        "\"n\"이라고 입력하면 파티에 초대한 사람이 몇 명인지 표시하라."
      ],
      "metadata": {
        "id": "JOkDrnU42gAd"
      }
    },
    {
      "cell_type": "code",
      "source": [
        "# 혼자 풀어보기\n",
        "\n",
        "user_list = []\n",
        "for i in range(0, 3):\n",
        "    user = input(\"파티에 초대할 사람의 이름을 입력하세요: \")\n",
        "    user_list.append(user)\n",
        "add = input(\"더 추가할 사람이 있나요? (y/n): \")\n",
        "\n",
        "while add == \"y\":\n",
        "    user = input(\"파티에 초대할 사람의 이름을 입력하세요: \")\n",
        "    user_list.append(user)\n",
        "    add = input(\"더 추가할 사람이 있나요? (y/n): \")\n",
        "\n",
        "print(\"파티에 초대된 인원은 \", len(user_list), \"명 입니다.\", sep=\"\")"
      ],
      "metadata": {
        "colab": {
          "base_uri": "https://localhost:8080/"
        },
        "id": "E-SSUyqxnjDi",
        "outputId": "bec31b8c-547e-4da9-8688-3a5a8375864b"
      },
      "execution_count": null,
      "outputs": [
        {
          "output_type": "stream",
          "name": "stdout",
          "text": [
            "파티에 초대할 사람의 이름을 입력하세요: judy\n",
            "파티에 초대할 사람의 이름을 입력하세요: lily\n",
            "파티에 초대할 사람의 이름을 입력하세요: tom\n",
            "더 추가할 사람이 있나요? (y/n): y\n",
            "파티에 초대할 사람의 이름을 입력하세요: jason\n",
            "더 추가할 사람이 있나요? (y/n): y\n",
            "파티에 초대할 사람의 이름을 입력하세요: mike\n",
            "더 추가할 사람이 있나요? (y/n): n\n",
            "파티에 초대된 인원은 5명 입니다.\n"
          ]
        }
      ]
    },
    {
      "cell_type": "code",
      "source": [
        "# 풀이\n",
        "\n",
        "name1 = input(\"Enter a name of somebody you want to invite to your party: \")\n",
        "name2 = input(\"Enter another name: \")\n",
        "name3 = input(\"Enter a third name: \")\n",
        "party = [name1, name2, name3]\n",
        "another = input(\"Do you want to invite another (y/n): \")\n",
        "while another == \"y\":\n",
        "    newname = party.append(input(\"Enter another name: \"))\n",
        "    another = input(\"Do you want to invite another (y/n): \")\n",
        "print(\"You have\", len(party), \"people coming to your party\")"
      ],
      "metadata": {
        "colab": {
          "base_uri": "https://localhost:8080/"
        },
        "id": "f_YyaV-DpcVb",
        "outputId": "20f0d9c7-0e6e-497b-93ec-b9af1959e47d"
      },
      "execution_count": null,
      "outputs": [
        {
          "output_type": "stream",
          "name": "stdout",
          "text": [
            "Enter a name of somebody you want to invite to your party: judy\n",
            "Enter another name: lily\n",
            "Enter a third name: tom\n",
            "Do you want to invite another (y/n): y\n",
            "Enter another name: jason\n",
            "Do you want to invite another (y/n): y\n",
            "Enter another name: mike\n",
            "Do you want to invite another (y/n): n\n",
            "You have 5 people coming to your party\n"
          ]
        }
      ]
    },
    {
      "cell_type": "markdown",
      "source": [
        "## Challenge: 077\n",
        "076번 프로그램을 수정하여 초대할 사람들의 이름이 리스트에 모두 추가되면 전체 명단을 출력하고\\\n",
        "리스트에 있는 이름들 중 하나를 입력하라고 요청한다.\\\n",
        "입력된 이름의 위치(인덱스)를 출력하고 그 사람을 정말로 파티에 초대할 것인지를 묻는다.\\\n",
        "만약 \"n\"이라고 답하면 그 항목을 리스트에서 삭제하고 리스트를 다시 출력한다."
      ],
      "metadata": {
        "id": "7QDhRGH82vHh"
      }
    },
    {
      "cell_type": "code",
      "source": [
        "# 혼자 풀어보기\n",
        "\n",
        "user_list = []\n",
        "for i in range(0, 3):\n",
        "    user1 = input(\"파티에 초대할 사람의 이름을 입력하세요: \")\n",
        "    user_list.append(user1)\n",
        "add = input(\"더 추가할 사람이 있나요? (y/n): \")\n",
        "\n",
        "while add == \"y\":\n",
        "    user1 = input(\"파티에 초대할 사람의 이름을 입력하세요: \")\n",
        "    user_list.append(user1)\n",
        "    add = input(\"더 추가할 사람이 있나요? (y/n): \")\n",
        "print()\n",
        "\n",
        "print(\"파티에 초대된 인원은 \", len(user_list), \"명 입니다.\", sep=\"\")\n",
        "print(\"파티에 초대된 인원의 명단은 \", user_list, \"입니다.\", sep=\"\")\n",
        "print()\n",
        "\n",
        "user2 = input(\"파티 초대 명단에 있는 이름 중 하나를 입력하세요: \")\n",
        "print(\"입력한 사람의 인덱스 번호는\", user_list.index(user2), \"입니다.\")\n",
        "re_add = input(\"이 사람을 정말로 초대하시겠습니까? (y/n): \")\n",
        "print()\n",
        "\n",
        "if re_add == \"n\":\n",
        "    user_list.remove(user2)\n",
        "    print(\"최종 초대 명단은 \", user_list, \"입니다.\", sep=\"\")\n",
        "else:\n",
        "    None"
      ],
      "metadata": {
        "colab": {
          "base_uri": "https://localhost:8080/"
        },
        "id": "FS4ZhKAtvdZz",
        "outputId": "8091efab-675a-4949-c991-587ee2df5192"
      },
      "execution_count": 12,
      "outputs": [
        {
          "output_type": "stream",
          "name": "stdout",
          "text": [
            "파티에 초대할 사람의 이름을 입력하세요: 김영희\n",
            "파티에 초대할 사람의 이름을 입력하세요: 김철수\n",
            "파티에 초대할 사람의 이름을 입력하세요: 이나리\n",
            "더 추가할 사람이 있나요? (y/n): y\n",
            "파티에 초대할 사람의 이름을 입력하세요: 홍길동\n",
            "더 추가할 사람이 있나요? (y/n): n\n",
            "\n",
            "파티에 초대된 인원은 4명 입니다.\n",
            "파티에 초대된 인원의 명단은 ['김영희', '김철수', '이나리', '홍길동']입니다.\n",
            "\n",
            "파티 초대 명단에 있는 이름 중 하나를 입력하세요: 김철수\n",
            "입력한 사람의 인덱스 번호는 1 입니다.\n",
            "이 사람을 정말로 초대하시겠습니까? (y/n): n\n",
            "\n",
            "최종 초대 명단은 ['김영희', '이나리', '홍길동']입니다.\n"
          ]
        }
      ]
    },
    {
      "cell_type": "code",
      "source": [
        "# 풀이\n",
        "\n",
        "name1 = input(\"Enter a name of somebody you want to invite to your party: \")\n",
        "name2 = input(\"Enter another name: \")\n",
        "name3 = input(\"Enter a third name: \")\n",
        "party = [name1, name2, name3]\n",
        "another = input(\"Do you want to invite another (y/n): \")\n",
        "while another == \"y\":\n",
        "    newname = party.append(input(\"Enter another name: \"))\n",
        "    another = input(\"Do you want to invite another (y/n): \")\n",
        "print(\"You have\", len(party), \"people coming to your party\")\n",
        "print(party)\n",
        "selection = input(\"Enter one of the names: \")\n",
        "print(selection, \"is in position\", party.index(selection), \"on the list\")\n",
        "stillcome = input(\"Do you still want them to come (y/n): \")\n",
        "if stillcome == \"n\":\n",
        "    party.remove(selection)\n",
        "print(party)"
      ],
      "metadata": {
        "colab": {
          "base_uri": "https://localhost:8080/"
        },
        "id": "OV9ok48HxSMJ",
        "outputId": "b387f99b-0d4e-482b-c226-c9f1252fb1fc"
      },
      "execution_count": 13,
      "outputs": [
        {
          "output_type": "stream",
          "name": "stdout",
          "text": [
            "Enter a name of somebody you want to invite to your party: 김영희\n",
            "Enter another name: 김철수\n",
            "Enter a third name: 이나리\n",
            "Do you want to invite another (y/n): y\n",
            "Enter another name: 홍길동\n",
            "Do you want to invite another (y/n): n\n",
            "You have 4 people coming to your party\n",
            "['김영희', '김철수', '이나리', '홍길동']\n",
            "Enter one of the names: 김철수\n",
            "김철수 is in position 1 on the list\n",
            "Do you still want them to come (y/n): n\n",
            "['김영희', '이나리', '홍길동']\n"
          ]
        }
      ]
    },
    {
      "cell_type": "markdown",
      "source": [
        "## Challenge: 078\n",
        "네 개의 TV 프로그램 타이틀을 담은 리스트를 생성하고 각 항목을 한 줄씩 출력한다.\\\n",
        "사용자에게 다른 프로그램을 입력하도록 요청하고 리스트에서의 원하는 위치를 묻는다.\\\n",
        "입력한 프로그램 타이틀을 원하는 위치에 삽입하고 다섯 개의 TV프로그램 모두를 다시 출력한다."
      ],
      "metadata": {
        "id": "53_pS7fq2_Zo"
      }
    },
    {
      "cell_type": "code",
      "source": [
        "# 혼자 풀어보기\n",
        "\n",
        "tv_list = [\"비밀의숲\", \"셜록홈즈\", \"응답하라1998\", \"미스터선샤인\"]\n",
        "for i in tv_list:\n",
        "    print(i)\n",
        "user_add = input(\"추가하고 싶은 프로그램을 입력하세요: \")\n",
        "user_index = int(input(\"추가하고 싶은 위치는 어디인가요?(0~3): \"))\n",
        "tv_list.insert(user_index, user_add)\n",
        "\n",
        "print(\"최종 리스트 =\", tv_list)"
      ],
      "metadata": {
        "colab": {
          "base_uri": "https://localhost:8080/"
        },
        "id": "_m8FMQw58nAi",
        "outputId": "5ecdd630-ba78-471e-9bc0-64000c11e8de"
      },
      "execution_count": 3,
      "outputs": [
        {
          "output_type": "stream",
          "name": "stdout",
          "text": [
            "비밀의숲\n",
            "셜록홈즈\n",
            "응답하라1998\n",
            "미스터선샤인\n",
            "추가하고 싶은 프로그램을 입력하세요: 도깨비\n",
            "추가하고 싶은 위치는 어디인가요?(0~3): 2\n",
            "최종 리스트 = ['비밀의숲', '셜록홈즈', '도깨비', '응답하라1998', '미스터선샤인']\n"
          ]
        }
      ]
    },
    {
      "cell_type": "code",
      "source": [
        "# 해설\n",
        "\n",
        "tv = [\"Task Master\", \"Top Gear\", \"The Big Bang Theory\", \"How I Met Your Mother\"]\n",
        "for i in tv:\n",
        "    print(i)\n",
        "print()\n",
        "newtv = input(\"Enter another TV show: \")\n",
        "position = int(input(\"Enter a number between 0 and 3: \"))\n",
        "tv.insert(position, newtv)\n",
        "for i in tv:\n",
        "    print(i)"
      ],
      "metadata": {
        "colab": {
          "base_uri": "https://localhost:8080/"
        },
        "id": "pUYlIwoayCbZ",
        "outputId": "a570d401-3a51-4c4f-ba4c-873a72317013"
      },
      "execution_count": 1,
      "outputs": [
        {
          "output_type": "stream",
          "name": "stdout",
          "text": [
            "Task Master\n",
            "Top Gear\n",
            "The Big Bang Theory\n",
            "How I Met Your Mother\n",
            "\n",
            "Enter another TV show: The Movie\n",
            "Enter a number between 0 and 3: 2\n",
            "Task Master\n",
            "Top Gear\n",
            "The Movie\n",
            "The Big Bang Theory\n",
            "How I Met Your Mother\n"
          ]
        }
      ]
    },
    {
      "cell_type": "markdown",
      "source": [
        "## Challenge: 079\n",
        "'nums'라는 이름의 빈 리스트를 생성한다.\\\n",
        "사용자에게 숫자를 입력하라고 요청한다.\\\n",
        "숫자가 입력되면 그것을 nums 리스트 끝에 추가하고 리스트를 출력한다.\\\n",
        "세 개의 숫자를 입력받으면 마지막 숫자를 저장할 것인지 묻는다.\\\n",
        "만약 \"n\"이라고 답하면 리스트의 마지막 항목을 삭제하고 리스트를 출력하라."
      ],
      "metadata": {
        "id": "-BeAzIPu3LbP"
      }
    },
    {
      "cell_type": "code",
      "source": [
        "# 혼자 풀어보기\n",
        "\n",
        "nums = []\n",
        "for i in range(0, 3):\n",
        "    num_user = int(input(\"숫자를 입력하시오.: \"))\n",
        "    nums.append(num_user)\n",
        "    print(nums)\n",
        "save = input(\"마지막으로 입력한 숫자를 리스트에 저장하시겠습니까?(y/n): \")\n",
        "if save == \"n\":\n",
        "    nums.remove(num_user)\n",
        "print(nums)\n"
      ],
      "metadata": {
        "colab": {
          "base_uri": "https://localhost:8080/"
        },
        "id": "XC8kUffoXme4",
        "outputId": "0ef50791-112a-4390-ba6f-f08808d9ade8"
      },
      "execution_count": 11,
      "outputs": [
        {
          "output_type": "stream",
          "name": "stdout",
          "text": [
            "숫자를 입력하시오.: 739\n",
            "[739]\n",
            "숫자를 입력하시오.: 225\n",
            "[739, 225]\n",
            "숫자를 입력하시오.: 903\n",
            "[739, 225, 903]\n",
            "마지막으로 입력한 숫자를 리스트에 저장하시겠습니까?(y/n): n\n",
            "[739, 225]\n"
          ]
        }
      ]
    },
    {
      "cell_type": "code",
      "source": [
        "# 풀이\n",
        "\n",
        "nums = []\n",
        "count = 0\n",
        "while count < 3:\n",
        "    num = int(input(\"Enter a number: \"))\n",
        "    nums.append(num)\n",
        "    print(nums)\n",
        "    count = count + 1\n",
        "lastnum = input(\"Do you want the last number saved (y/n): \")\n",
        "if lastnum == \"n\":\n",
        "    nums.remove(num)\n",
        "print(nums)"
      ],
      "metadata": {
        "colab": {
          "base_uri": "https://localhost:8080/"
        },
        "id": "_wp3O-cqZK6m",
        "outputId": "5b3452a6-8205-4a6f-945a-43462843aa5f"
      },
      "execution_count": 9,
      "outputs": [
        {
          "output_type": "stream",
          "name": "stdout",
          "text": [
            "Enter a number: 739\n",
            "[739]\n",
            "Enter a number: 225\n",
            "[739, 225]\n",
            "Enter a number: 903\n",
            "[739, 225, 903]\n",
            "Do you want the last number saved (y/n): n\n",
            "[739, 225]\n"
          ]
        }
      ]
    }
  ]
}