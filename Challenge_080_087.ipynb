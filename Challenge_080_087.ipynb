{
  "nbformat": 4,
  "nbformat_minor": 0,
  "metadata": {
    "colab": {
      "provenance": [],
      "authorship_tag": "ABX9TyPuV9rdPH04oPjt2HkmANAp",
      "include_colab_link": true
    },
    "kernelspec": {
      "name": "python3",
      "display_name": "Python 3"
    },
    "language_info": {
      "name": "python"
    }
  },
  "cells": [
    {
      "cell_type": "markdown",
      "metadata": {
        "id": "view-in-github",
        "colab_type": "text"
      },
      "source": [
        "<a href=\"https://colab.research.google.com/github/E-Ju-E/Study-Python/blob/main/Challenge_080_087.ipynb\" target=\"_parent\"><img src=\"https://colab.research.google.com/assets/colab-badge.svg\" alt=\"Open In Colab\"/></a>"
      ]
    },
    {
      "cell_type": "markdown",
      "source": [
        "### **Python: 150 Challenges**"
      ],
      "metadata": {
        "id": "N86dy9elZRst"
      }
    },
    {
      "cell_type": "markdown",
      "source": [
        "## 예제 코드"
      ],
      "metadata": {
        "id": "AVgLXrJeZoME"
      }
    },
    {
      "cell_type": "code",
      "source": [
        "# 문자열(string)은 1이 아닌 0부터 시작하며, 공백도 문자로 취급함\n",
        "\n",
        "# 대문자 여부 확인: .isupper()\n",
        "if msg.isupper():\n",
        "    print(\"Uppercase\")\n",
        "else:\n",
        "    print(\"This is not in uppercase\")\n",
        "\n",
        "# 소문자 여부 확인: .islower()\n",
        "if msg.islower():\n",
        "    print(\"Lowercase\")\n",
        "else:\n",
        "    print(\"This is not in lowercase\")\n",
        "\n",
        "# 각 문자 사이에 * 표시 되도록 출력\n",
        "msg = \"Hellow\"\n",
        "for letter in msg:\n",
        "    print(letter, end=\"*\")"
      ],
      "metadata": {
        "id": "ZrG3NDsI0FGy"
      },
      "execution_count": null,
      "outputs": []
    },
    {
      "cell_type": "markdown",
      "source": [
        "## Challenge: 080\n",
        "사용자에게 이름을 입력하라고 요청하고 입력된 이름의 길이를 출력한다.\\\n",
        "그런 다음, 성을 입력하라고 요청하고 성의 길이를 출력한다.\\\n",
        "성과 이름 사이에 공백 하나를 두어 결합하고 그 결과를 출력한다.\\\n",
        "마지막으로, 공백을 포함한 전체 이름의 길이를 출력하라."
      ],
      "metadata": {
        "id": "NZDKNDVp06cB"
      }
    },
    {
      "cell_type": "markdown",
      "source": [
        "## Challenge: 081\n",
        "가장 좋아하는 과목 이름을 입력받고 각 문자 뒤에 '-'를 붙여서 출력하라."
      ],
      "metadata": {
        "id": "3wNJhFDE0ptH"
      }
    },
    {
      "cell_type": "markdown",
      "source": [
        "## Challenge: 082\n",
        "시 한 구절을 사용자에게 표시하고 시작 인덱스ㅘ 마지막 인덱스를 입력하도록 요청한다.\\\n",
        "입력한 두 값 사이의 문자를 출력하라."
      ],
      "metadata": {
        "id": "AxTXvx2h0q2i"
      }
    },
    {
      "cell_type": "markdown",
      "source": [
        "## Challenge: 083\n",
        "사용자에게 대문자로 메시지를 입력하라고 요청한다.\\\n",
        "만약 메시지에 소문자가 있다면 모두 대문자로 입력할 때까지 계속해서 다시 입력하라고 요청한다."
      ],
      "metadata": {
        "id": "BY5eNfeY0r8G"
      }
    },
    {
      "cell_type": "markdown",
      "source": [
        "## Challenge: 084\n",
        "사용자에게 영어 단어를 입력하라고 요청한다.\\\n",
        "처음 두 개의 문자만 대문자로 출력하라."
      ],
      "metadata": {
        "id": "fHOx94YI0tFN"
      }
    },
    {
      "cell_type": "markdown",
      "source": [
        "## Challenge: 085\n",
        "사용자의 이름을 입력하라고 요청한 뒤,\\\n",
        "그 이름에 모음이 몇 개인지 출력하라."
      ],
      "metadata": {
        "id": "ExAX2Ovw0uM0"
      }
    },
    {
      "cell_type": "markdown",
      "source": [
        "## Challenge: 086\n",
        "사용자에게 새로운 비밀번호를 입력하라고 요청하고, 한 번 더 입력하라고 요청한다.\\\n",
        "입력한 두 개의 비밀번호가 일치하면 \"Thank you\"라고 출력한다.\\\n",
        "만약 입력한 문자는 서로 일치하는데 대소문자가 틀리다면 \"They must be in the same case\"라고 출력한다.\\\n",
        "문자가 일치하지 않는다면 \"Incorrect\" 메시지를 출력하라."
      ],
      "metadata": {
        "id": "5lT8goY20vH1"
      }
    },
    {
      "cell_type": "markdown",
      "source": [
        "## Challenge: 087\n",
        "단어를 입력하라고 요청한 뒤, 그 단어의 문자를 한 줄에 하나씩 거꾸로 출력하라. 예를 들어, 'Hello'라고 입력했다면 한줄씩 o, l, l, e, H 로 출력되게 하라."
      ],
      "metadata": {
        "id": "_zqCY0AR0wPx"
      }
    }
  ]
}