{
  "nbformat": 4,
  "nbformat_minor": 0,
  "metadata": {
    "colab": {
      "provenance": [],
      "authorship_tag": "ABX9TyM+tIzPyXyyfu84FFLcm0oY",
      "include_colab_link": true
    },
    "kernelspec": {
      "name": "python3",
      "display_name": "Python 3"
    },
    "language_info": {
      "name": "python"
    }
  },
  "cells": [
    {
      "cell_type": "markdown",
      "metadata": {
        "id": "view-in-github",
        "colab_type": "text"
      },
      "source": [
        "<a href=\"https://colab.research.google.com/github/E-Ju-E/Study-Python/blob/main/Challenge_080_087.ipynb\" target=\"_parent\"><img src=\"https://colab.research.google.com/assets/colab-badge.svg\" alt=\"Open In Colab\"/></a>"
      ]
    },
    {
      "cell_type": "markdown",
      "source": [
        "### **Python: 150 Challenges**"
      ],
      "metadata": {
        "id": "N86dy9elZRst"
      }
    },
    {
      "cell_type": "markdown",
      "source": [
        "## 예제 코드"
      ],
      "metadata": {
        "id": "AVgLXrJeZoME"
      }
    },
    {
      "cell_type": "code",
      "source": [
        "# 문자열(string)은 1이 아닌 0부터 시작하며, 공백도 문자로 취급함\n",
        "\n",
        "# 대문자 여부 확인: .isupper()\n",
        "if msg.isupper():\n",
        "    print(\"Uppercase\")\n",
        "else:\n",
        "    print(\"This is not in uppercase\")\n",
        "\n",
        "# 소문자 여부 확인: .islower()\n",
        "if msg.islower():\n",
        "    print(\"Lowercase\")\n",
        "else:\n",
        "    print(\"This is not in lowercase\")\n",
        "\n",
        "# 각 문자 사이에 * 표시 되도록 출력\n",
        "msg = \"Hellow\"\n",
        "for letter in msg:\n",
        "    print(letter, end=\"*\")"
      ],
      "metadata": {
        "id": "ZrG3NDsI0FGy"
      },
      "execution_count": null,
      "outputs": []
    },
    {
      "cell_type": "markdown",
      "source": [
        "## Challenge: 080\n",
        "사용자에게 이름을 입력하라고 요청하고 입력된 이름의 길이를 출력한다.\\\n",
        "그런 다음, 성을 입력하라고 요청하고 성의 길이를 출력한다.\\\n",
        "성과 이름 사이에 공백 하나를 두어 결합하고 그 결과를 출력한다.\\\n",
        "마지막으로, 공백을 포함한 전체 이름의 길이를 출력하라."
      ],
      "metadata": {
        "id": "NZDKNDVp06cB"
      }
    },
    {
      "cell_type": "code",
      "source": [
        "# 혼자 풀어보기\n",
        "\n",
        "first_name = input(\"이름 입력: \")\n",
        "print(\"이름의 길이는\", len(first_name), \"입니다.\")\n",
        "last_name = input(\"성 입력: \")\n",
        "full_name = last_name + \" \" + first_name\n",
        "print(\"전체 이름은\", full_name, \"입니다.\")\n",
        "print(\"공백을 포함한 전체 이름의 길이는\", len(full_name), \"입니다.\")"
      ],
      "metadata": {
        "colab": {
          "base_uri": "https://localhost:8080/"
        },
        "id": "NF4Uddrnkejq",
        "outputId": "fce11be0-0c8b-4c91-d701-8da50beea293"
      },
      "execution_count": null,
      "outputs": [
        {
          "output_type": "stream",
          "name": "stdout",
          "text": [
            "이름 입력: 혁거세\n",
            "이름의 길이는 3 입니다.\n",
            "성 입력: 박\n",
            "전체 이름은 박 혁거세 입니다.\n",
            "공백을 포함한 전체 이름의 길이는 5 입니다.\n"
          ]
        }
      ]
    },
    {
      "cell_type": "code",
      "source": [
        "# 풀이\n",
        "\n",
        "fname = input(\"Enter your first name: \")\n",
        "print(\"That has\", len(fname), \"characters in it\")\n",
        "sname = input(\"Enter your surname: \")\n",
        "print(\"That has\", len(sname), \"characters in it\")\n",
        "name = fname + \" \" + sname\n",
        "print(\"Your full name is\", name)\n",
        "print(\"That has\", len(name), \"characters in it\")"
      ],
      "metadata": {
        "colab": {
          "base_uri": "https://localhost:8080/"
        },
        "id": "CTIvW5IKB36p",
        "outputId": "641d1b85-598d-4d49-9fd1-f63b8790f4f3"
      },
      "execution_count": null,
      "outputs": [
        {
          "output_type": "stream",
          "name": "stdout",
          "text": [
            "Enter your first name: 혁거세\n",
            "That has 3 characters in it\n",
            "Enter your surname: 박\n",
            "That has 1 characters in it\n",
            "Your full name is 혁거세 박\n",
            "That has 5 characters in it\n"
          ]
        }
      ]
    },
    {
      "cell_type": "markdown",
      "source": [
        "## Challenge: 081\n",
        "가장 좋아하는 과목 이름을 입력받고 각 문자 뒤에 '-'를 붙여서 출력하라."
      ],
      "metadata": {
        "id": "3wNJhFDE0ptH"
      }
    },
    {
      "cell_type": "code",
      "source": [
        "# 혼자 풀어보기\n",
        "\n",
        "sub = input(\"가장 좋아하는 과목 이름: \")\n",
        "for letter in sub:\n",
        "    print(letter, end=\"-\")"
      ],
      "metadata": {
        "colab": {
          "base_uri": "https://localhost:8080/"
        },
        "id": "MwvL74cgrE4F",
        "outputId": "6479e1f5-5d32-4585-ce00-c09dee271030"
      },
      "execution_count": null,
      "outputs": [
        {
          "output_type": "stream",
          "name": "stdout",
          "text": [
            "가장 좋아하는 과목 이름: 파이썬프로그래밍\n",
            "파-이-썬-프-로-그-래-밍-"
          ]
        }
      ]
    },
    {
      "cell_type": "code",
      "source": [
        "# 풀이\n",
        "\n",
        "subject = input(\"Enter your favorite school subject: \")\n",
        "for letter in subject:\n",
        "    print(letter, end = \"-\")"
      ],
      "metadata": {
        "colab": {
          "base_uri": "https://localhost:8080/"
        },
        "id": "VRKkUqjrrm1A",
        "outputId": "d1898cbc-0c75-47ba-c28a-8008954e867f"
      },
      "execution_count": null,
      "outputs": [
        {
          "output_type": "stream",
          "name": "stdout",
          "text": [
            "Enter your favorite school subject: PythonProgramming\n",
            "P-y-t-h-o-n-P-r-o-g-r-a-m-m-i-n-g-"
          ]
        }
      ]
    },
    {
      "cell_type": "markdown",
      "source": [
        "## Challenge: 082\n",
        "시 한 구절을 사용자에게 표시하고 시작 인덱스와 마지막 인덱스를 입력하도록 요청한다.\\\n",
        "입력한 두 값 사이의 문자를 출력하라."
      ],
      "metadata": {
        "id": "AxTXvx2h0q2i"
      }
    },
    {
      "cell_type": "code",
      "source": [
        "# 혼자 풀어보기\n",
        "\n",
        "poem = \"창 밖에 비가 속살거려 육첩방은 남의 나라\\n\"\n",
        "print(poem)\n",
        "start_index = int(input(\"시작 인덱스를 입력(0부터 시작): \"))\n",
        "end_index = int(input(\"마지막 인덱스를 입력하세요: \"))\n",
        "print(\"입력한 인덱스 범위 출력값\\n\", poem[start_index:end_index])"
      ],
      "metadata": {
        "colab": {
          "base_uri": "https://localhost:8080/"
        },
        "id": "ypAIDjg-sBWp",
        "outputId": "e85bbea9-9163-43e7-f6ab-76ff3170e477"
      },
      "execution_count": null,
      "outputs": [
        {
          "output_type": "stream",
          "name": "stdout",
          "text": [
            "창 밖에 비가 속살거려 육첩방은 남의 나라\n",
            "\n",
            "시작 인덱스를 입력(0부터 시작): 8\n",
            "마지막 인덱스를 입력하세요: 17\n",
            "입력한 인덱스 범위 출력값\n",
            " 속살거려 육첩방은\n"
          ]
        }
      ]
    },
    {
      "cell_type": "code",
      "source": [
        "# 풀이\n",
        "\n",
        "poem = \"Oh, I wish I'd looked after me teeth,\"\n",
        "print(poem)\n",
        "start = int(input(\"Enter a starting number: \"))\n",
        "end = int(input(\"Enter an end number: \"))\n",
        "print(poem[start:end])"
      ],
      "metadata": {
        "colab": {
          "base_uri": "https://localhost:8080/"
        },
        "id": "aES7i_62t-S2",
        "outputId": "86f5fc77-ca42-4ea4-cf07-b1e99ea9ebee"
      },
      "execution_count": null,
      "outputs": [
        {
          "output_type": "stream",
          "name": "stdout",
          "text": [
            "Oh, I wish I'd looked after me teeth,\n",
            "Enter a starting number: 7\n",
            "Enter an end number: 15\n",
            "ish I'd \n"
          ]
        }
      ]
    },
    {
      "cell_type": "markdown",
      "source": [
        "## Challenge: 083\n",
        "사용자에게 대문자로 메시지를 입력하라고 요청한다.\\\n",
        "만약 메시지에 소문자가 있다면 모두 대문자로 입력할 때까지 계속해서 다시 입력하라고 요청한다."
      ],
      "metadata": {
        "id": "BY5eNfeY0r8G"
      }
    },
    {
      "cell_type": "code",
      "source": [
        "# 혼자 풀어보기\n",
        "\n",
        "msg = input(\"대문자로 메시지를 입력하세요.: \")\n",
        "ox = True\n",
        "\n",
        "while ox == True:\n",
        "    if msg.isupper():\n",
        "        print(\"OK!\")\n",
        "        ox = False\n",
        "    else:\n",
        "        msg = input(\"전체를 대문자로 다시 입력하요.: \")"
      ],
      "metadata": {
        "colab": {
          "base_uri": "https://localhost:8080/"
        },
        "id": "kT-M3lgaudp-",
        "outputId": "f363f45a-e165-46bd-a137-ec874c3fcdc1"
      },
      "execution_count": null,
      "outputs": [
        {
          "output_type": "stream",
          "name": "stdout",
          "text": [
            "대문자로 메시지를 입력하세요.: kitten\n",
            "전체를 대문자로 다시 입력하요.: Kitten\n",
            "전체를 대문자로 다시 입력하요.: KITTEN\n",
            "OK!\n"
          ]
        }
      ]
    },
    {
      "cell_type": "code",
      "source": [
        "# 풀이\n",
        "\n",
        "msg = input(\"Enter a message in uppercase: \")\n",
        "tryagain = True\n",
        "while tryagain == True:\n",
        "    if msg.isupper():\n",
        "        print(\"Thank you\")\n",
        "        tryagain = False\n",
        "    else:\n",
        "        print(\"Try again\")\n",
        "        msg = input(\"Enter a message in uppercase: \")"
      ],
      "metadata": {
        "colab": {
          "base_uri": "https://localhost:8080/"
        },
        "id": "3UsVh0Jm1D87",
        "outputId": "a1f45b15-c8fb-4095-9494-ffabb483f0eb"
      },
      "execution_count": null,
      "outputs": [
        {
          "output_type": "stream",
          "name": "stdout",
          "text": [
            "Enter a message in uppercase: kitten\n",
            "Try again\n",
            "Enter a message in uppercase: Kitten\n",
            "Try again\n",
            "Enter a message in uppercase: KITTEN\n",
            "Thank you\n"
          ]
        }
      ]
    },
    {
      "cell_type": "markdown",
      "source": [
        "## Challenge: 084\n",
        "사용자에게 영어 단어를 입력하라고 요청한다.\\\n",
        "처음 두 개의 문자만 대문자로 출력하라."
      ],
      "metadata": {
        "id": "fHOx94YI0tFN"
      }
    },
    {
      "cell_type": "code",
      "source": [
        "# 혼자 풀어보기\n",
        "\n",
        "word = input(\"영어 단어를 입력하세요: \")\n",
        "two = word[0:2]\n",
        "print(\"앞 2글자를 대문자로 출력:\", two.upper())"
      ],
      "metadata": {
        "colab": {
          "base_uri": "https://localhost:8080/"
        },
        "id": "j1ZSVu_JvIP7",
        "outputId": "09ff0fba-5c28-4e16-a015-d3fd5efb4723"
      },
      "execution_count": null,
      "outputs": [
        {
          "output_type": "stream",
          "name": "stdout",
          "text": [
            "영어 단어를 입력하세요: cupid\n",
            "앞 2글자를 대문자로 출력: CU\n"
          ]
        }
      ]
    },
    {
      "cell_type": "code",
      "source": [
        "# 풀이\n",
        "\n",
        "word = input(\"English word: \")\n",
        "start = word[0:2]\n",
        "print(start.upper())"
      ],
      "metadata": {
        "colab": {
          "base_uri": "https://localhost:8080/"
        },
        "id": "g4UqB1IRv1rl",
        "outputId": "b1b7e6fd-58e3-4dc6-9bbc-274448e9e1a9"
      },
      "execution_count": null,
      "outputs": [
        {
          "output_type": "stream",
          "name": "stdout",
          "text": [
            "English word: cupid\n",
            "CU\n"
          ]
        }
      ]
    },
    {
      "cell_type": "markdown",
      "source": [
        "## Challenge: 085\n",
        "사용자의 이름을 입력하라고 요청한 뒤,\\\n",
        "그 이름에 모음이 몇 개인지 출력하라."
      ],
      "metadata": {
        "id": "ExAX2Ovw0uM0"
      }
    },
    {
      "cell_type": "code",
      "source": [
        "# 혼자 풀어보기\n",
        "\n",
        "user = input(\"이름을 영어로 입력하세요: \")\n",
        "name = user.lower()\n",
        "name_count = len(name)\n",
        "k = 0\n",
        "\n",
        "for i in range(0, name_count):\n",
        "    j = name[i:i+1]\n",
        "    if j == \"a\" or j == \"e\" or j == \"i\" or j == \"o\" or j == \"u\":\n",
        "        k = k + 1\n",
        "    else:\n",
        "        None\n",
        "\n",
        "print(\"입력하신 이름에 모음은 총\", k, \"개 들어있습니다.\")"
      ],
      "metadata": {
        "colab": {
          "base_uri": "https://localhost:8080/"
        },
        "id": "sUgJ2n_DwNZw",
        "outputId": "01ba9c83-0f00-4e73-e690-57c2cd5d8de1"
      },
      "execution_count": null,
      "outputs": [
        {
          "output_type": "stream",
          "name": "stdout",
          "text": [
            "이름을 영어로 입력하세요: Angelina Jolie\n",
            "입력하신 이름에 모음은 총 7 개 들어있습니다.\n"
          ]
        }
      ]
    },
    {
      "cell_type": "code",
      "source": [
        "# 풀이\n",
        "\n",
        "name = input(\"Enter your name: \")\n",
        "count = 0\n",
        "name = name.lower()\n",
        "for x in name:\n",
        "    if x == \"a\" or x == \"e\" or x == \"i\" or x == \"o\" or x == \"u\":\n",
        "        count = count + 1\n",
        "print(\"Vowels =\", count)"
      ],
      "metadata": {
        "colab": {
          "base_uri": "https://localhost:8080/"
        },
        "id": "OzMxj9CRzWJq",
        "outputId": "a8fc2b18-b47e-4ae8-d86b-d26ac1fab280"
      },
      "execution_count": null,
      "outputs": [
        {
          "output_type": "stream",
          "name": "stdout",
          "text": [
            "Enter your name: Angelina Jolie\n",
            "Vowels = 7\n"
          ]
        }
      ]
    },
    {
      "cell_type": "markdown",
      "source": [
        "## Challenge: 086\n",
        "사용자에게 새로운 비밀번호를 입력하라고 요청하고, 한 번 더 입력하라고 요청한다.\\\n",
        "입력한 두 개의 비밀번호가 일치하면 \"Thank you\"라고 출력한다.\\\n",
        "만약 입력한 문자는 서로 일치하는데 대소문자가 틀리다면 \"They must be in the same case\"라고 출력한다.\\\n",
        "문자가 일치하지 않는다면 \"Incorrect\" 메시지를 출력하라."
      ],
      "metadata": {
        "id": "5lT8goY20vH1"
      }
    },
    {
      "cell_type": "code",
      "source": [
        "# 혼자 풀어보기\n",
        "pw1 = input(\"새로운 비밀번호를 입력하세요: \")\n",
        "pw2 = input(\"비밀번호를 한번 더 입력하세요: \")\n",
        "if pw1 == pw2:\n",
        "    print(\"Thank you\")\n",
        "elif pw1.lower() == pw2.lower():\n",
        "    print(\"They must be in the same case\")\n",
        "else:\n",
        "    print(\"Incorrect\")"
      ],
      "metadata": {
        "colab": {
          "base_uri": "https://localhost:8080/"
        },
        "id": "nYlGyhg2wiYY",
        "outputId": "9d1fcb8a-e153-46f0-b86f-f2fbe95f734e"
      },
      "execution_count": null,
      "outputs": [
        {
          "output_type": "stream",
          "name": "stdout",
          "text": [
            "새로운 비밀번호를 입력하세요: pass202@\n",
            "비밀번호를 한번 더 입력하세요: PaSs202@\n",
            "They must be in the same case\n"
          ]
        }
      ]
    },
    {
      "cell_type": "code",
      "source": [
        "# 풀이\n",
        "pswd1 = input(\"Enter a password: \")\n",
        "pswd2 = input(\"Enter it again: \")\n",
        "if pswd1 == pswd2:\n",
        "    print(\"Thank you\")\n",
        "elif pswd1.lower() == pswd2.lower():\n",
        "    print(\"They must be the same case\")\n",
        "else:\n",
        "    print(\"Incorrect\")"
      ],
      "metadata": {
        "colab": {
          "base_uri": "https://localhost:8080/"
        },
        "id": "pgGI5-haHx0v",
        "outputId": "fa788ea7-6835-4949-955a-5d902eb7e74e"
      },
      "execution_count": 1,
      "outputs": [
        {
          "output_type": "stream",
          "name": "stdout",
          "text": [
            "Enter a password: pass202@\n",
            "Enter it again: PaSs202@\n",
            "They must be the same case\n"
          ]
        }
      ]
    },
    {
      "cell_type": "markdown",
      "source": [
        "## Challenge: 087\n",
        "단어를 입력하라고 요청한 뒤, 그 단어의 문자를 한 줄에 하나씩 거꾸로 출력하라. 예를 들어, 'Hello'라고 입력했다면 한줄씩 o, l, l, e, H 로 출력되게 하라."
      ],
      "metadata": {
        "id": "_zqCY0AR0wPx"
      }
    }
  ]
}