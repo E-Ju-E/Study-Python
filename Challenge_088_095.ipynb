{
  "nbformat": 4,
  "nbformat_minor": 0,
  "metadata": {
    "colab": {
      "provenance": [],
      "authorship_tag": "ABX9TyNLHTVg0tbEwyapntZZbCz/",
      "include_colab_link": true
    },
    "kernelspec": {
      "name": "python3",
      "display_name": "Python 3"
    },
    "language_info": {
      "name": "python"
    }
  },
  "cells": [
    {
      "cell_type": "markdown",
      "metadata": {
        "id": "view-in-github",
        "colab_type": "text"
      },
      "source": [
        "<a href=\"https://colab.research.google.com/github/E-Ju-E/Study-Python/blob/main/Challenge_088_095.ipynb\" target=\"_parent\"><img src=\"https://colab.research.google.com/assets/colab-badge.svg\" alt=\"Open In Colab\"/></a>"
      ]
    },
    {
      "cell_type": "markdown",
      "source": [
        "### **Python: 150 Challenges**"
      ],
      "metadata": {
        "id": "N86dy9elZRst"
      }
    },
    {
      "cell_type": "markdown",
      "source": [
        "## 예제 코드"
      ],
      "metadata": {
        "id": "AVgLXrJeZoME"
      }
    },
    {
      "cell_type": "markdown",
      "source": [
        "\n",
        "\n",
        "* 파이썬이 배열 라이브러리를 사용할 수 있도록 프로그램의 첫 번째 줄에 위치해야 함.\n",
        "```\n",
        "from array import *\n",
        "```\n",
        "* 'nums'라는 이름의 배열을 생성함. 정수 데이터 타입을 이용하며, 다섯 개의 항목이 배열에 있음. 이것은 다음과 같이 출력됨.\n",
        "```\n",
        "# 입력\n",
        "nums = array('i',[45,324,654,45,264])\n",
        "```\n",
        "```\n",
        "# 출력\n",
        "array('i',[45, 324, 654, 45, 264])\n",
        "```\n",
        "* 각 항목을 하나씩 출력함.\n",
        "```\n",
        "for x in nums:\n",
        "    print(x)\n",
        "```\n",
        "* 배열의 순서를 반대로 함.\n",
        "```\n",
        "nums.reverse()\n",
        "```\n",
        "* 사용자에게 새로운 숫자를 입력하라고 요청하며, 입력된 값은 기존의 배열 끝에 추가됨.\n",
        "```\n",
        "newValue = int(input(\"Enter number: \"))\n",
        "nums.append(newValue)\n",
        "```\n",
        "* 배열을 오름차순으로 정렬함.\n",
        "```\n",
        "nums = sorted(nums)\n",
        "```\n",
        "* 배열의 마지막 항목을 제거함.\n",
        "```\n",
        "nums.pop()\n",
        "```\n",
        "* 정수 데이터 타입을 사용하는 'newArray'라는 이름의 빈 배열을 생성함. 사용자에게 몇 개의 항목을 추가할 것인지 묻고, 그만큼의 항목을 newArray에 추가함. 모든 항목을 추가했다면 newArray의 항목을 nums 배열과 결합함.\n",
        "```\n",
        "newArray = array('i',[])\n",
        "more = int(input(\"How many itmes: \"))\n",
        "for y in range(0,more):\n",
        "    newValue=int(input(\"Enter num: \"))\n",
        "    newArray.append(newValue)\n",
        "nums.extend(newArray)\n",
        "```\n",
        "* 사용자에게 제거할 항목을 입력하도록 요청한 다음, 입력한 값과 일치하는 첫 번째 항목을 배열에서 제거함.\n",
        "```\n",
        "getRid = int(input(\"Enter item index: \"))\n",
        "nums.remove(getRid)\n",
        "```\n",
        "* 이것은 배열에서 45가 몇 개 들어 있는지를 출력함.\n",
        "```\n",
        "print(nums.count(45))\n",
        "```"
      ],
      "metadata": {
        "id": "JBO5NPWf6MZL"
      }
    },
    {
      "cell_type": "markdown",
      "source": [
        "## Challenge: 088\n",
        "다섯 개의 정수를 입력받아 배열에 저장한다. 정렬을 한 후 역순으로 표시하라."
      ],
      "metadata": {
        "id": "3wNJhFDE0ptH"
      }
    },
    {
      "cell_type": "markdown",
      "source": [
        "## Challenge: 089\n",
        "정수들을 저장할 배열을 생성한다. 임의의 수 다섯 개를 생성하고 배열에 저장한다. 배열의 항목을 한 줄에 하나씩 출력하라."
      ],
      "metadata": {
        "id": "Q-yWh-8G85tC"
      }
    },
    {
      "cell_type": "markdown",
      "source": [
        "## Challenge: 090\n",
        "사용자에게 숫자를 입력하라고 요청한다. 10에서 20 사이의 숫자를 입력한다면 배열에 저장한다. 다른 값이라면 \"Outside the range\"라는 메시지를 출력한다. 다섯 개의 숫자가 입력되었다면 \"Thank you\" 메시지를 출력하고 배열의 항목을 한 줄에 하나씩 출력하라."
      ],
      "metadata": {
        "id": "bgWVlJZJ87Sw"
      }
    },
    {
      "cell_type": "markdown",
      "source": [
        "## Challenge: 091\n",
        "다섯 개의 숫자(이 숫자들 중 2개는 반복되어야 함)를 담고 있는 배열을 생성한다. 사용자에게 배열 전체를 출력한다. 사용자에게 배열 속에 있는 숫자들 중 하나를 입력하라고 요청한 뒤, 입력한 숫자가 리스트에 몇 개 있는지 메시지를 표시하라."
      ],
      "metadata": {
        "id": "eVS2ep8T88no"
      }
    },
    {
      "cell_type": "markdown",
      "source": [
        "## Challenge: 092\n",
        "두 개의 빈 배열을 생성한다. 하나에는 사용자가 입력할 숫자 세 개를 담을 것이고, 다른 하나에는 다섯 개의 임의의 숫자를 담을 것이다. 두 개의 배열을 큰 배열 하나로 결합한다. 결합한 배열을 정렬하고 각 항목을 한 줄에 하나씩 출력하라."
      ],
      "metadata": {
        "id": "Ey8c6VrN891A"
      }
    },
    {
      "cell_type": "markdown",
      "source": [
        "## Challenge: 093\n",
        "사용자에게 숫자 다섯 개를 입력하라고 요청한다. 입력된 숫자를 정렬하고 사용자에게 표시한다. 배열의 숫자들 중 하나를 고르라고 사용자에게 요청한다. 입력된 숫자를 배열에서 삭제하고 새로운 배열에 그 값을 저장하라."
      ],
      "metadata": {
        "id": "X4_jVjW68-yi"
      }
    },
    {
      "cell_type": "markdown",
      "source": [
        "## Challenge: 094\n",
        "다섯 개의 숫자들을 가진 배열을 출력한다. 숫자들 중 하나를 고르라고 사용자에게 요청한다. 사용자가 숫자를 고르면 그 항목의 위치(인덱스)를 출력한다. 만약 사용자가 입력한 숫자가 배열 안에 없다면 올바른 숫자를 입력할 때까지 다시 요청하라."
      ],
      "metadata": {
        "id": "TkfWkGdc8_3k"
      }
    },
    {
      "cell_type": "markdown",
      "source": [
        "## Challenge: 095\n",
        "소수점 이하 두 자리가 있는 10과 100 사이의 숫자 다섯 개를 포함하는 배열을 생성한다. 사용자에게 2와 5 사이의 정수를 입력하도록 요청한다. 입력한 숫자가 범위에 없는 수자라면 적절한 에러 메시지를 출력하고 다시 입력하라고 한다. 배열에 있는 각 숫자를 사용자가 입력한 숫자로 나누고 소수점 둘째 자리까지 표시하라."
      ],
      "metadata": {
        "id": "eKfHL8Ur9BpG"
      }
    }
  ]
}