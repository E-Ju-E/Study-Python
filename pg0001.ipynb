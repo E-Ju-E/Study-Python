{
  "nbformat": 4,
  "nbformat_minor": 0,
  "metadata": {
    "colab": {
      "provenance": [],
      "authorship_tag": "ABX9TyMgrXCmUXvfmf+rVJcmLKON",
      "include_colab_link": true
    },
    "kernelspec": {
      "name": "python3",
      "display_name": "Python 3"
    },
    "language_info": {
      "name": "python"
    }
  },
  "cells": [
    {
      "cell_type": "markdown",
      "metadata": {
        "id": "view-in-github",
        "colab_type": "text"
      },
      "source": [
        "<a href=\"https://colab.research.google.com/github/E-Ju-E/Study-Python/blob/main/pg0001.ipynb\" target=\"_parent\"><img src=\"https://colab.research.google.com/assets/colab-badge.svg\" alt=\"Open In Colab\"/></a>"
      ]
    },
    {
      "cell_type": "code",
      "execution_count": 6,
      "metadata": {
        "colab": {
          "base_uri": "https://localhost:8080/"
        },
        "id": "NPqNLoe3CI7m",
        "outputId": "e6b4f1e0-c3a0-493c-9ace-d5923ac5f5df"
      },
      "outputs": [
        {
          "output_type": "stream",
          "name": "stdout",
          "text": [
            "323\n",
            "54\n",
            "34884\n"
          ]
        }
      ],
      "source": [
        "def solution(a, b):\n",
        "    x = int(str(a)+str(b))\n",
        "    y = 2*int(a)*int(b)\n",
        "    if x >= y:\n",
        "        answer = x\n",
        "    else:\n",
        "        answer = y\n",
        "    return answer\n",
        "\n",
        "a = input()\n",
        "b = input()\n",
        "print (solution(a, b))"
      ]
    }
  ]
}