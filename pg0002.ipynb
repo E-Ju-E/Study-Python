{
  "nbformat": 4,
  "nbformat_minor": 0,
  "metadata": {
    "colab": {
      "provenance": [],
      "authorship_tag": "ABX9TyPcsNYwbfnyyVUQf7UJRmNF",
      "include_colab_link": true
    },
    "kernelspec": {
      "name": "python3",
      "display_name": "Python 3"
    },
    "language_info": {
      "name": "python"
    }
  },
  "cells": [
    {
      "cell_type": "markdown",
      "metadata": {
        "id": "view-in-github",
        "colab_type": "text"
      },
      "source": [
        "<a href=\"https://colab.research.google.com/github/E-Ju-E/Study-Python/blob/main/pg0002.ipynb\" target=\"_parent\"><img src=\"https://colab.research.google.com/assets/colab-badge.svg\" alt=\"Open In Colab\"/></a>"
      ]
    },
    {
      "cell_type": "code",
      "execution_count": 9,
      "metadata": {
        "colab": {
          "base_uri": "https://localhost:8080/"
        },
        "id": "NPqNLoe3CI7m",
        "outputId": "572f90ab-e8a7-4dbc-8cd5-2333c650f32b"
      },
      "outputs": [
        {
          "output_type": "stream",
          "name": "stdout",
          "text": [
            "46\n",
            "17296\n"
          ]
        }
      ],
      "source": [
        "def solution(n):\n",
        "    answer = 0\n",
        "    n = int(n)\n",
        "    if n % 2 == 0:\n",
        "        for i in range(0,int(n/2)):\n",
        "            answer = answer + (n - 2*i)**2\n",
        "    else:\n",
        "        for i in range(0, int(n/2 + 1)):\n",
        "            answer = answer + (n - 2*i)\n",
        "    return answer\n",
        "\n",
        "n = input()\n",
        "print (solution(n))"
      ]
    }
  ]
}