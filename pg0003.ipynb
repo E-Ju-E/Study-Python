{
  "nbformat": 4,
  "nbformat_minor": 0,
  "metadata": {
    "colab": {
      "provenance": [],
      "authorship_tag": "ABX9TyMT4sIbAywi3mYtcqs5BRDd",
      "include_colab_link": true
    },
    "kernelspec": {
      "name": "python3",
      "display_name": "Python 3"
    },
    "language_info": {
      "name": "python"
    }
  },
  "cells": [
    {
      "cell_type": "markdown",
      "metadata": {
        "id": "view-in-github",
        "colab_type": "text"
      },
      "source": [
        "<a href=\"https://colab.research.google.com/github/E-Ju-E/Study-Python/blob/main/pg0003.ipynb\" target=\"_parent\"><img src=\"https://colab.research.google.com/assets/colab-badge.svg\" alt=\"Open In Colab\"/></a>"
      ]
    },
    {
      "cell_type": "code",
      "execution_count": 2,
      "metadata": {
        "colab": {
          "base_uri": "https://localhost:8080/"
        },
        "id": "NPqNLoe3CI7m",
        "outputId": "116af63b-de39-4894-b3ea-6794491ee6c7"
      },
      "outputs": [
        {
          "output_type": "stream",
          "name": "stdout",
          "text": [
            "46\n",
            "[1, 3, 5, 7, 9, 11, 13, 15, 17, 19, 21, 23, 25, 27, 29, 31, 33, 35, 37, 39, 41, 43, 45]\n"
          ]
        }
      ],
      "source": [
        "def solution(n):\n",
        "    array = []\n",
        "    n = int(n)\n",
        "    for i in range(0, n):\n",
        "        if n%2 != 0:\n",
        "            k = n - 2*i\n",
        "            if k > 0:\n",
        "                array.append(k)\n",
        "        else:\n",
        "            k = n - (2*i + 1)\n",
        "            if k > 0:\n",
        "                array.append(k)\n",
        "    return sorted(array)\n",
        "\n",
        "n = input()\n",
        "print (solution(n))"
      ]
    }
  ]
}