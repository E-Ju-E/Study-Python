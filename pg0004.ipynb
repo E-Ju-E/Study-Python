{
  "nbformat": 4,
  "nbformat_minor": 0,
  "metadata": {
    "colab": {
      "provenance": [],
      "authorship_tag": "ABX9TyMKGclrFSF3d2XMNVntxgQ6",
      "include_colab_link": true
    },
    "kernelspec": {
      "name": "python3",
      "display_name": "Python 3"
    },
    "language_info": {
      "name": "python"
    }
  },
  "cells": [
    {
      "cell_type": "markdown",
      "metadata": {
        "id": "view-in-github",
        "colab_type": "text"
      },
      "source": [
        "<a href=\"https://colab.research.google.com/github/E-Ju-E/Study-Python/blob/main/pg0004.ipynb\" target=\"_parent\"><img src=\"https://colab.research.google.com/assets/colab-badge.svg\" alt=\"Open In Colab\"/></a>"
      ]
    },
    {
      "cell_type": "code",
      "source": [
        "a = input()\n",
        "b = list(a)\n",
        "for i in range(0, len(a)):\n",
        "    c = b[i]\n",
        "    if c.isupper() == 1:\n",
        "        print(c.lower(), end=\"\")\n",
        "    else:\n",
        "        print(c.upper(), end=\"\")"
      ],
      "metadata": {
        "colab": {
          "base_uri": "https://localhost:8080/"
        },
        "id": "5ahlburEL2z4",
        "outputId": "f21fa032-5b44-4597-ac55-be180b29b00c"
      },
      "execution_count": null,
      "outputs": [
        {
          "output_type": "stream",
          "name": "stdout",
          "text": [
            "dWdkwEEleEld\n",
            "DwDKWeeLEeLD"
          ]
        }
      ]
    },
    {
      "cell_type": "code",
      "source": [
        "def solution(a, b):\n",
        "    case1 = str(a) + str(b)\n",
        "    case2 = str(b) + str(a)\n",
        "    if int(case1) > int(case2):\n",
        "        return int(case1)\n",
        "    else:\n",
        "        return int(case2)\n",
        "\n",
        "a = input()\n",
        "b = input()\n",
        "print(solution(a,b))"
      ],
      "metadata": {
        "colab": {
          "base_uri": "https://localhost:8080/"
        },
        "id": "teQKCOBPrraR",
        "outputId": "40c16ab0-2d4f-42e3-dd82-599e961ccadb"
      },
      "execution_count": null,
      "outputs": [
        {
          "output_type": "stream",
          "name": "stdout",
          "text": [
            "362\n",
            "43\n",
            "43362\n"
          ]
        }
      ]
    },
    {
      "cell_type": "code",
      "source": [
        "def solution(n):\n",
        "    array = []\n",
        "    n = int(n)\n",
        "    for i in range(0, n):\n",
        "        if n % 2 != 0:\n",
        "            k = n - 2*i\n",
        "            if k > 0:\n",
        "                array.append(k)\n",
        "        else:\n",
        "            k = n - (2*i + 1)\n",
        "            if k > 0:\n",
        "                array.append(k)\n",
        "    return sorted(array)\n",
        "\n",
        "n = input()\n",
        "solution(n)"
      ],
      "metadata": {
        "colab": {
          "base_uri": "https://localhost:8080/"
        },
        "id": "w2SUjbU4xt5b",
        "outputId": "1de813f1-b57b-43a4-ac56-ff0c63d4b821"
      },
      "execution_count": null,
      "outputs": [
        {
          "name": "stdout",
          "output_type": "stream",
          "text": [
            "17\n"
          ]
        },
        {
          "output_type": "execute_result",
          "data": {
            "text/plain": [
              "[1, 3, 5, 7, 9, 11, 13, 15, 17]"
            ]
          },
          "metadata": {},
          "execution_count": 7
        }
      ]
    },
    {
      "cell_type": "code",
      "source": [
        "def solution(a,b):\n",
        "    sol = a + b\n",
        "    return sol\n",
        "\n",
        "solution(4,6)"
      ],
      "metadata": {
        "colab": {
          "base_uri": "https://localhost:8080/"
        },
        "id": "9V7ijULM4ccR",
        "outputId": "2d639bd1-c280-46af-f6dc-675c7e4fcbc3"
      },
      "execution_count": 3,
      "outputs": [
        {
          "output_type": "execute_result",
          "data": {
            "text/plain": [
              "10"
            ]
          },
          "metadata": {},
          "execution_count": 3
        }
      ]
    },
    {
      "cell_type": "code",
      "source": [
        "def solution(a,b,c):\n",
        "    sol = a*b*(b+c)//a\n",
        "    return sol\n",
        "solution(1,3,4)"
      ],
      "metadata": {
        "colab": {
          "base_uri": "https://localhost:8080/"
        },
        "id": "QIl9LIBTCGDb",
        "outputId": "096c0089-fc3c-44b7-c006-aa671f33714f"
      },
      "execution_count": 8,
      "outputs": [
        {
          "output_type": "execute_result",
          "data": {
            "text/plain": [
              "21"
            ]
          },
          "metadata": {},
          "execution_count": 8
        }
      ]
    }
  ]
}