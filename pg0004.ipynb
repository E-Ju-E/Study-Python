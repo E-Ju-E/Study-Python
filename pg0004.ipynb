{
  "nbformat": 4,
  "nbformat_minor": 0,
  "metadata": {
    "colab": {
      "provenance": [],
      "authorship_tag": "ABX9TyMxKPk+ThGb9XyMD3uU4Z78",
      "include_colab_link": true
    },
    "kernelspec": {
      "name": "python3",
      "display_name": "Python 3"
    },
    "language_info": {
      "name": "python"
    }
  },
  "cells": [
    {
      "cell_type": "markdown",
      "metadata": {
        "id": "view-in-github",
        "colab_type": "text"
      },
      "source": [
        "<a href=\"https://colab.research.google.com/github/E-Ju-E/Study-Python/blob/main/pg0004.ipynb\" target=\"_parent\"><img src=\"https://colab.research.google.com/assets/colab-badge.svg\" alt=\"Open In Colab\"/></a>"
      ]
    },
    {
      "cell_type": "code",
      "source": [
        "a = input()\n",
        "b = list(a)\n",
        "for i in range(0, len(a)):\n",
        "    c = b[i]\n",
        "    if c.isupper() == 1:\n",
        "        print(c.lower(), end=\"\")\n",
        "    else:\n",
        "        print(c.upper(), end=\"\")"
      ],
      "metadata": {
        "colab": {
          "base_uri": "https://localhost:8080/"
        },
        "id": "5ahlburEL2z4",
        "outputId": "f21fa032-5b44-4597-ac55-be180b29b00c"
      },
      "execution_count": 2,
      "outputs": [
        {
          "output_type": "stream",
          "name": "stdout",
          "text": [
            "dWdkwEEleEld\n",
            "DwDKWeeLEeLD"
          ]
        }
      ]
    }
  ]
}