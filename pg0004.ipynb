{
  "nbformat": 4,
  "nbformat_minor": 0,
  "metadata": {
    "colab": {
      "provenance": [],
      "authorship_tag": "ABX9TyNFkenH1i62HY9TPsKhW1iH",
      "include_colab_link": true
    },
    "kernelspec": {
      "name": "python3",
      "display_name": "Python 3"
    },
    "language_info": {
      "name": "python"
    }
  },
  "cells": [
    {
      "cell_type": "markdown",
      "metadata": {
        "id": "view-in-github",
        "colab_type": "text"
      },
      "source": [
        "<a href=\"https://colab.research.google.com/github/E-Ju-E/Study-Python/blob/main/pg0004.ipynb\" target=\"_parent\"><img src=\"https://colab.research.google.com/assets/colab-badge.svg\" alt=\"Open In Colab\"/></a>"
      ]
    },
    {
      "cell_type": "code",
      "source": [
        "a = input()\n",
        "b = list(a)\n",
        "for i in range(0, len(a)):\n",
        "    c = b[i]\n",
        "    if c.isupper() == 1:\n",
        "        print(c.lower(), end=\"\")\n",
        "    else:\n",
        "        print(c.upper(), end=\"\")"
      ],
      "metadata": {
        "colab": {
          "base_uri": "https://localhost:8080/"
        },
        "id": "5ahlburEL2z4",
        "outputId": "f21fa032-5b44-4597-ac55-be180b29b00c"
      },
      "execution_count": null,
      "outputs": [
        {
          "output_type": "stream",
          "name": "stdout",
          "text": [
            "dWdkwEEleEld\n",
            "DwDKWeeLEeLD"
          ]
        }
      ]
    },
    {
      "cell_type": "code",
      "source": [
        "def solution(a, b):\n",
        "    case1 = str(a) + str(b)\n",
        "    case2 = str(b) + str(a)\n",
        "    if int(case1) > int(case2):\n",
        "        return int(case1)\n",
        "    else:\n",
        "        return int(case2)\n",
        "\n",
        "a = input()\n",
        "b = input()\n",
        "print(solution(a,b))"
      ],
      "metadata": {
        "colab": {
          "base_uri": "https://localhost:8080/"
        },
        "id": "teQKCOBPrraR",
        "outputId": "40c16ab0-2d4f-42e3-dd82-599e961ccadb"
      },
      "execution_count": 1,
      "outputs": [
        {
          "output_type": "stream",
          "name": "stdout",
          "text": [
            "362\n",
            "43\n",
            "43362\n"
          ]
        }
      ]
    }
  ]
}